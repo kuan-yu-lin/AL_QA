{
 "cells": [
  {
   "attachments": {},
   "cell_type": "markdown",
   "metadata": {},
   "source": [
    "# Question Answering Model \n",
    "\n",
    "- dataset\n",
    "- torch\n",
    "- transformers\n",
    "- transformers[torch]\n",
    "- evaluate"
   ]
  },
  {
   "attachments": {},
   "cell_type": "markdown",
   "metadata": {},
   "source": [
    "### import packages"
   ]
  },
  {
   "cell_type": "code",
   "execution_count": 2,
   "metadata": {},
   "outputs": [
    {
     "name": "stderr",
     "output_type": "stream",
     "text": [
      "/mount/studenten-temp1/users/linku/AL_QA/.venv/lib64/python3.10/site-packages/tqdm/auto.py:21: TqdmWarning: IProgress not found. Please update jupyter and ipywidgets. See https://ipywidgets.readthedocs.io/en/stable/user_install.html\n",
      "  from .autonotebook import tqdm as notebook_tqdm\n"
     ]
    }
   ],
   "source": [
    "from datasets import load_dataset\n",
    "from transformers import (\n",
    "    AutoTokenizer,\n",
    "    DefaultDataCollator,\n",
    "    AutoModelForQuestionAnswering,\n",
    "    TrainingArguments,\n",
    "    Trainer\n",
    ")\n",
    "import torch\n",
    "\n",
    "import evaluate\n",
    "import collections\n",
    "from tqdm.auto import tqdm\n",
    "import numpy as np\n",
    "\n",
    "import warnings\n",
    "import sys\n",
    "import os\n",
    "import re\n",
    "import datetime"
   ]
  },
  {
   "attachments": {},
   "cell_type": "markdown",
   "metadata": {},
   "source": [
    "Set cache directory if desired.\n",
    "If you do not set a cache directory, then default values are used (usually '~/.cache')"
   ]
  },
  {
   "cell_type": "code",
   "execution_count": 3,
   "metadata": {},
   "outputs": [
    {
     "name": "stdout",
     "output_type": "stream",
     "text": [
      "env: TRANSFORMERS_CACHE=/mount/studenten-temp1/users/linku/AL_QA/cache\n",
      "env: HF_MODULES_CACHE=/mount/studenten-temp1/users/linku/AL_QA/cache\n",
      "env: HF_DATASETS_CACHE=/mount/studenten-temp1/users/linku/AL_QA/cache\n"
     ]
    }
   ],
   "source": [
    "CACHE_DIR=os.path.abspath(os.path.expanduser('cache'))\n",
    "%set_env TRANSFORMERS_CACHE $CACHE_DIR\n",
    "%set_env HF_MODULES_CACHE $CACHE_DIR\n",
    "%set_env HF_DATASETS_CACHE $CACHE_DIR"
   ]
  },
  {
   "attachments": {},
   "cell_type": "markdown",
   "metadata": {},
   "source": [
    "### arguments.py\n",
    "\n",
    "args_input."
   ]
  },
  {
   "cell_type": "code",
   "execution_count": 4,
   "metadata": {},
   "outputs": [],
   "source": [
    "args_input_ALstrategy = 'RandomSampling'\n",
    "args_input_initseed = 100 # 1000\n",
    "args_input_quota = 100 # 1000\n",
    "args_input_batch = 35 # 128\n",
    "args_input_dataset_name = 'SQuAD'\n",
    "args_input_iteration = 3"
   ]
  },
  {
   "attachments": {},
   "cell_type": "markdown",
   "metadata": {},
   "source": [
    "### load dataset"
   ]
  },
  {
   "cell_type": "code",
   "execution_count": 5,
   "metadata": {},
   "outputs": [
    {
     "name": "stderr",
     "output_type": "stream",
     "text": [
      "Found cached dataset squad (/home/users1/linku/.cache/huggingface/datasets/squad/plain_text/1.0.0/d6ec3ceb99ca480ce37cdd35555d6cb2511d223b9150cce08a837ef62ffea453)\n",
      "100%|██████████| 2/2 [00:00<00:00, 98.64it/s]\n"
     ]
    }
   ],
   "source": [
    "squad = load_dataset(\"squad\")\n",
    "# squad[\"train\"] = squad[\"train\"].shuffle(42).select(range(2000))\n",
    "squad[\"train\"] = squad[\"train\"].select(range(10000))\n",
    "squad[\"validation\"] = squad[\"validation\"].select(range(5000))"
   ]
  },
  {
   "attachments": {},
   "cell_type": "markdown",
   "metadata": {},
   "source": [
    "Next we will preprocess the dataset (training and evaluation data)."
   ]
  },
  {
   "cell_type": "code",
   "execution_count": 6,
   "metadata": {},
   "outputs": [],
   "source": [
    "def preprocess_training_examples(examples):\n",
    "    questions = [q.strip() for q in examples[\"question\"]]\n",
    "    inputs = tokenizer(\n",
    "        questions,\n",
    "        examples[\"context\"],\n",
    "        max_length=max_length,\n",
    "        truncation=\"only_second\",\n",
    "        stride=stride,\n",
    "        return_overflowing_tokens=True,\n",
    "        return_offsets_mapping=True,\n",
    "        padding=\"max_length\",\n",
    "    )\n",
    "\n",
    "    offset_mapping = inputs.pop(\"offset_mapping\")\n",
    "    sample_map = inputs.pop(\"overflow_to_sample_mapping\")\n",
    "    answers = examples[\"answers\"]\n",
    "    start_positions = []\n",
    "    end_positions = []\n",
    "\n",
    "    for i, offset in enumerate(offset_mapping):\n",
    "        sample_idx = sample_map[i]\n",
    "        answer = answers[sample_idx]\n",
    "        start_char = answer[\"answer_start\"][0]\n",
    "        end_char = answer[\"answer_start\"][0] + len(answer[\"text\"][0])\n",
    "        sequence_ids = inputs.sequence_ids(i)\n",
    "\n",
    "        # Find the start and end of the context\n",
    "        idx = 0\n",
    "        while sequence_ids[idx] != 1:\n",
    "            idx += 1\n",
    "        context_start = idx\n",
    "        while sequence_ids[idx] == 1:\n",
    "            idx += 1\n",
    "        context_end = idx - 1\n",
    "\n",
    "        # If the answer is not fully inside the context, label is (0, 0)\n",
    "        if offset[context_start][0] > start_char or offset[context_end][1] < end_char:\n",
    "            start_positions.append(0)\n",
    "            end_positions.append(0)\n",
    "        else:\n",
    "            # Otherwise it's the start and end token positions\n",
    "            idx = context_start\n",
    "            while idx <= context_end and offset[idx][0] <= start_char:\n",
    "                idx += 1\n",
    "            start_positions.append(idx - 1)\n",
    "\n",
    "            idx = context_end\n",
    "            while idx >= context_start and offset[idx][1] >= end_char:\n",
    "                idx -= 1\n",
    "            end_positions.append(idx + 1)\n",
    "\n",
    "    inputs[\"start_positions\"] = start_positions\n",
    "    inputs[\"end_positions\"] = end_positions\n",
    "    return inputs"
   ]
  },
  {
   "cell_type": "code",
   "execution_count": 7,
   "metadata": {},
   "outputs": [],
   "source": [
    "def preprocess_validation_examples(examples):\n",
    "    questions = [q.strip() for q in examples[\"question\"]]\n",
    "    inputs = tokenizer(\n",
    "        questions,\n",
    "        examples[\"context\"],\n",
    "        max_length=max_length,\n",
    "        truncation=\"only_second\",\n",
    "        stride=stride,\n",
    "        return_overflowing_tokens=True,\n",
    "        return_offsets_mapping=True,\n",
    "        padding=\"max_length\",\n",
    "    )\n",
    "\n",
    "    sample_map = inputs.pop(\"overflow_to_sample_mapping\")\n",
    "    example_ids = []\n",
    "\n",
    "    for i in range(len(inputs[\"input_ids\"])):\n",
    "        sample_idx = sample_map[i]\n",
    "        example_ids.append(examples[\"id\"][sample_idx])\n",
    "\n",
    "        sequence_ids = inputs.sequence_ids(i)\n",
    "        offset = inputs[\"offset_mapping\"][i]\n",
    "        inputs[\"offset_mapping\"][i] = [\n",
    "            o if sequence_ids[k] == 1 else None for k, o in enumerate(offset)\n",
    "        ]\n",
    "\n",
    "    inputs[\"example_id\"] = example_ids\n",
    "    return inputs"
   ]
  },
  {
   "cell_type": "code",
   "execution_count": 8,
   "metadata": {},
   "outputs": [
    {
     "name": "stderr",
     "output_type": "stream",
     "text": [
      "Loading cached processed dataset at /home/users1/linku/.cache/huggingface/datasets/squad/plain_text/1.0.0/d6ec3ceb99ca480ce37cdd35555d6cb2511d223b9150cce08a837ef62ffea453/cache-eb4de106e488b6a5.arrow\n",
      "Loading cached processed dataset at /home/users1/linku/.cache/huggingface/datasets/squad/plain_text/1.0.0/d6ec3ceb99ca480ce37cdd35555d6cb2511d223b9150cce08a837ef62ffea453/cache-1b312b9152f873ba.arrow\n"
     ]
    }
   ],
   "source": [
    "max_length = 384\n",
    "stride = 128\n",
    "\n",
    "# load tokenizer for dataset preprocessing\n",
    "tokenizer = AutoTokenizer.from_pretrained(\"bert-base-uncased\") ### done\n",
    "# preprocess data\n",
    "train_dataset = squad[\"train\"].map(\n",
    "    preprocess_training_examples,\n",
    "    batched=True,\n",
    "    remove_columns=squad[\"train\"].column_names,\n",
    ")\n",
    "val_dataset = squad[\"validation\"].map(\n",
    "    preprocess_validation_examples,\n",
    "    batched=True,\n",
    "    remove_columns=squad[\"validation\"].column_names,\n",
    ")"
   ]
  },
  {
   "attachments": {},
   "cell_type": "markdown",
   "metadata": {},
   "source": [
    "## Evaluation"
   ]
  },
  {
   "cell_type": "code",
   "execution_count": 9,
   "metadata": {},
   "outputs": [],
   "source": [
    "metric = evaluate.load(\"squad\")"
   ]
  },
  {
   "cell_type": "code",
   "execution_count": 10,
   "metadata": {},
   "outputs": [],
   "source": [
    "def compute_metrics(start_logits, end_logits, features, examples):\n",
    "    \n",
    "    example_to_features = collections.defaultdict(list)\n",
    "    max_answer_length = 30\n",
    "    n_best = 20\n",
    "    for idx, feature in enumerate(features):\n",
    "        example_to_features[feature[\"example_id\"]].append(idx)\n",
    "\n",
    "    predicted_answers = []\n",
    "    for example in tqdm(examples):\n",
    "        example_id = example[\"id\"]\n",
    "        context = example[\"context\"]\n",
    "        answers = []\n",
    "\n",
    "        # Loop through all features associated with that example\n",
    "        for feature_index in example_to_features[example_id]:\n",
    "            start_logit = start_logits[feature_index]\n",
    "            end_logit = end_logits[feature_index]\n",
    "            offsets = features[feature_index][\"offset_mapping\"]\n",
    "\n",
    "            start_indexes = np.argsort(start_logit)[-1 : -n_best - 1 : -1].tolist()\n",
    "            end_indexes = np.argsort(end_logit)[-1 : -n_best - 1 : -1].tolist()\n",
    "            for start_index in start_indexes:\n",
    "                for end_index in end_indexes:\n",
    "                    # Skip answers that are not fully in the context\n",
    "                    if offsets[start_index] is None or offsets[end_index] is None:\n",
    "                        continue\n",
    "                    # Skip answers with a length that is either < 0 or > max_answer_length\n",
    "                    if (\n",
    "                        end_index < start_index\n",
    "                        or end_index - start_index + 1 > max_answer_length\n",
    "                    ):\n",
    "                        continue\n",
    "\n",
    "                    answer = {\n",
    "                        \"text\": context[offsets[start_index][0] : offsets[end_index][1]],\n",
    "                        \"logit_score\": start_logit[start_index] + end_logit[end_index],\n",
    "                    }\n",
    "                    answers.append(answer)\n",
    "\n",
    "        # Select the answer with the best score\n",
    "        if len(answers) > 0:\n",
    "            best_answer = max(answers, key=lambda x: x[\"logit_score\"])\n",
    "            predicted_answers.append(\n",
    "                {\"id\": example_id, \"prediction_text\": best_answer[\"text\"]}\n",
    "            )\n",
    "        else:\n",
    "            predicted_answers.append({\"id\": example_id, \"prediction_text\": \"\"})\n",
    "\n",
    "    theoretical_answers = [{\"id\": ex[\"id\"], \"answers\": ex[\"answers\"]} for ex in examples]\n",
    "    return metric.compute(predictions=predicted_answers, references=theoretical_answers)"
   ]
  },
  {
   "cell_type": "code",
   "execution_count": 11,
   "metadata": {},
   "outputs": [],
   "source": [
    "class Logger(object):\n",
    "\tdef __init__(self, filename=\"Default.log\"):\n",
    "\t\tself.terminal = sys.stdout\n",
    "\t\tself.log = open(filename, \"a\")\n",
    "\n",
    "\tdef write(self, message):\n",
    "\t\tself.terminal.write(message)\n",
    "\t\tself.log.write(message)\n",
    "\n",
    "\tdef flush(self):\n",
    "\t\tpass"
   ]
  },
  {
   "cell_type": "code",
   "execution_count": 12,
   "metadata": {},
   "outputs": [],
   "source": [
    "def get_aubc(quota, bsize, resseq):\n",
    "\t# it is equal to use np.trapz for calculation\n",
    "\tressum = 0.0\n",
    "\tif quota % bsize == 0:\n",
    "\t\tfor i in range(len(resseq)-1):\n",
    "\t\t\tressum = ressum + (resseq[i+1] + resseq[i]) * bsize / 2\n",
    "\n",
    "\telse:\n",
    "\t\tfor i in range(len(resseq)-2):\n",
    "\t\t\tressum = ressum + (resseq[i+1] + resseq[i]) * bsize / 2\n",
    "\t\tk = quota % bsize\n",
    "\t\tressum = ressum + ((resseq[-1] + resseq[-2]) * k / 2)\n",
    "\tressum = round(ressum / quota,3)\n",
    "\t\n",
    "\treturn ressum"
   ]
  },
  {
   "cell_type": "code",
   "execution_count": 13,
   "metadata": {},
   "outputs": [],
   "source": [
    "def get_mean_stddev(datax):\n",
    "\treturn round(np.mean(datax),4),round(np.std(datax),4)"
   ]
  },
  {
   "attachments": {},
   "cell_type": "markdown",
   "metadata": {},
   "source": [
    "# main.py"
   ]
  },
  {
   "attachments": {},
   "cell_type": "markdown",
   "metadata": {},
   "source": [
    "### parameters"
   ]
  },
  {
   "cell_type": "code",
   "execution_count": 14,
   "metadata": {},
   "outputs": [],
   "source": [
    "NUM_QUERY = args_input_batch\n",
    "NUM_INIT_LB = args_input_initseed\n",
    "NUM_ROUND = int(args_input_quota / args_input_batch)\n",
    "DATA_NAME = args_input_dataset_name\n",
    "STRATEGY_NAME = args_input_ALstrategy"
   ]
  },
  {
   "attachments": {},
   "cell_type": "markdown",
   "metadata": {},
   "source": [
    "### seed and device"
   ]
  },
  {
   "cell_type": "code",
   "execution_count": 15,
   "metadata": {},
   "outputs": [],
   "source": [
    "SEED = 4666\n",
    "os.environ['TORCH_HOME']='./basicmodel'\n",
    "os.environ[\"CUDA_VISIBLE_DEVICES\"] = str(1)\n",
    "\n",
    "# fix random seed\n",
    "np.random.seed(SEED)\n",
    "torch.manual_seed(SEED)\n",
    "# torch.backends.cudnn.enabled  = True\n",
    "# torch.backends.cudnn.benchmark= True\n",
    "\n",
    "device = torch.device(\"cuda\" if torch.cuda.is_available() else \"cpu\")"
   ]
  },
  {
   "attachments": {},
   "cell_type": "markdown",
   "metadata": {},
   "source": [
    "### recording"
   ]
  },
  {
   "cell_type": "code",
   "execution_count": 16,
   "metadata": {},
   "outputs": [],
   "source": [
    "sys.stdout = Logger(os.path.abspath('') + '/logfile/' + DATA_NAME+ '_'  + STRATEGY_NAME + '_' + str(NUM_QUERY) + '_' + str(NUM_INIT_LB) +  '_' + str(1000) + '_normal_log.txt')\n",
    "warnings.filterwarnings('ignore')\n",
    "\n",
    "# start experiment\n",
    "iteration = args_input_iteration\n",
    "\n",
    "all_acc = []\n",
    "acq_time = []"
   ]
  },
  {
   "cell_type": "code",
   "execution_count": 20,
   "metadata": {},
   "outputs": [
    {
     "ename": "SyntaxError",
     "evalue": "invalid syntax. Perhaps you forgot a comma? (1608481837.py, line 15)",
     "output_type": "error",
     "traceback": [
      "\u001b[0;36m  Cell \u001b[0;32mIn[20], line 15\u001b[0;36m\u001b[0m\n\u001b[0;31m    per_device_train_batch_size=8\u001b[0m\n\u001b[0m                                ^\u001b[0m\n\u001b[0;31mSyntaxError\u001b[0m\u001b[0;31m:\u001b[0m invalid syntax. Perhaps you forgot a comma?\n"
     ]
    }
   ],
   "source": [
    "# repeate # iteration trials\n",
    "while (iteration > 0): \n",
    "\titeration = iteration - 1\n",
    "\n",
    "\t## data, network, strategy\n",
    "\tnet = AutoModelForQuestionAnswering.from_pretrained(\"bert-base-uncased\").to(device)\n",
    "\n",
    "\t## set up training\n",
    "\ttraining_args = TrainingArguments(\n",
    "\t\toutput_dir=\"./models\",\n",
    "\t\tevaluation_strategy=\"no\",\n",
    "\t\teval_steps=100,\n",
    "\t\tlogging_steps=100,\n",
    "\t\tlearning_rate=1e-4,\n",
    "\t\tper_device_train_batch_size=8,\n",
    "\t\tper_device_eval_batch_size=8, \n",
    "\t\tgradient_accumulation_steps=1,\n",
    "\t\tnum_train_epochs=3,  # max_steps will override this value\n",
    "\t\t# max_steps=1000,  # comment out if this is not wanted\n",
    "\t\tweight_decay=0.01,\n",
    "\t\treport_to=\"none\",\n",
    "\t)\n",
    "\n",
    "\t## data collator for batching\n",
    "\tdata_collator = DefaultDataCollator()\n",
    "\n",
    "\tstart = datetime.datetime.now()\n",
    "\n",
    "\t## generate initial labeled pool\n",
    "\tn_pool = len(train_dataset)\n",
    "\tlabeled_idxs = np.zeros(n_pool, dtype=bool)\n",
    "\n",
    "\ttmp_idxs = np.arange(n_pool)\n",
    "\tnp.random.shuffle(tmp_idxs)\n",
    "\tlabeled_idxs[tmp_idxs[:args_input_initseed]] = True\n",
    "\n",
    "\trun_0_labeled_idxs = np.arange(n_pool)[labeled_idxs] \n",
    "\t\n",
    "\t## record acc performance \n",
    "\tacc = np.zeros(NUM_ROUND + 1) # build 3 runs + run_0 # origin 10 runs + run_0\n",
    "\n",
    "\t## the actual trainer which performs training and evaluation\n",
    "\ttrainer_0 = Trainer(\n",
    "\t\t\t\t\t\tmodel=net,\n",
    "\t\t\t\t\t\targs=training_args,\n",
    "\t\t\t\t\t\ttrain_dataset=train_dataset.select(indices=run_0_labeled_idxs),\n",
    "\t\t\t\t\t\teval_dataset=val_dataset,\n",
    "\t\t\t\t\t\ttokenizer=tokenizer,\n",
    "\t\t\t\t\t\tdata_collator=data_collator\n",
    "\t\t\t\t\t\t)\t\n",
    "\t\t\n",
    "\t## print info\n",
    "\tprint(DATA_NAME)\n",
    "\t# print('RANDOM SEED {}'.format(SEED))\n",
    "\tprint(STRATEGY_NAME) # print(type(strategy).__name__)\n",
    "\t\n",
    "\t## round 0 accuracy\n",
    "\t\n",
    "\ttrainer_0.train()\n",
    "\n",
    "\t# preds, _, _ = trainer_0.predict(val_dataset)\n",
    "\t# start_logits, end_logits = preds\n",
    "\t# acc[0] = compute_metrics(trainer_0, val_dataset, squad[\"validation\"])['exact_match']\n",
    "\n",
    "\t# print('Round 0\\ntesting accuracy {}'.format(acc[0]))\n",
    "\t# print('\\n')\n",
    "\t\n",
    "\t# ## round 1 to rd\n",
    "\t# for rd in range(1, NUM_ROUND+1):\n",
    "\t# \tprint('Round {}'.format(rd))\n",
    "\t\t\n",
    "\t# \t## RandomSampling query\n",
    "\t# \tq_idxs = np.random.choice(np.where(labeled_idxs==0)[0], NUM_QUERY, replace=False)\n",
    "\t\n",
    "\t# \t## update\n",
    "\t# \tlabeled_idxs[q_idxs] = True\n",
    "\t# \trun_rd_labeled_idxs = np.arange(n_pool)[labeled_idxs]\n",
    "\t# \tprint('run_rd_labeled_idxs', len(run_rd_labeled_idxs))\n",
    "\n",
    "\t# \ttrainer_rd = Trainer(\n",
    "\t# \t\t\t\t\t\tmodel=net,\n",
    "\t# \t\t\t\t\t\targs=training_args,\n",
    "\t# \t\t\t\t\t\ttrain_dataset=train_dataset.select(indices=run_rd_labeled_idxs),\n",
    "\t# \t\t\t\t\t\teval_dataset=val_dataset,\n",
    "\t# \t\t\t\t\t\ttokenizer=tokenizer,\n",
    "\t# \t\t\t\t\t\tdata_collator=data_collator\n",
    "\t# \t\t\t\t\t\t)\n",
    "\n",
    "\t# \t## train\n",
    "\t# \ttrainer_rd.train()\n",
    "\t\n",
    "\t# \t## round rd accuracy\n",
    "\t# \tacc[rd] = compute_metrics(trainer_rd, val_dataset, squad[\"validation\"])['exact_match']\n",
    "\t# \tprint('testing accuracy {}'.format(acc[rd]))\n",
    "\t# \tprint('\\n')\n",
    "\n",
    "\t# \ttorch.cuda.empty_cache()\n",
    "\t\n",
    "\t# ## print results\n",
    "\t# print('SEED {}'.format(SEED))\n",
    "\t# print(STRATEGY_NAME)\n",
    "\t# print(acc)\n",
    "\t# all_acc.append(acc)\n",
    "\t\n",
    "\t# ## save model\n",
    "\t# timestamp = re.sub('\\.[0-9]*','_',str(datetime.datetime.now())).replace(\" \", \"_\").replace(\"-\", \"\").replace(\":\",\"\")\n",
    "\t# model_path = './modelpara/' + timestamp + DATA_NAME+ '_'  + STRATEGY_NAME + '_' + str(NUM_QUERY) + '_' + str(NUM_INIT_LB) +  '_' + str(args_input_quota)  +'.params'\n",
    "\t# end = datetime.datetime.now()\n",
    "\t# acq_time.append(round(float((end - start).seconds), 3))\n",
    "\t# torch.save(net.state_dict(), model_path)"
   ]
  },
  {
   "cell_type": "code",
   "execution_count": 18,
   "metadata": {},
   "outputs": [
    {
     "data": {
      "text/plain": [
       "(array([[-1.656662  , -0.6295358 ,  0.3957903 , ..., -4.165654  ,\n",
       "         -4.16063   , -4.1774597 ],\n",
       "        [-1.6779928 , -0.63508624,  0.4033468 , ..., -4.1644654 ,\n",
       "         -4.158975  , -4.1757402 ],\n",
       "        [-1.7496563 , -0.7205538 , -1.0128822 , ..., -4.1720414 ,\n",
       "         -4.174626  , -4.1854897 ],\n",
       "        ...,\n",
       "        [-1.5591328 , -0.8819545 , -1.4846373 , ..., -4.152286  ,\n",
       "         -4.2612066 , -4.1691113 ],\n",
       "        [-2.0682573 , -0.8054493 , -0.7898907 , ..., -4.1615424 ,\n",
       "         -4.235041  , -4.1808558 ],\n",
       "        [-2.5107467 , -0.98651755, -0.9962488 , ..., -4.0194745 ,\n",
       "         -4.0293827 , -4.100231  ]], dtype=float32),\n",
       " array([[-0.67598474, -0.81034905,  0.8880169 , ..., -4.2177196 ,\n",
       "         -4.211968  , -4.216345  ],\n",
       "        [-0.6761083 , -0.82706827,  0.8931461 , ..., -4.220371  ,\n",
       "         -4.2148547 , -4.2194457 ],\n",
       "        [-0.77423054, -1.0974021 , -1.0347588 , ..., -4.1096992 ,\n",
       "         -4.0902014 , -4.07936   ],\n",
       "        ...,\n",
       "        [-0.02477671, -1.2988623 , -1.5016685 , ..., -4.323919  ,\n",
       "         -4.355875  , -4.324397  ],\n",
       "        [-0.47199383, -1.279255  , -0.07339026, ..., -4.3215303 ,\n",
       "         -4.352992  , -4.326615  ],\n",
       "        [-1.2193595 , -1.1127487 ,  0.2672822 , ..., -4.338351  ,\n",
       "         -4.329098  , -4.3788123 ]], dtype=float32))"
      ]
     },
     "execution_count": 18,
     "metadata": {},
     "output_type": "execute_result"
    }
   ],
   "source": [
    "preds"
   ]
  },
  {
   "cell_type": "code",
   "execution_count": 1,
   "metadata": {},
   "outputs": [
    {
     "ename": "NameError",
     "evalue": "name 'acc' is not defined",
     "output_type": "error",
     "traceback": [
      "\u001b[0;31m---------------------------------------------------------------------------\u001b[0m",
      "\u001b[0;31mNameError\u001b[0m                                 Traceback (most recent call last)",
      "Cell \u001b[0;32mIn[1], line 1\u001b[0m\n\u001b[0;32m----> 1\u001b[0m acc\n",
      "\u001b[0;31mNameError\u001b[0m: name 'acc' is not defined"
     ]
    }
   ],
   "source": [
    "acc"
   ]
  },
  {
   "cell_type": "code",
   "execution_count": 18,
   "metadata": {},
   "outputs": [
    {
     "data": {
      "text/plain": [
       "[array([5.96, 5.96, 5.96])]"
      ]
     },
     "execution_count": 18,
     "metadata": {},
     "output_type": "execute_result"
    }
   ],
   "source": [
    "all_acc"
   ]
  },
  {
   "cell_type": "code",
   "execution_count": 20,
   "metadata": {},
   "outputs": [],
   "source": [
    "# cal mean & standard deviation\n",
    "acc_m = []\n",
    "file_name_res_tot = DATA_NAME+ '_'  + STRATEGY_NAME + '_' + str(NUM_QUERY) + '_' + str(NUM_INIT_LB) +  '_' + str(args_input_quota) + '_normal_res_tot.txt'\n",
    "file_res_tot =  open(os.path.join(os.path.abspath('') + '/results', '%s' % file_name_res_tot),'w')\n",
    "\n",
    "file_res_tot.writelines('dataset: {}'.format(DATA_NAME) + '\\n')\n",
    "file_res_tot.writelines('AL strategy: {}'.format(STRATEGY_NAME) + '\\n')\n",
    "file_res_tot.writelines('number of labeled pool: {}'.format(NUM_INIT_LB) + '\\n')\n",
    "file_res_tot.writelines('number of unlabeled pool: {}'.format(len(train_dataset) - NUM_INIT_LB) + '\\n')\n",
    "file_res_tot.writelines('number of testing pool: {}'.format(len(val_dataset)) + '\\n')\n",
    "file_res_tot.writelines('batch size: {}'.format(NUM_QUERY) + '\\n')\n",
    "file_res_tot.writelines('quota: {}'.format(NUM_ROUND*NUM_QUERY)+ '\\n')\n",
    "file_res_tot.writelines('time of repeat experiments: {}'.format(args_input_iteration)+ '\\n')\n",
    "\n",
    "# result\n",
    "for i in range(len(all_acc)):\n",
    "\tacc_m.append(get_aubc(args_input_quota, NUM_QUERY, all_acc[i]))\n",
    "\tprint(str(i)+': '+str(acc_m[i]))\n",
    "\tfile_res_tot.writelines(str(i)+': '+str(acc_m[i])+'\\n')\n",
    "mean_acc, stddev_acc = get_mean_stddev(acc_m)\n",
    "mean_time, stddev_time = get_mean_stddev(acq_time)\n",
    "\n",
    "print('mean AUBC(acc): '+str(mean_acc)+'. std dev AUBC(acc): '+str(stddev_acc))\n",
    "print('mean time: '+str(mean_time)+'. std dev time: '+str(stddev_time))\n",
    "\n",
    "file_res_tot.writelines('mean acc: '+str(mean_acc)+'. std dev acc: '+str(stddev_acc)+'\\n')\n",
    "file_res_tot.writelines('mean time: '+str(mean_time)+'. std dev acc: '+str(stddev_time)+'\\n')\n",
    "\n",
    "# save result\n",
    "\n",
    "file_name_res = DATA_NAME+ '_'  + STRATEGY_NAME + '_' + str(NUM_QUERY) + '_' + str(NUM_INIT_LB) +  '_' + str(args_input_quota) + '_normal_res.txt'\n",
    "file_res =  open(os.path.join(os.path.abspath('') + '/results', '%s' % file_name_res),'w')\n",
    "\n",
    "\n",
    "file_res.writelines('dataset: {}'.format(DATA_NAME) + '\\n')\n",
    "file_res.writelines('AL strategy: {}'.format(STRATEGY_NAME) + '\\n')\n",
    "file_res.writelines('number of labeled pool: {}'.format(NUM_INIT_LB) + '\\n')\n",
    "# file_res.writelines('number of unlabeled pool: {}'.format(dataset.n_pool - NUM_INIT_LB) + '\\n')\n",
    "file_res.writelines('number of unlabeled pool: {}'.format(len(train_dataset) - NUM_INIT_LB) + '\\n')\n",
    "# file_res.writelines('number of testing pool: {}'.format(dataset.n_test) + '\\n')\n",
    "file_res.writelines('number of testing pool: {}'.format(len(val_dataset)) + '\\n')\n",
    "file_res.writelines('batch size: {}'.format(NUM_QUERY) + '\\n')\n",
    "file_res.writelines('quota: {}'.format(NUM_ROUND*NUM_QUERY)+ '\\n')\n",
    "file_res.writelines('time of repeat experiments: {}'.format(args_input_iteration)+ '\\n')\n",
    "avg_acc = np.mean(np.array(all_acc),axis=0)\n",
    "for i in range(len(avg_acc)):\n",
    "\ttmp = 'Size of training set is ' + str(NUM_INIT_LB + i*NUM_QUERY) + ', ' + 'accuracy is ' + str(round(avg_acc[i],4)) + '.' + '\\n'\n",
    "\tfile_res.writelines(tmp)\n",
    "\n",
    "file_res.close()\n",
    "file_res_tot.close()"
   ]
  },
  {
   "cell_type": "code",
   "execution_count": 19,
   "metadata": {},
   "outputs": [
    {
     "ename": "NameError",
     "evalue": "name 'trainer_rd' is not defined",
     "output_type": "error",
     "traceback": [
      "\u001b[0;31m---------------------------------------------------------------------------\u001b[0m",
      "\u001b[0;31mNameError\u001b[0m                                 Traceback (most recent call last)",
      "Cell \u001b[0;32mIn[19], line 1\u001b[0m\n\u001b[0;32m----> 1\u001b[0m raw_predictions \u001b[39m=\u001b[39m trainer_rd\u001b[39m.\u001b[39mpredict(val_dataset)\n",
      "\u001b[0;31mNameError\u001b[0m: name 'trainer_rd' is not defined"
     ]
    }
   ],
   "source": [
    "raw_predictions = trainer_0.predict(val_dataset)"
   ]
  },
  {
   "cell_type": "code",
   "execution_count": null,
   "metadata": {},
   "outputs": [],
   "source": [
    "start_logits = output.start_logits[0].cpu().numpy()\n",
    "end_logits = output.end_logits[0].cpu().numpy()\n",
    "offset_mapping = validation_features[0][\"offset_mapping\"]\n",
    "# The first feature comes from the first example. For the more general case, we will need to be match the example_id to\n",
    "# an example index\n",
    "context = datasets[\"validation\"][0][\"context\"]\n",
    "\n",
    "# Gather the indices the best start/end logits:\n",
    "start_indexes = np.argsort(start_logits)[-1 : -n_best_size - 1 : -1].tolist()\n",
    "end_indexes = np.argsort(end_logits)[-1 : -n_best_size - 1 : -1].tolist()\n",
    "valid_answers = []\n",
    "for start_index in start_indexes:\n",
    "    for end_index in end_indexes:\n",
    "        # Don't consider out-of-scope answers, either because the indices are out of bounds or correspond\n",
    "        # to part of the input_ids that are not in the context.\n",
    "        if (\n",
    "            start_index >= len(offset_mapping)\n",
    "            or end_index >= len(offset_mapping)\n",
    "            or offset_mapping[start_index] is None\n",
    "            or offset_mapping[end_index] is None\n",
    "        ):\n",
    "            continue\n",
    "        # Don't consider answers with a length that is either < 0 or > max_answer_length.\n",
    "        if end_index < start_index or end_index - start_index + 1 > max_answer_length:\n",
    "            continue\n",
    "        if start_index <= end_index: # We need to refine that test to check the answer is inside the context\n",
    "            start_char = offset_mapping[start_index][0]\n",
    "            end_char = offset_mapping[end_index][1]\n",
    "            valid_answers.append(\n",
    "                {\n",
    "                    \"score\": start_logits[start_index] + end_logits[end_index],\n",
    "                    \"text\": context[start_char: end_char]\n",
    "                }\n",
    "            )\n",
    "\n",
    "valid_answers = sorted(valid_answers, key=lambda x: x[\"score\"], reverse=True)[:n_best_size]\n",
    "valid_answers"
   ]
  }
 ],
 "metadata": {
  "kernelspec": {
   "display_name": "Python 3.10.6 ('.venv')",
   "language": "python",
   "name": "python3"
  },
  "language_info": {
   "codemirror_mode": {
    "name": "ipython",
    "version": 3
   },
   "file_extension": ".py",
   "mimetype": "text/x-python",
   "name": "python",
   "nbconvert_exporter": "python",
   "pygments_lexer": "ipython3",
   "version": "3.10.8"
  },
  "orig_nbformat": 4,
  "vscode": {
   "interpreter": {
    "hash": "6317ac8a4c65d05b4cf6bac76f72bfaae40b2e9380067c26c20c9afff1d8528e"
   }
  }
 },
 "nbformat": 4,
 "nbformat_minor": 2
}
