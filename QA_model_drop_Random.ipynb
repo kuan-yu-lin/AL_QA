{
 "cells": [
  {
   "attachments": {},
   "cell_type": "markdown",
   "metadata": {},
   "source": [
    "# Question Answering Model \n",
    "## no trainer\n",
    "\n",
    "- dataset\n",
    "- torch\n",
    "- transformers\n",
    "- transformers[torch]\n",
    "- evaluate"
   ]
  },
  {
   "attachments": {},
   "cell_type": "markdown",
   "metadata": {},
   "source": [
    "import packages"
   ]
  },
  {
   "cell_type": "code",
   "execution_count": 2,
   "metadata": {},
   "outputs": [],
   "source": [
    "from datasets import load_dataset, disable_caching\n",
    "from transformers import (\n",
    "    AutoTokenizer,\n",
    "    default_data_collator,\n",
    "    get_scheduler,\n",
    "    AutoModelForQuestionAnswering,\n",
    "    BertConfig\n",
    ")\n",
    "from torch.utils.data import DataLoader\n",
    "from torch.optim import AdamW\n",
    "import torch\n",
    "\n",
    "import evaluate\n",
    "import collections\n",
    "from tqdm.auto import tqdm\n",
    "import numpy as np\n",
    "from sklearn.cluster import KMeans\n",
    "\n",
    "import os\n",
    "import re\n",
    "import datetime\n",
    "\n",
    "from torch.autograd import Variable\n",
    "import torch.nn.functional as F\n",
    "from copy import deepcopy"
   ]
  },
  {
   "attachments": {},
   "cell_type": "markdown",
   "metadata": {},
   "source": [
    "Set cache directory."
   ]
  },
  {
   "cell_type": "code",
   "execution_count": 4,
   "metadata": {},
   "outputs": [
    {
     "name": "stdout",
     "output_type": "stream",
     "text": [
      "env: TRANSFORMERS_CACHE=/mount/arbeitsdaten31/studenten1/linku/.cache\n",
      "env: HF_MODULES_CACHE=/mount/arbeitsdaten31/studenten1/linku/.cache\n",
      "env: HF_DATASETS_CACHE=/mount/arbeitsdaten31/studenten1/linku/.cache\n"
     ]
    }
   ],
   "source": [
    "CACHE_DIR='/mount/arbeitsdaten31/studenten1/linku/.cache'\n",
    "%set_env TRANSFORMERS_CACHE $CACHE_DIR\n",
    "%set_env HF_MODULES_CACHE $CACHE_DIR\n",
    "%set_env HF_DATASETS_CACHE $CACHE_DIR"
   ]
  },
  {
   "attachments": {},
   "cell_type": "markdown",
   "metadata": {},
   "source": [
    "### arguments.py\n",
    "\n",
    "args_input."
   ]
  },
  {
   "cell_type": "code",
   "execution_count": 10,
   "metadata": {},
   "outputs": [],
   "source": [
    "args_input_ALstrategy = 'RandomSampling'\n",
    "# args_input_initseed = 100 # 1000\n",
    "args_input_quota = 200 # 1000\n",
    "args_input_batch = 50 # 128\n",
    "args_input_dataset_name = 'DROP'\n",
    "args_input_iteration = 5\n",
    "args_input_model_batch = 8 # already add in arguments.py\n",
    "args_input_max_length = None\n",
    "\n",
    "stride = 128"
   ]
  },
  {
   "attachments": {},
   "cell_type": "markdown",
   "metadata": {},
   "source": [
    "in main.py"
   ]
  },
  {
   "cell_type": "code",
   "execution_count": 6,
   "metadata": {},
   "outputs": [],
   "source": [
    "MAX_LENGTH = args_input_max_length\n",
    "NUM_QUERY = args_input_batch\n",
    "# NUM_INIT_LB = args_input_initseed\n",
    "NUM_ROUND = int(args_input_quota / args_input_batch)\n",
    "DATA_NAME = args_input_dataset_name\n",
    "STRATEGY_NAME = args_input_ALstrategy"
   ]
  },
  {
   "cell_type": "code",
   "execution_count": 8,
   "metadata": {},
   "outputs": [],
   "source": [
    "pretrain_model_dir = '/mount/arbeitsdaten31/studenten1/linku/pretrain_models' + '/' + 'RoBERTa_SQuAD_full_dataset'"
   ]
  },
  {
   "attachments": {},
   "cell_type": "markdown",
   "metadata": {},
   "source": [
    "### load dataset"
   ]
  },
  {
   "cell_type": "code",
   "execution_count": 3,
   "metadata": {},
   "outputs": [],
   "source": [
    "disable_caching()"
   ]
  },
  {
   "cell_type": "code",
   "execution_count": 11,
   "metadata": {},
   "outputs": [],
   "source": [
    "def load_dataset_mrqa(d):\n",
    "\t'''\n",
    "\treturn train_set, val_set\n",
    "\t'''\n",
    "\tdata = load_dataset(\"mrqa\", cache_dir=CACHE_DIR)\n",
    "\tif d == 'squad':\n",
    "\t\t# the first to 86588th in train set\n",
    "\t\t# the first to 10507th in val set\t\t\n",
    "\t\treturn data['train'].select(range(86588)), data['validation'].select(range(10507))\n",
    "\telif d == 'newsqa':\n",
    "\t\t# the 86589th to 160748th in train set\n",
    "\t\t# the 10508th to 14719th in val set\t\t\n",
    "\t\treturn data['train'].select(range(86588, 160748)), data['validation'].select(range(10507, 14719))\n",
    "\telif d == 'searchqa':\n",
    "\t\t# the 222437th to 339820th in train set\n",
    "\t\t# the 22505th to 39484th in val set\n",
    "\t\treturn data['train'].select(range(222436, 339820)), data['validation'].select(range(22504, 39484))\n",
    "\telif d == 'bioasq':\n",
    "\t\t# the first to the 1504th in the test set\n",
    "\t\tsub = data['test'].select(range(1504))\n",
    "\t\tlen_sub_val = len(sub) // 10\n",
    "\t\treturn sub.select(range(len_sub_val, len(sub))), sub.select(range(len_sub_val))\n",
    "\telif d == 'textbookqa':\n",
    "\t\t# the 8131st to 9633rd\n",
    "\t\tsub = data['test'].select(range(8130, 9633))\n",
    "\t\tlen_sub_val = len(sub) // 10\n",
    "\t\treturn sub.select(range(len_sub_val, len(sub))), sub.select(range(len_sub_val)) \n",
    "\telif d == 'drop': # Discrete Reasoning Over Paragraphs\n",
    "\t\t# the 1505th to 3007th in test set\n",
    "\t\tsub = data['test'].select(range(1504, 3007))\n",
    "\t\tlen_sub_val = len(sub) // 10\n",
    "\t\treturn sub.select(range(len_sub_val, len(sub))), sub.select(range(len_sub_val))"
   ]
  },
  {
   "cell_type": "code",
   "execution_count": 14,
   "metadata": {},
   "outputs": [
    {
     "name": "stderr",
     "output_type": "stream",
     "text": [
      "Found cached dataset mrqa (/mount/arbeitsdaten31/studenten1/linku/.cache/mrqa/plain_text/1.1.0/1f2cf5ac32b43f864e6f91d384057a16b69b7d13ba9bcaa200ac277c90938d19)\n"
     ]
    },
    {
     "data": {
      "application/vnd.jupyter.widget-view+json": {
       "model_id": "8a6d3ad6076e493ba3e52689e67b8e73",
       "version_major": 2,
       "version_minor": 0
      },
      "text/plain": [
       "  0%|          | 0/3 [00:00<?, ?it/s]"
      ]
     },
     "metadata": {},
     "output_type": "display_data"
    },
    {
     "name": "stderr",
     "output_type": "stream",
     "text": [
      "Found cached dataset squad (/mount/arbeitsdaten31/studenten1/linku/.cache/squad/plain_text/1.0.0/d6ec3ceb99ca480ce37cdd35555d6cb2511d223b9150cce08a837ef62ffea453)\n"
     ]
    },
    {
     "data": {
      "application/vnd.jupyter.widget-view+json": {
       "model_id": "a262131739f749329e62319f1a8c030e",
       "version_major": 2,
       "version_minor": 0
      },
      "text/plain": [
       "  0%|          | 0/2 [00:00<?, ?it/s]"
      ]
     },
     "metadata": {},
     "output_type": "display_data"
    }
   ],
   "source": [
    "# TODO: function different!!!\n",
    "\n",
    "# train_data, val_data = load_dataset_mrqa(DATA_NAME.lower())\n",
    "train_data, val_data = load_dataset_mrqa('squad')\n",
    "squad = load_dataset('squad', cache_dir=CACHE_DIR)"
   ]
  },
  {
   "cell_type": "code",
   "execution_count": 15,
   "metadata": {},
   "outputs": [],
   "source": [
    "train_data = train_data.select(range(100))\n",
    "val_data = val_data.select(range(10))\n",
    "squad_train_data = squad['train'].select(range(100))\n",
    "squad_val_data = squad['validation'].select(range(10))"
   ]
  },
  {
   "attachments": {},
   "cell_type": "markdown",
   "metadata": {},
   "source": [
    "Next we will preprocess the dataset (training and evaluation data)."
   ]
  },
  {
   "cell_type": "code",
   "execution_count": 32,
   "metadata": {},
   "outputs": [],
   "source": [
    "def preprocess_training_examples(examples, tokenizer):\n",
    "    # no ['offset_mapping'], for .train() and .eval()\n",
    "    questions = [q.strip() for q in examples[\"question\"]]\n",
    "    inputs = tokenizer(\n",
    "        questions,\n",
    "        examples[\"context\"],\n",
    "        max_length=MAX_LENGTH,\n",
    "        truncation=\"only_second\",\n",
    "        stride=stride,\n",
    "        return_overflowing_tokens=True,\n",
    "        return_offsets_mapping=True,\n",
    "        padding=\"max_length\",\n",
    "    )\n",
    "\n",
    "    offset_mapping = inputs.pop(\"offset_mapping\")\n",
    "    sample_map = inputs.pop(\"overflow_to_sample_mapping\")\n",
    "    answers = examples[\"answers\"]\n",
    "    start_positions = []\n",
    "    end_positions = []\n",
    "    example_ids = []\n",
    "\n",
    "    for i, offset in enumerate(offset_mapping):\n",
    "        sample_idx = sample_map[i]\n",
    "        answer = answers[sample_idx]\n",
    "        # print('answer[\"answer_start\"]:', answer)\n",
    "        start_char = answer[\"answer_start\"][0]\n",
    "        end_char = answer[\"answer_start\"][0] + len(answer[\"text\"][0])\n",
    "        sequence_ids = inputs.sequence_ids(i)\n",
    "        \n",
    "        example_ids.append(examples[\"id\"][sample_idx]) # newly added for used in unlabel data predict\n",
    "\n",
    "        # Find the start and end of the context\n",
    "        idx = 0\n",
    "        while sequence_ids[idx] != 1:\n",
    "            idx += 1\n",
    "        context_start = idx\n",
    "        while sequence_ids[idx] == 1:\n",
    "            idx += 1\n",
    "        context_end = idx - 1\n",
    "\n",
    "        # If the answer is not fully inside the context, label is (0, 0)\n",
    "        if offset[context_start][0] > start_char or offset[context_end][1] < end_char:\n",
    "            start_positions.append(0)\n",
    "            end_positions.append(0)\n",
    "        else:\n",
    "            # Otherwise it's the start and end token positions\n",
    "            idx = context_start\n",
    "            while idx <= context_end and offset[idx][0] <= start_char:\n",
    "                idx += 1\n",
    "            start_positions.append(idx - 1)\n",
    "\n",
    "            idx = context_end\n",
    "            while idx >= context_start and offset[idx][1] >= end_char:\n",
    "                idx -= 1\n",
    "            end_positions.append(idx + 1)\n",
    "\n",
    "    inputs[\"start_positions\"] = start_positions\n",
    "    inputs[\"end_positions\"] = end_positions\n",
    "    return inputs"
   ]
  },
  {
   "cell_type": "code",
   "execution_count": 24,
   "metadata": {},
   "outputs": [],
   "source": [
    "def preprocess_training_examples_lowRes(examples, tokenizer):\n",
    "    # no ['offset_mapping'], for .train() and .eval()\n",
    "    questions = [q.strip() for q in examples[\"question\"]]\n",
    "    inputs = tokenizer(\n",
    "        questions,\n",
    "        examples[\"context\"],\n",
    "        max_length=MAX_LENGTH,\n",
    "        truncation=\"only_second\",\n",
    "        stride=stride,\n",
    "        return_overflowing_tokens=True,\n",
    "        return_offsets_mapping=True,\n",
    "        padding=\"max_length\",\n",
    "    )\n",
    "\n",
    "    offset_mapping = inputs.pop(\"offset_mapping\")\n",
    "    sample_map = inputs.pop(\"overflow_to_sample_mapping\")\n",
    "    detected_answers = examples[\"detected_answers\"]\n",
    "    start_positions = []\n",
    "    end_positions = []\n",
    "    example_ids = []\n",
    "\n",
    "    for i, offset in enumerate(offset_mapping):\n",
    "        sample_idx = sample_map[i]\n",
    "        answer = detected_answers[sample_idx]\n",
    "        start_char = answer[\"char_spans\"][0][\"start\"][0]\n",
    "        end_char = answer[\"char_spans\"][0][\"end\"][0]\n",
    "        sequence_ids = inputs.sequence_ids(i)\n",
    "        \n",
    "        example_ids.append(examples[\"qid\"][sample_idx]) # newly added for used in unlabel data predict\n",
    "\n",
    "        # Find the start and end of the context\n",
    "        idx = 0\n",
    "        while sequence_ids[idx] != 1:\n",
    "            idx += 1\n",
    "        context_start = idx\n",
    "        while sequence_ids[idx] == 1:\n",
    "            idx += 1\n",
    "        context_end = idx - 1\n",
    "\n",
    "        # If the answer is not fully inside the context, label is (0, 0)\n",
    "        if offset[context_start][0] > start_char or offset[context_end][1] < end_char:\n",
    "            start_positions.append(0)\n",
    "            end_positions.append(0)\n",
    "        else:\n",
    "            # Otherwise it's the start and end token positions\n",
    "            idx = context_start\n",
    "            while idx <= context_end and offset[idx][0] <= start_char:\n",
    "                idx += 1\n",
    "            start_positions.append(idx - 1)\n",
    "\n",
    "            idx = context_end\n",
    "            while idx >= context_start and offset[idx][1] >= end_char:\n",
    "                idx -= 1\n",
    "            end_positions.append(idx + 1)\n",
    "\n",
    "    inputs[\"start_positions\"] = start_positions\n",
    "    inputs[\"end_positions\"] = end_positions\n",
    "    return inputs"
   ]
  },
  {
   "cell_type": "code",
   "execution_count": 31,
   "metadata": {},
   "outputs": [],
   "source": [
    "def preprocess_training_features(examples, tokenizer):\n",
    "    # keep [\"offset_mapping\"] and [\"example_id\"], for compute_metrics()\n",
    "    questions = [q.strip() for q in examples[\"question\"]]\n",
    "    inputs = tokenizer(\n",
    "        questions,\n",
    "        examples[\"context\"],\n",
    "        max_length=MAX_LENGTH,\n",
    "        truncation=\"only_second\",\n",
    "        stride=stride,\n",
    "        return_overflowing_tokens=True,\n",
    "        return_offsets_mapping=True,\n",
    "        padding=\"max_length\",\n",
    "    )\n",
    "\n",
    "    offset_mapping = inputs[\"offset_mapping\"]\n",
    "    sample_map = inputs.pop(\"overflow_to_sample_mapping\")\n",
    "    answers = examples[\"answers\"]\n",
    "    start_positions = []\n",
    "    end_positions = []\n",
    "    example_ids = []\n",
    "\n",
    "    for i, offset in enumerate(offset_mapping):\n",
    "        sample_idx = sample_map[i]\n",
    "        answer = answers[sample_idx]\n",
    "        # print('answer[\"answer_start\"]:', answer)\n",
    "        start_char = answer[\"answer_start\"][0]\n",
    "        end_char = answer[\"answer_start\"][0] + len(answer[\"text\"][0])\n",
    "        sequence_ids = inputs.sequence_ids(i)\n",
    "        \n",
    "        example_ids.append(examples[\"id\"][sample_idx]) # newly added for used in unlabel data predict\n",
    "\n",
    "        # Find the start and end of the context\n",
    "        idx = 0\n",
    "        while sequence_ids[idx] != 1:\n",
    "            idx += 1\n",
    "        context_start = idx\n",
    "        while sequence_ids[idx] == 1:\n",
    "            idx += 1\n",
    "        context_end = idx - 1\n",
    "\n",
    "        # If the answer is not fully inside the context, label is (0, 0)\n",
    "        if offset[context_start][0] > start_char or offset[context_end][1] < end_char:\n",
    "            start_positions.append(0)\n",
    "            end_positions.append(0)\n",
    "        else:\n",
    "            # Otherwise it's the start and end token positions\n",
    "            idx = context_start\n",
    "            while idx <= context_end and offset[idx][0] <= start_char:\n",
    "                idx += 1\n",
    "            start_positions.append(idx - 1)\n",
    "\n",
    "            idx = context_end\n",
    "            while idx >= context_start and offset[idx][1] >= end_char:\n",
    "                idx -= 1\n",
    "            end_positions.append(idx + 1)\n",
    "\n",
    "    inputs[\"example_id\"] = example_ids\n",
    "    inputs[\"start_positions\"] = start_positions\n",
    "    inputs[\"end_positions\"] = end_positions\n",
    "    return inputs"
   ]
  },
  {
   "cell_type": "code",
   "execution_count": 25,
   "metadata": {},
   "outputs": [],
   "source": [
    "def preprocess_training_features_lowRes(examples, tokenizer):\n",
    "    # keep [\"offset_mapping\"] and [\"example_id\"], for compute_metrics()\n",
    "    questions = [q.strip() for q in examples[\"question\"]]\n",
    "    inputs = tokenizer(\n",
    "        questions,\n",
    "        examples[\"context\"],\n",
    "        max_length=MAX_LENGTH,\n",
    "        truncation=\"only_second\",\n",
    "        stride=stride,\n",
    "        return_overflowing_tokens=True,\n",
    "        return_offsets_mapping=True,\n",
    "        padding=\"max_length\",\n",
    "    )\n",
    "\n",
    "    offset_mapping = inputs[\"offset_mapping\"]\n",
    "    sample_map = inputs.pop(\"overflow_to_sample_mapping\")\n",
    "    answers = examples[\"detected_answers\"]\n",
    "    start_positions = []\n",
    "    end_positions = []\n",
    "    example_ids = []\n",
    "\n",
    "    for i, offset in enumerate(offset_mapping):\n",
    "        sample_idx = sample_map[i]\n",
    "        answer = answers[sample_idx]\n",
    "        # print('answer[\"char_spans\"]:', answer)\n",
    "        start_char = answer[\"char_spans\"][0][\"start\"][0]\n",
    "        end_char = answer[\"char_spans\"][0][\"end\"][0]\n",
    "        sequence_ids = inputs.sequence_ids(i)\n",
    "        \n",
    "        example_ids.append(examples[\"qid\"][sample_idx]) # newly added for used in unlabel data predict\n",
    "\n",
    "        # Find the start and end of the context\n",
    "        idx = 0\n",
    "        while sequence_ids[idx] != 1:\n",
    "            idx += 1\n",
    "        context_start = idx\n",
    "        while sequence_ids[idx] == 1:\n",
    "            idx += 1\n",
    "        context_end = idx - 1\n",
    "\n",
    "        # If the answer is not fully inside the context, label is (0, 0)\n",
    "        if offset[context_start][0] > start_char or offset[context_end][1] < end_char:\n",
    "            start_positions.append(0)\n",
    "            end_positions.append(0)\n",
    "        else:\n",
    "            # Otherwise it's the start and end token positions\n",
    "            idx = context_start\n",
    "            while idx <= context_end and offset[idx][0] <= start_char:\n",
    "                idx += 1\n",
    "            start_positions.append(idx - 1)\n",
    "\n",
    "            idx = context_end\n",
    "            while idx >= context_start and offset[idx][1] >= end_char:\n",
    "                idx -= 1\n",
    "            end_positions.append(idx + 1)\n",
    "\n",
    "    inputs[\"example_id\"] = example_ids\n",
    "    inputs[\"start_positions\"] = start_positions\n",
    "    inputs[\"end_positions\"] = end_positions\n",
    "    return inputs"
   ]
  },
  {
   "cell_type": "code",
   "execution_count": 21,
   "metadata": {},
   "outputs": [],
   "source": [
    "def preprocess_validation_examples(examples, tokenizer):\n",
    "    questions = [q.strip() for q in examples[\"question\"]]\n",
    "    inputs = tokenizer(\n",
    "        questions,\n",
    "        examples[\"context\"],\n",
    "        max_length=MAX_LENGTH,\n",
    "        truncation=\"only_second\",\n",
    "        stride=stride,\n",
    "        return_overflowing_tokens=True,\n",
    "        return_offsets_mapping=True,\n",
    "        padding=\"max_length\",\n",
    "    )\n",
    "\n",
    "    sample_map = inputs.pop(\"overflow_to_sample_mapping\")\n",
    "    example_ids = []\n",
    "\n",
    "    for i in range(len(inputs[\"input_ids\"])):\n",
    "        sample_idx = sample_map[i]\n",
    "        example_ids.append(examples[\"id\"][sample_idx])\n",
    "\n",
    "        sequence_ids = inputs.sequence_ids(i)\n",
    "        offset = inputs[\"offset_mapping\"][i]\n",
    "        inputs[\"offset_mapping\"][i] = [\n",
    "            o if sequence_ids[k] == 1 else None for k, o in enumerate(offset)\n",
    "        ]\n",
    "\n",
    "    inputs[\"example_id\"] = example_ids\n",
    "    return inputs"
   ]
  },
  {
   "cell_type": "code",
   "execution_count": 22,
   "metadata": {},
   "outputs": [],
   "source": [
    "def preprocess_validation_examples_lowRes(examples, tokenizer):\n",
    "    questions = [q.strip() for q in examples[\"question\"]]\n",
    "    inputs = tokenizer(\n",
    "        questions,\n",
    "        examples[\"context\"],\n",
    "        max_length=MAX_LENGTH,\n",
    "        truncation=\"only_second\",\n",
    "        stride=stride,\n",
    "        return_overflowing_tokens=True,\n",
    "        return_offsets_mapping=True,\n",
    "        padding=\"max_length\",\n",
    "    )\n",
    "\n",
    "    sample_map = inputs.pop(\"overflow_to_sample_mapping\")\n",
    "    example_ids = []\n",
    "\n",
    "    for i in range(len(inputs[\"input_ids\"])):\n",
    "        sample_idx = sample_map[i]\n",
    "        example_ids.append(examples[\"qid\"][sample_idx])\n",
    "\n",
    "        sequence_ids = inputs.sequence_ids(i)\n",
    "        offset = inputs[\"offset_mapping\"][i]\n",
    "        inputs[\"offset_mapping\"][i] = [\n",
    "            o if sequence_ids[k] == 1 else None for k, o in enumerate(offset)\n",
    "        ]\n",
    "\n",
    "    inputs[\"example_id\"] = example_ids\n",
    "    return inputs"
   ]
  },
  {
   "cell_type": "code",
   "execution_count": 16,
   "metadata": {},
   "outputs": [],
   "source": [
    "# load tokenizer for dataset preprocessing\n",
    "tokenizer = AutoTokenizer.from_pretrained(\"roberta-base\")"
   ]
  },
  {
   "cell_type": "code",
   "execution_count": 26,
   "metadata": {},
   "outputs": [
    {
     "data": {
      "application/vnd.jupyter.widget-view+json": {
       "model_id": "782b4a1ce0c04c438c00ef44450b708d",
       "version_major": 2,
       "version_minor": 0
      },
      "text/plain": [
       "Map:   0%|          | 0/100 [00:00<?, ? examples/s]"
      ]
     },
     "metadata": {},
     "output_type": "display_data"
    },
    {
     "data": {
      "application/vnd.jupyter.widget-view+json": {
       "model_id": "8c5cc815ee61405db5ddca9b28b2584f",
       "version_major": 2,
       "version_minor": 0
      },
      "text/plain": [
       "Map:   0%|          | 0/100 [00:00<?, ? examples/s]"
      ]
     },
     "metadata": {},
     "output_type": "display_data"
    },
    {
     "data": {
      "application/vnd.jupyter.widget-view+json": {
       "model_id": "436584f393d14410816156e0529c4d37",
       "version_major": 2,
       "version_minor": 0
      },
      "text/plain": [
       "Map:   0%|          | 0/10 [00:00<?, ? examples/s]"
      ]
     },
     "metadata": {},
     "output_type": "display_data"
    },
    {
     "data": {
      "application/vnd.jupyter.widget-view+json": {
       "model_id": "94a9815a894a42e7a10f8b6665576f23",
       "version_major": 2,
       "version_minor": 0
      },
      "text/plain": [
       "Map:   0%|          | 0/10 [00:00<?, ? examples/s]"
      ]
     },
     "metadata": {},
     "output_type": "display_data"
    }
   ],
   "source": [
    "# TODO: The data name different!!!\n",
    "\n",
    "# preprocess data\n",
    "train_dataset = train_data.map(\n",
    "    preprocess_training_examples_lowRes,\n",
    "    batched=True,\n",
    "    remove_columns=train_data.column_names,\n",
    "    fn_kwargs=dict(tokenizer=tokenizer)\n",
    ")\n",
    "train_features = train_data.map(\n",
    "    preprocess_training_features_lowRes,\n",
    "    batched=True,\n",
    "    remove_columns=train_data.column_names,\n",
    "    fn_kwargs=dict(tokenizer=tokenizer)\n",
    ")\n",
    "val_dataset = val_data.map(\n",
    "    preprocess_validation_examples_lowRes,\n",
    "    batched=True,\n",
    "    remove_columns=val_data.column_names,\n",
    "    fn_kwargs=dict(tokenizer=tokenizer)\n",
    ")\n",
    "val_features = val_data.map(\n",
    "    preprocess_validation_examples_lowRes,\n",
    "    batched=True,\n",
    "    remove_columns=val_data.column_names,\n",
    "    fn_kwargs=dict(tokenizer=tokenizer)\n",
    ")"
   ]
  },
  {
   "cell_type": "code",
   "execution_count": 33,
   "metadata": {},
   "outputs": [
    {
     "data": {
      "application/vnd.jupyter.widget-view+json": {
       "model_id": "f6d607d5c6234f739dc819456525c068",
       "version_major": 2,
       "version_minor": 0
      },
      "text/plain": [
       "Map:   0%|          | 0/100 [00:00<?, ? examples/s]"
      ]
     },
     "metadata": {},
     "output_type": "display_data"
    },
    {
     "data": {
      "application/vnd.jupyter.widget-view+json": {
       "model_id": "201274960197456bbf0e8195e7c7e6cf",
       "version_major": 2,
       "version_minor": 0
      },
      "text/plain": [
       "Map:   0%|          | 0/100 [00:00<?, ? examples/s]"
      ]
     },
     "metadata": {},
     "output_type": "display_data"
    },
    {
     "data": {
      "application/vnd.jupyter.widget-view+json": {
       "model_id": "376e1622e6d241f0bcec11c35d1657e6",
       "version_major": 2,
       "version_minor": 0
      },
      "text/plain": [
       "Map:   0%|          | 0/10 [00:00<?, ? examples/s]"
      ]
     },
     "metadata": {},
     "output_type": "display_data"
    },
    {
     "data": {
      "application/vnd.jupyter.widget-view+json": {
       "model_id": "9bf2c4aaa91f4c9bbd39d1b9c145b54c",
       "version_major": 2,
       "version_minor": 0
      },
      "text/plain": [
       "Map:   0%|          | 0/10 [00:00<?, ? examples/s]"
      ]
     },
     "metadata": {},
     "output_type": "display_data"
    }
   ],
   "source": [
    "# origin squad preprocess data\n",
    "squad_train_dataset = squad_train_data.map(\n",
    "    preprocess_training_examples,\n",
    "    batched=True,\n",
    "    remove_columns=squad_train_data.column_names,\n",
    "    fn_kwargs=dict(tokenizer=tokenizer)\n",
    ")\n",
    "squad_train_features = squad_train_data.map(\n",
    "    preprocess_training_features,\n",
    "    batched=True,\n",
    "    remove_columns=squad_train_data.column_names,\n",
    "    fn_kwargs=dict(tokenizer=tokenizer)\n",
    ")\n",
    "squad_val_dataset = squad_val_data.map(\n",
    "    preprocess_validation_examples,\n",
    "    batched=True,\n",
    "    remove_columns=squad_val_data.column_names,\n",
    "    fn_kwargs=dict(tokenizer=tokenizer)\n",
    ")\n",
    "squad_val_features = squad_val_data.map(\n",
    "    preprocess_validation_examples,\n",
    "    batched=True,\n",
    "    remove_columns=squad_val_data.column_names,\n",
    "    fn_kwargs=dict(tokenizer=tokenizer)\n",
    ")"
   ]
  },
  {
   "cell_type": "code",
   "execution_count": 34,
   "metadata": {},
   "outputs": [],
   "source": [
    "train_dataset.set_format(\"torch\")\n",
    "train_features.set_format(\"torch\")\n",
    "val_dataset = val_dataset.remove_columns([\"offset_mapping\"])\n",
    "val_dataset.set_format(\"torch\")\n",
    "val_features.set_format(\"torch\")"
   ]
  },
  {
   "cell_type": "code",
   "execution_count": 35,
   "metadata": {},
   "outputs": [],
   "source": [
    "squad_train_dataset.set_format(\"torch\")\n",
    "squad_train_features.set_format(\"torch\")\n",
    "squad_val_dataset = squad_val_dataset.remove_columns([\"offset_mapping\"])\n",
    "squad_val_dataset.set_format(\"torch\")\n",
    "squad_val_features.set_format(\"torch\")"
   ]
  },
  {
   "attachments": {},
   "cell_type": "markdown",
   "metadata": {},
   "source": [
    "## model.py"
   ]
  },
  {
   "cell_type": "code",
   "execution_count": null,
   "metadata": {},
   "outputs": [],
   "source": [
    "strategy_model_dir = model_dir + '/lowRes_' + str(args_input.quota) + '_' + STRATEGY_NAME + '_' + MODEL_NAME +  '_' + DATA_NAME"
   ]
  },
  {
   "cell_type": "code",
   "execution_count": 14,
   "metadata": {},
   "outputs": [],
   "source": [
    "def to_train(num_train_epochs, train_dataloader, device, model, optimizer, lr_scheduler, record_loss=False):\n",
    "\tprint('Training was performed using the sum of {} initial data and {} query data, i.e. {} data.'.format(NUM_INIT_LB, NUM_QUERY, len(train_dataloader.dataset)))\n",
    "\tfor epoch in range(num_train_epochs):\n",
    "\t\tmodel.train()\n",
    "\t\tfor step, batch in enumerate(tqdm(train_dataloader, desc=\"Training\")):\n",
    "\t\t\tbatch = {key: value.to(device) for key, value in batch.items()}\n",
    "\t\t\toutputs = model(**batch)\n",
    "\t\t\tloss = outputs.loss\n",
    "\t\t\tloss.backward()\n",
    "\n",
    "\t\t\toptimizer.step()\n",
    "\t\t\tlr_scheduler.step()\n",
    "\t\t\toptimizer.zero_grad()\n",
    "\n",
    "\t\tif record_loss:\n",
    "\t\t\tprint('Train Epoch: {}\\tLoss: {:.6f}'.format(epoch, loss.item()))\n",
    "\n",
    "\tmodel_to_save = model.module if hasattr(model, 'module') else model \n",
    "\tmodel_to_save.save_pretrained(strategy_model_dir)\n",
    "\tprint('TRAIN done!')"
   ]
  },
  {
   "cell_type": "code",
   "execution_count": 15,
   "metadata": {},
   "outputs": [],
   "source": [
    "metric = evaluate.load(\"squad\")"
   ]
  },
  {
   "cell_type": "code",
   "execution_count": 14,
   "metadata": {},
   "outputs": [],
   "source": [
    "def get_pred(dataloader, device, features, examples, record_loss=False, rd_0=False):\n",
    "    if rd_0:\n",
    "        config = BertConfig.from_pretrained(pretrain_model_dir, output_hidden_states=record_loss)\n",
    "    else:\n",
    "        config = BertConfig.from_pretrained(model_dir, output_hidden_states=record_loss)\n",
    "    model = AutoModelForQuestionAnswering.from_config(config).to(device)\n",
    "    \n",
    "    test_loss = []\n",
    "    model.eval()\n",
    "    start_logits = []\n",
    "    end_logits = []\n",
    "    for batch in tqdm(dataloader, desc=\"Evaluating_pred\"):\n",
    "        batch = {key: value.to(device) for key, value in batch.items()}\n",
    "        with torch.no_grad():\n",
    "            outputs = model(**batch)\n",
    "            print(outputs)\n",
    "            print(outputs.loss)\n",
    "            test_loss.append(outputs.loss)\n",
    "\n",
    "        start_logits.append(outputs.start_logits.cpu().numpy())\n",
    "        end_logits.append(outputs.end_logits.cpu().numpy())\n",
    "\n",
    "    start_logits = np.concatenate(start_logits)\n",
    "    end_logits = np.concatenate(end_logits)\n",
    "    start_logits = start_logits[: len(features)]\n",
    "    end_logits = end_logits[: len(features)]\n",
    "\n",
    "    if record_loss:\n",
    "        test_loss /= len(dataloader.dataset)\n",
    "        print('\\nTest set: Average loss: {:.4f}\\n'.format(test_loss))\n",
    "\n",
    "    example_to_features = collections.defaultdict(list)\n",
    "    max_answer_length = 30\n",
    "    n_best = 20\n",
    "    for idx, feature in enumerate(features):\n",
    "        example_to_features[feature[\"example_id\"]].append(idx)\n",
    "\n",
    "    predicted_answers = []\n",
    "    for example in tqdm(examples, desc=\"Computing metrics\"):\n",
    "        example_id = example[\"id\"]\n",
    "        context = example[\"context\"]\n",
    "        answers = []\n",
    "\n",
    "        # Loop through all features associated with that example\n",
    "        for feature_index in example_to_features[example_id]:\n",
    "            start_logit = start_logits[feature_index]\n",
    "            end_logit = end_logits[feature_index]\n",
    "            offsets = features[feature_index][\"offset_mapping\"]\n",
    "\n",
    "            start_indexes = np.argsort(start_logit)[-1 : -n_best - 1 : -1].tolist()\n",
    "            end_indexes = np.argsort(end_logit)[-1 : -n_best - 1 : -1].tolist()\n",
    "            for start_index in start_indexes:\n",
    "                for end_index in end_indexes:\n",
    "                    # Skip answers that are not fully in the context\n",
    "                    if offsets[start_index] is None or offsets[end_index] is None:\n",
    "                        continue\n",
    "                    # Skip answers with a length that is either < 0 or > max_answer_length\n",
    "                    if (\n",
    "                        end_index < start_index\n",
    "                        or end_index - start_index + 1 > max_answer_length\n",
    "                    ):\n",
    "                        continue\n",
    "\n",
    "                    answer = {\n",
    "                        \"text\": context[offsets[start_index][0] : offsets[end_index][1]],\n",
    "                        \"logit_score\": start_logit[start_index] + end_logit[end_index],\n",
    "                    }\n",
    "                    answers.append(answer)\n",
    "\n",
    "        # Select the answer with the best score\n",
    "        if len(answers) > 0:\n",
    "            best_answer = max(answers, key=lambda x: x[\"logit_score\"])\n",
    "            predicted_answers.append(\n",
    "                {\"id\": example_id, \"prediction_text\": best_answer[\"text\"]}\n",
    "            )\n",
    "        else:\n",
    "            predicted_answers.append({\"id\": example_id, \"prediction_text\": \"\"})\n",
    "\n",
    "    theoretical_answers = [{\"id\": ex[\"id\"], \"answers\": ex[\"answers\"]} for ex in examples]\n",
    "    return metric.compute(predictions=predicted_answers, references=theoretical_answers)"
   ]
  },
  {
   "cell_type": "code",
   "execution_count": 100,
   "metadata": {},
   "outputs": [],
   "source": [
    "def logits_to_prob(start_logits, end_logits, features, batch_idx, examples, num_classes=False):\n",
    "    \n",
    "    probs = torch.zeros([len(batch_idx), 200])\n",
    "    # deepAL+: probs = torch.zeros([len(data), len(np.unique(data.Y))])\n",
    "    prob_dict = {}\n",
    "    example_to_features = collections.defaultdict(list)\n",
    "    max_answer_length = 30\n",
    "    n_best = 20\n",
    "    for idx, feature in enumerate(features):\n",
    "        example_to_features[feature[\"example_id\"]].append((idx, batch_idx[idx]))\n",
    "    \n",
    "    for example in tqdm(examples, desc=\"Computing metrics\"):\n",
    "        example_id = example[\"id\"]\n",
    "        answers = []\n",
    "        \n",
    "        # Loop through all features associated with that example\n",
    "        for (feature_index, i) in example_to_features[example_id]:\n",
    "            start_logit = start_logits[feature_index]\n",
    "            end_logit = end_logits[feature_index]\n",
    "            offsets = features[feature_index][\"offset_mapping\"]\n",
    "\n",
    "            start_indexes = np.argsort(start_logit)[-1 : -n_best - 1 : -1].tolist()\n",
    "            end_indexes = np.argsort(end_logit)[-1 : -n_best - 1 : -1].tolist()\n",
    "            for start_index in start_indexes:\n",
    "                for end_index in end_indexes:\n",
    "                    # Skip answers that are not fully in the context\n",
    "                    if offsets[start_index] is None or offsets[end_index] is None:\n",
    "                        continue\n",
    "                    # Skip answers with a length that is either < 0 or > max_answer_length\n",
    "                    if (\n",
    "                        end_index < start_index\n",
    "                        or end_index - start_index + 1 > max_answer_length\n",
    "                    ):\n",
    "                        continue\n",
    "\n",
    "                    answers.append(start_logit[start_index] + end_logit[end_index])\n",
    "\n",
    "            if num_classes:\n",
    "                if 1 < len(answers) < 200: # pad to same numbers of possible answers\n",
    "                    zero_list = [0] * (200 - len(answers))\n",
    "                    answers.extend(zero_list)\n",
    "                elif len(answers) >= 200:\n",
    "                    answers = answers[:200]\n",
    "                probs[feature_index] = torch.tensor(answers)\n",
    "            else:\n",
    "                prob_dict[i] = torch.tensor(answers)\n",
    "\n",
    "    if num_classes:\n",
    "        return probs\n",
    "    else:\n",
    "        return prob_dict"
   ]
  },
  {
   "cell_type": "code",
   "execution_count": 99,
   "metadata": {},
   "outputs": [],
   "source": [
    "def get_prob(dataloader, device, features, examples, rd):\n",
    "    if rd == 1:\n",
    "        model = AutoModelForQuestionAnswering.from_pretrained(pretrain_model_dir).to(device)\n",
    "    else:\n",
    "        model = AutoModelForQuestionAnswering.from_config(model_dir).to(device)\n",
    "\n",
    "    # deepAL+: self.clf.eval()\n",
    "    model.eval()\n",
    "    idxs_start = 0\n",
    "    prob_dict = {}\n",
    "    with torch.no_grad():\n",
    "        for batch in tqdm(dataloader, desc=\"Evaluating_prob\"):\n",
    "            batch = {key: value.to(device) for key, value in batch.items()}\n",
    "            outputs = model(**batch)\n",
    "\n",
    "            # matually create features batch\n",
    "            data_len_batch = len(outputs.start_logits)\n",
    "            idxs_end = idxs_start + data_len_batch\n",
    "            batch_idx = list(range(idxs_start, idxs_end))\n",
    "            batch_feat = features.select(batch_idx)\n",
    "            idxs_start = idxs_end\n",
    "\n",
    "            prob_dict.update(logits_to_prob(outputs.start_logits.cpu().numpy(), outputs.end_logits.cpu().numpy(), batch_feat, batch_idx, examples)) # num_classes=False\n",
    "    \n",
    "    for k, v in prob_dict.items():\n",
    "        prob_dict[k] = F.softmax(v, dim=0)\n",
    "\n",
    "    return prob_dict"
   ]
  },
  {
   "cell_type": "code",
   "execution_count": 18,
   "metadata": {},
   "outputs": [],
   "source": [
    "def get_prob_dropout(dataloader, device, features, examples, n_drop=10):\n",
    "    # deepAL+: self.clf.train()\n",
    "    model = AutoModelForQuestionAnswering.from_pretrained(model_dir).to(device)\n",
    "    model.train()\n",
    "    # deepAL+: probs = torch.zeros([len(data), len(np.unique(data.Y))])\n",
    "    # deepAL+: loader = DataLoader(data, shuffle=False, **self.params['loader_te_args'])\n",
    "    prob_dict = {}\n",
    "    # deepAL+: for i in range(n_drop):\n",
    "    # deepAL+:     with torch.no_grad():\n",
    "    # deepAL+:         for x, y, idxs in loader:\n",
    "    # deepAL+:             x, y = x.to(self.device), y.to(self.device)\n",
    "    # deepAL+:             out, e1 = self.clf(x)\n",
    "    # deepAL+:             prob = F.softmax(out, dim=1)\n",
    "    # deepAL+:             probs[idxs] += prob.cpu()\n",
    "    for i in range(n_drop):\n",
    "        start_logits = []\n",
    "        end_logits = []\n",
    "        for batch in tqdm(dataloader, desc=\"Evaluating_prob_dropout\"):\n",
    "            batch = {key: value.to(device) for key, value in batch.items()}\n",
    "            with torch.no_grad():\n",
    "                outputs = model(**batch)\n",
    "\n",
    "            start_logits.append(outputs.start_logits.cpu().numpy())\n",
    "            end_logits.append(outputs.end_logits.cpu().numpy())\n",
    "\n",
    "        start_logits = np.concatenate(start_logits)\n",
    "        end_logits = np.concatenate(end_logits)\n",
    "        start_logits = start_logits[: len(features)]\n",
    "        end_logits = end_logits[: len(features)]\n",
    "\n",
    "        example_to_features = collections.defaultdict(list)\n",
    "        max_answer_length = 30\n",
    "        n_best = 20\n",
    "            \n",
    "        for idx, feature in enumerate(features):\n",
    "            example_to_features[feature[\"example_id\"]].append(idx)\n",
    "\n",
    "        n = 0\n",
    "        for example in tqdm(examples):\n",
    "            example_id = example[\"id\"]\n",
    "            answers = []\n",
    "\n",
    "            # Loop through all features associated with that example\n",
    "            for feature_index in example_to_features[example_id]:\n",
    "                start_logit = start_logits[feature_index]\n",
    "                end_logit = end_logits[feature_index]\n",
    "                offsets = features[feature_index][\"offset_mapping\"]\n",
    "\n",
    "                start_indexes = np.argsort(start_logit)[-1 : -n_best - 1 : -1].tolist()\n",
    "                end_indexes = np.argsort(end_logit)[-1 : -n_best - 1 : -1].tolist()\n",
    "                for start_index in start_indexes:\n",
    "                    for end_index in end_indexes:\n",
    "                        # Skip answers that are not fully in the context\n",
    "                        if offsets[start_index] is None or offsets[end_index] is None:\n",
    "                            continue\n",
    "                        # Skip answers with a length that is either < 0 or > max_answer_length\n",
    "                        if (\n",
    "                            end_index < start_index\n",
    "                            or end_index - start_index + 1 > max_answer_length\n",
    "                        ):\n",
    "                            continue\n",
    "\n",
    "                        answers.append(start_logit[start_index] + end_logit[end_index])\n",
    "\n",
    "            if 1 < len(answers) < 200: # pad to same numbers of possible answers\n",
    "                zero_list = [0] * (200 - len(answers))\n",
    "                answers.extend(zero_list)\n",
    "            elif len(answers) >= 200:\n",
    "                answers = answers[:200]\n",
    "\n",
    "            if len(answers) > 1:\n",
    "                if feature_index not in prob_dict:\n",
    "                    prob_dict[feature_index] = softmax(answers)\n",
    "                else:\n",
    "                    prob_dict[feature_index] += softmax(answers)\n",
    "            elif example_to_features[example_id] != []:\n",
    "                if feature_index not in prob_dict:\n",
    "                    prob_dict[feature_index] = np.array([0])   \n",
    "\n",
    "    for key in prob_dict.keys():\n",
    "        prob_dict[key] /= n_drop\n",
    "\n",
    "    return prob_dict"
   ]
  },
  {
   "cell_type": "code",
   "execution_count": 19,
   "metadata": {},
   "outputs": [],
   "source": [
    "# need to be tested\n",
    "def get_prob_dropout_split(dataloader, device, features, examples, n_drop=10):\n",
    "    ## use tensor to save the answers\n",
    "    model = AutoModelForQuestionAnswering.from_pretrained(model_dir).to(device)\n",
    "    model.train()\n",
    "\n",
    "    probs = torch.zeros([n_drop, len(dataloader.dataset), 200])\n",
    "    \n",
    "    for i in range(n_drop):\n",
    "        start_logits = []\n",
    "        end_logits = []\n",
    "        with torch.no_grad():\n",
    "            for batch in tqdm(dataloader, desc=\"Evaluating_prob_dropout\"):\n",
    "                batch = {key: value.to(device) for key, value in batch.items()}\n",
    "                \n",
    "                outputs = model(**batch)\n",
    "\n",
    "                # matually create features batch\n",
    "                data_len_batch = len(outputs.start_logits)\n",
    "                idxs_end = idxs_start + data_len_batch\n",
    "                batch_idx = list(range(idxs_start, idxs_end))\n",
    "                batch_feat = features.select(batch_idx)\n",
    "                idxs_start = idxs_end\n",
    "\n",
    "                out = logits_to_prob(outputs.start_logits.cpu().numpy(), outputs.end_logits.cpu().numpy(), batch_feat, batch_idx, examples, num_classes=True)\n",
    "                prob = F.softmax(out, dim=1)\n",
    "                # deepAL+: probs[i][idxs] += F.softmax(out, dim=1).cpu()\n",
    "                probs[i][batch_idx] += F.softmax(out, dim=1).cpu()\n",
    "                # start_logits.append(outputs.start_logits.cpu().numpy())\n",
    "                # end_logits.append(outputs.end_logits.cpu().numpy())\n",
    "\n",
    "            # start_logits = np.concatenate(start_logits)\n",
    "            # end_logits = np.concatenate(end_logits)\n",
    "            # start_logits = start_logits[: len(features)]\n",
    "            # end_logits = end_logits[: len(features)]\n",
    "\n",
    "            # example_to_features = collections.defaultdict(list)\n",
    "            # max_answer_length = 30\n",
    "            # n_best = 20\n",
    "                \n",
    "            # for idx, feature in enumerate(features):\n",
    "            #     example_to_features[feature[\"example_id\"]].append(idx)\n",
    "\n",
    "            # n = 0\n",
    "            # for example in tqdm(examples, desc=\"Computing metrics\"):\n",
    "            #     example_id = example[\"id\"]\n",
    "            #     answers = []\n",
    "\n",
    "            #     # Loop through all features associated with that example\n",
    "            #     for feature_index in example_to_features[example_id]:\n",
    "            #         start_logit = start_logits[feature_index]\n",
    "            #         end_logit = end_logits[feature_index]\n",
    "            #         offsets = features[feature_index][\"offset_mapping\"]\n",
    "\n",
    "            #         start_indexes = np.argsort(start_logit)[-1 : -n_best - 1 : -1].tolist()\n",
    "            #         end_indexes = np.argsort(end_logit)[-1 : -n_best - 1 : -1].tolist()\n",
    "            #         for start_index in start_indexes:\n",
    "            #             for end_index in end_indexes:\n",
    "            #                 # Skip answers that are not fully in the context\n",
    "            #                 if offsets[start_index] is None or offsets[end_index] is None:\n",
    "            #                     continue\n",
    "            #                 # Skip answers with a length that is either < 0 or > max_answer_length\n",
    "            #                 if (\n",
    "            #                     end_index < start_index\n",
    "            #                     or end_index - start_index + 1 > max_answer_length\n",
    "            #                 ):\n",
    "            #                     continue\n",
    "\n",
    "            #                 answers.append(start_logit[start_index] + end_logit[end_index])\n",
    "\n",
    "                \n",
    "            #         if 1 < len(answers) < 200: # pad to same numbers of possible answers\n",
    "            #             zero_list = [0] * (200 - len(answers))\n",
    "            #             answers.extend(zero_list)\n",
    "            #         elif len(answers) >= 200:\n",
    "            #             answers = answers[:200]\n",
    "\n",
    "                    # probs[i][feature_index] += torch.tensor(softmax(answers))\n",
    "    return probs"
   ]
  },
  {
   "cell_type": "code",
   "execution_count": 20,
   "metadata": {},
   "outputs": [],
   "source": [
    "def get_embeddings(dataloader, device, features, examples, rd):\n",
    "    if rd == 1:\n",
    "        config = BertConfig.from_pretrained(pretrain_model_dir, output_hidden_states=True)\n",
    "    else: \n",
    "        config = BertConfig.from_pretrained(model_dir, output_hidden_states=True)\n",
    "    model = AutoModelForQuestionAnswering.from_config(config).to(device)\n",
    "\n",
    "    model.eval()\n",
    "    embeddings = torch.zeros([len(dataloader.dataset), model.config.to_dict()['hidden_size']])\n",
    "    idxs_start = 0\n",
    "\n",
    "    # deepAL+: with torch.no_grad():\n",
    "    # deepAL+:     for x, y, idxs in loader:\n",
    "    # deepAL+:         x, y = x.to(self.device), y.to(self.device)\n",
    "    # deepAL+:         out, e1 = self.clf(x)\n",
    "    # deepAL+:         embeddings[idxs] = e1.cpu()\n",
    "\n",
    "    # TODO: change the loop sequence, needs a test\n",
    "    with torch.no_grad():\n",
    "        for batch in tqdm(dataloader, desc=\"Evaluating_prob\"):\n",
    "            batch = {key: value.to(device) for key, value in batch.items()}\n",
    "            outputs = model(**batch)\n",
    "            # print('len_output:', len(outputs)) # 4\n",
    "            # print('outputs:', outputs) # (loss, start_logits, end_logits, hidden_states)\n",
    "\n",
    "            hidden_states = outputs.hidden_states\n",
    "            # print('len_hidden_states:', len(hidden_states)) # 13 # each one has: (batch_size, sequence_length, hidden_size)\n",
    "            # # hidden_states[0] -> last hidden states\n",
    "            # print('len_hidden_states[0]:', len(hidden_states[0])) # 8, 8, 4\n",
    "            # print('len_hidden_states[0][0]:', len(hidden_states[0][0])) # 384, 384, 384 # tokens in each sequence\n",
    "            # print('len_hidden_states[0][0][0]:', len(hidden_states[0][0][0])) # 768, 768, 768 # number of hidden units\n",
    "            # print('hidden_states:', hidden_states) \n",
    "\n",
    "            # TODO: Question!!!!!\n",
    "            embedding_of_last_layer = hidden_states[-1][:, 0, :] # [:, 0, :] -> to get [cls], but all the same\n",
    "            # print(embedding_of_last_layer[0][0])\n",
    "            idxs_end = idxs_start + len(hidden_states[0])\n",
    "            # print(idxs_start)\n",
    "            # print(idxs_end)\n",
    "            embeddings[idxs_start:idxs_end] = embedding_of_last_layer.cpu()\n",
    "            idxs_start = idxs_end\n",
    "        \n",
    "    return embeddings "
   ]
  },
  {
   "cell_type": "code",
   "execution_count": 20,
   "metadata": {},
   "outputs": [],
   "source": [
    "def get_grad_embeddings(dataloader, device, features, examples, rd):\n",
    "    if rd == 1:\n",
    "        config = BertConfig.from_pretrained(pretrain_model_dir, output_hidden_states=True)\n",
    "    else: \n",
    "        config = BertConfig.from_pretrained(model_dir, output_hidden_states=True)\n",
    "    model = AutoModelForQuestionAnswering.from_config(config).to(device)\n",
    "    model.eval()\n",
    "\n",
    "    # deepAL+: nLab = self.params['num_class']\n",
    "    nLab = 200\n",
    "    embDim = model.config.to_dict()['hidden_size']\n",
    "    embeddings = np.zeros([len(dataloader.dataset), embDim * nLab])\n",
    "\n",
    "    prob_dict = []\n",
    "    data_len_start = 0\n",
    "\n",
    "    with torch.no_grad():\n",
    "        for batch in tqdm(dataloader, desc=\"Evaluating_prob\"):\n",
    "            batch = {key: Variable(value.to(device)) for key, value in batch.items()}\n",
    "                \n",
    "            # deepAL+: out, e1 = self.clf(x)\n",
    "            outputs = model(**batch)\n",
    "            # deepAL+: e1 = e1.data.cpu().numpy()\n",
    "            hidden_states = outputs.hidden_states\n",
    "            embedding_of_last_layer = hidden_states[-1][:, 0, :]\n",
    "            embedding_of_last_layer = embedding_of_last_layer.data.cpu().numpy()\n",
    "\n",
    "            # matually create features batch\n",
    "            data_len_batch = len(outputs.start_logits)\n",
    "            data_len_end = data_len_start + data_len_batch\n",
    "            batch_idx = list(range(data_len_start, data_len_end))\n",
    "            batch_feat = features.select(batch_idx)\n",
    "            data_len_start = data_len_end\n",
    "\n",
    "            # deepAL+: batchProbs = F.softmax(out, dim=1).data.cpu().numpy()\n",
    "            # deepAL+: maxInds = np.argmax(batchProbs, 1)\n",
    "            start_logits = outputs.start_logits.cpu().numpy()\n",
    "            end_logits = outputs.end_logits.cpu().numpy()\n",
    "\n",
    "            probs = torch.zeros([len(batch_idx), 200])\n",
    "            example_to_features = collections.defaultdict(list)\n",
    "            max_answer_length = 30\n",
    "            n_best = 20\n",
    "            for idx, feature in enumerate(features):\n",
    "                example_to_features[feature[\"example_id\"]].append((idx, batch_idx[idx]))\n",
    "            \n",
    "            for example in tqdm(examples, desc=\"Computing metrics\"):\n",
    "                example_id = example[\"id\"]\n",
    "                answers = []\n",
    "                \n",
    "                # Loop through all features associated with that example\n",
    "                for (feature_index, i) in example_to_features[example_id]:\n",
    "                    start_logit = start_logits[feature_index]\n",
    "                    end_logit = end_logits[feature_index]\n",
    "                    offsets = features[feature_index][\"offset_mapping\"]\n",
    "\n",
    "                    start_indexes = np.argsort(start_logit)[-1 : -n_best - 1 : -1].tolist()\n",
    "                    end_indexes = np.argsort(end_logit)[-1 : -n_best - 1 : -1].tolist()\n",
    "                    for start_index in start_indexes:\n",
    "                        for end_index in end_indexes:\n",
    "                            # Skip answers that are not fully in the context\n",
    "                            if offsets[start_index] is None or offsets[end_index] is None:\n",
    "                                continue\n",
    "                            # Skip answers with a length that is either < 0 or > max_answer_length\n",
    "                            if (\n",
    "                                end_index < start_index\n",
    "                                or end_index - start_index + 1 > max_answer_length\n",
    "                            ):\n",
    "                                continue\n",
    "\n",
    "                            answers.append(start_logit[start_index] + end_logit[end_index])\n",
    "\n",
    "                    if 1 < len(answers) < 200: # pad to same numbers of possible answers\n",
    "                        zero_list = [0] * (200 - len(answers))\n",
    "                        answers.extend(zero_list)\n",
    "                    elif len(answers) >= 200:\n",
    "                        answers = answers[:200]\n",
    "                    probs[feature_index] = torch.tensor(answers)\n",
    "\n",
    "            batchProbs = F.softmax(probs, dim=1).data.cpu().numpy()\n",
    "            maxInds = np.argmax(batchProbs, 1)\n",
    "\n",
    "            for j in range(data_len_batch):\n",
    "                for c in range(nLab):\n",
    "                    if c == maxInds[j]:\n",
    "                        embeddings[batch_idx[j]][embDim * c : embDim * (c+1)] = deepcopy(embedding_of_last_layer[j]) * (1 - batchProbs[j][c]) * -1.0\n",
    "                    else:\n",
    "                        embeddings[batch_idx[j]][embDim * c : embDim * (c+1)] = deepcopy(embedding_of_last_layer[j]) * (-1 * batchProbs[j][c]) * -1.0\n",
    "            \n",
    "            return embeddings"
   ]
  },
  {
   "attachments": {},
   "cell_type": "markdown",
   "metadata": {},
   "source": [
    "## utils.py"
   ]
  },
  {
   "cell_type": "code",
   "execution_count": 22,
   "metadata": {},
   "outputs": [],
   "source": [
    "def get_unlabel_data(n_pool, labeled_idxs, train_dataset):\n",
    "    unlabeled_idxs = np.arange(n_pool)[~labeled_idxs]\n",
    "    unlabeled_data = train_dataset.select(indices=unlabeled_idxs)\n",
    "    return unlabeled_idxs, unlabeled_data"
   ]
  },
  {
   "cell_type": "code",
   "execution_count": 98,
   "metadata": {},
   "outputs": [],
   "source": [
    "def softmax(x): \n",
    "    \"\"\"Compute softmax values for each sets of scores in x.\"\"\"\n",
    "    softmax_num = np.exp(x) / np.sum(np.exp(x), axis=0)\n",
    "    return np.round(softmax_num, decimals=4)"
   ]
  },
  {
   "cell_type": "code",
   "execution_count": 24,
   "metadata": {},
   "outputs": [],
   "source": [
    "from scipy import stats\n",
    "from sklearn.metrics import pairwise_distances\n",
    "import pdb\n",
    "\n",
    "# kmeans ++ initialization\n",
    "def init_centers(X, K):\n",
    "    ind = np.argmax([np.linalg.norm(s, 2) for s in X])\n",
    "    mu = [X[ind]]\n",
    "    indsAll = [ind]\n",
    "    centInds = [0.] * len(X)\n",
    "    cent = 0\n",
    "    print('#Samps\\tTotal Distance')\n",
    "    while len(mu) < K:\n",
    "        if len(mu) == 1:\n",
    "            D2 = pairwise_distances(X, mu).ravel().astype(float)\n",
    "        else:\n",
    "            newD = pairwise_distances(X, [mu[-1]]).ravel().astype(float)\n",
    "            for i in range(len(X)):\n",
    "                if D2[i] >  newD[i]:\n",
    "                    centInds[i] = cent\n",
    "                    D2[i] = newD[i]\n",
    "        print(str(len(mu)) + '\\t' + str(sum(D2)), flush=True)\n",
    "        if sum(D2) == 0.0: pdb.set_trace()\n",
    "        D2 = D2.ravel().astype(float)\n",
    "        Ddist = (D2 ** 2)/ sum(D2 ** 2)\n",
    "        customDist = stats.rv_discrete(name='custm', values=(np.arange(len(D2)), Ddist))\n",
    "        ind = customDist.rvs(size=1)[0]\n",
    "        while ind in indsAll: ind = customDist.rvs(size=1)[0]\n",
    "        mu.append(X[ind])\n",
    "        indsAll.append(ind)\n",
    "        cent += 1\n",
    "    return indsAll"
   ]
  },
  {
   "attachments": {},
   "cell_type": "markdown",
   "metadata": {},
   "source": [
    "## Query"
   ]
  },
  {
   "cell_type": "code",
   "execution_count": 25,
   "metadata": {},
   "outputs": [],
   "source": [
    "def random_sampling_query(labeled_idxs, n, rd):\n",
    "    return np.random.choice(np.where(labeled_idxs==0)[0], n, replace=False)"
   ]
  },
  {
   "cell_type": "code",
   "execution_count": 26,
   "metadata": {},
   "outputs": [],
   "source": [
    "def margin_sampling_query(n_pool, labeled_idxs, train_dataset, train_features, examples, device, n, rd):\n",
    "    # deepAL+: unlabeled_idxs, unlabeled_data = self.dataset.get_unlabeled_data()\n",
    "    unlabeled_idxs, unlabeled_data = get_unlabel_data(n_pool, labeled_idxs, train_dataset)\n",
    "    unlabeled_features = train_features.select(unlabeled_idxs)\n",
    "    unlabeled_dataloader = DataLoader(\n",
    "\t\tunlabeled_data,\n",
    "\t\tshuffle=False,\n",
    "\t\tcollate_fn=default_data_collator,\n",
    "\t\tbatch_size=8,\n",
    "\t)\n",
    "    # TODO: print for recording\n",
    "    print('Margin querying starts!')\n",
    "    # deepAL+: probs = self.predict_prob(unlabeled_data)\n",
    "    prob_dict = get_prob(unlabeled_dataloader, device, unlabeled_features, examples, rd)\n",
    "    # TODO: print for recording\n",
    "    print('Got probability!')\n",
    "    # deepAL+: probs_sorted, _ = probs.sort(descending=True)\n",
    "    # deepAL+: uncertainties = probs_sorted[:, 0] - probs_sorted[:,1]\n",
    "    uncertainties_dict = {}\n",
    "    for idx, probs in prob_dict.items():\n",
    "        if len(probs) > 1: # if prob_dict['probs'] is not 0\n",
    "            sort_probs = np.sort(probs)[::-1] # This method returns a copy of the array, leaving the original array unchanged.\n",
    "            uncertainties_dict[idx] = sort_probs[0] - sort_probs[1]\n",
    "        elif idx:\n",
    "            uncertainties_dict[idx] = np.array([0])\n",
    "\n",
    "    # deepAL+: return unlabeled_idxs[uncertainties.sort()[1][:n]] \n",
    "    sorted_uncertainties_list = sorted(uncertainties_dict.items(), key=lambda x: x[1], reverse=True)\n",
    "    \n",
    "    return unlabeled_idxs[[idx for (idx, uncertainties) in sorted_uncertainties_list[:n]]]"
   ]
  },
  {
   "cell_type": "code",
   "execution_count": 27,
   "metadata": {},
   "outputs": [],
   "source": [
    "def least_confidence_query(n_pool, labeled_idxs, train_dataset, train_features, examples, device, n, rd):\n",
    "    # deepAL+: unlabeled_idxs, unlabeled_data = self.dataset.get_unlabeled_data()\n",
    "    unlabeled_idxs, unlabeled_data = get_unlabel_data(n_pool, labeled_idxs, train_dataset)\n",
    "    unlabeled_features = train_features.select(unlabeled_idxs)\n",
    "    unlabeled_dataloader = DataLoader(\n",
    "\t\tunlabeled_data,\n",
    "\t\tshuffle=False,\n",
    "\t\tcollate_fn=default_data_collator,\n",
    "\t\tbatch_size=8,\n",
    "\t)\n",
    "    # TODO: print for recording\n",
    "    print('LC querying starts!')\n",
    "    # deepAL+: probs = self.predict_prob(unlabeled_data)\n",
    "    prob_dict = get_prob(unlabeled_dataloader, device, unlabeled_features, examples)\n",
    "    # TODO: print for recording\n",
    "    print('Got probability!')\n",
    "    # deepAL+: uncertainties = probs.max(1)[0]\n",
    "    confidence_dict = {}\n",
    "    for idx, probs in prob_dict.items():\n",
    "        if len(probs) > 1: # if prob_dict['probs'] is not 0\n",
    "            confidence_dict[idx] = max(probs)\n",
    "        elif idx:\n",
    "            confidence_dict[idx] = np.array([0])\n",
    "\n",
    "    # deepAL+: return unlabeled_idxs[uncertainties.sort()[1][:n]]\n",
    "    sorted_confidence_list = sorted(confidence_dict.items, key=lambda x: x[1])\n",
    "    return unlabeled_idxs[[idx for (idx, confidence) in sorted_confidence_list[:n]]]"
   ]
  },
  {
   "cell_type": "code",
   "execution_count": 28,
   "metadata": {},
   "outputs": [],
   "source": [
    "def var_ratio_query(n_pool, labeled_idxs, train_dataset, train_features, examples, device, n, rd):\n",
    "    # deepAL+: unlabeled_idxs, unlabeled_data = self.dataset.get_unlabeled_data()\n",
    "    unlabeled_idxs, unlabeled_data = get_unlabel_data(n_pool, labeled_idxs, train_dataset)\n",
    "    unlabeled_features = train_features.select(unlabeled_idxs)\n",
    "    unlabeled_dataloader = DataLoader(\n",
    "\t\tunlabeled_data,\n",
    "\t\tshuffle=False,\n",
    "\t\tcollate_fn=default_data_collator,\n",
    "\t\tbatch_size=8,\n",
    "\t)\n",
    "    # TODO: print for recording\n",
    "    print('Var Ratio querying starts!')\n",
    "    # deepAL+: probs = self.predict_prob(unlabeled_data)\n",
    "    prob_dict = get_prob(unlabeled_dataloader, device, unlabeled_features, examples)\n",
    "    # TODO: print for recording\n",
    "    print('Got probability!')\n",
    "    # deepAL+: preds = torch.max(probs, 1)[0]\n",
    "    # deepAL+: uncertainties = 1.0 - preds\n",
    "    confidence_dict = {}\n",
    "    for idx, probs in prob_dict.items():\n",
    "        if len(probs) > 1: # if prob_dict['probs'] is not 0\n",
    "            confidence_dict[idx] = 1.0 - max(probs)\n",
    "        elif idx:\n",
    "            confidence_dict[idx] = np.array([0])\n",
    "\n",
    "    # deepAL+: return unlabeled_idxs[uncertainties.sort(descending=True)[1][:n]]\n",
    "    sorted_confidence_list = sorted(confidence_dict.items, key=lambda x: x[1], reverse=True)\n",
    "    return unlabeled_idxs[[idx for (idx, confidence) in sorted_confidence_list[:n]]]\n",
    "# comment for the same query as LC"
   ]
  },
  {
   "cell_type": "code",
   "execution_count": 29,
   "metadata": {},
   "outputs": [],
   "source": [
    "def entropy_query(n_pool, labeled_idxs, train_dataset, train_features, examples, device, n, rd):\n",
    "    # deepAL+: unlabeled_idxs, unlabeled_data = self.dataset.get_unlabeled_data()\n",
    "    unlabeled_idxs, unlabeled_data = get_unlabel_data(n_pool, labeled_idxs, train_dataset)\n",
    "    unlabeled_features = train_features.select(unlabeled_idxs)\n",
    "    unlabeled_dataloader = DataLoader(\n",
    "\t\tunlabeled_data,\n",
    "\t\tshuffle=False,\n",
    "\t\tcollate_fn=default_data_collator,\n",
    "\t\tbatch_size=8,\n",
    "\t)\n",
    "    # deepAL+: probs = self.predict_prob(unlabeled_data)\n",
    "    # TODO: print for recording\n",
    "    print('Entropy querying starts!')\n",
    "    prob_dict = get_prob(unlabeled_dataloader, device, unlabeled_features, examples)\n",
    "    # TODO: print for recording\n",
    "    print('Got probability!')\n",
    "    # deepAL+: log_probs = torch.log(probs)\n",
    "    # deepAL+: uncertainties = (probs*log_probs).sum(1)\n",
    "    entropy_dict = {}\n",
    "    for idx, probs in prob_dict.items():\n",
    "        if len(probs) > 1: # if prob_dict['probs'] is not 0\n",
    "            log_probs = np.log(probs)\n",
    "            entropy_dict[idx] = (probs*log_probs).sum()\n",
    "        elif idx:\n",
    "            entropy_dict[idx] = np.array([0])\n",
    "    # deepAL+: return unlabeled_idxs[uncertainties.sort()[1][:n]]\n",
    "    sorted_entropy_list = sorted(entropy_dict.items(), key=lambda x: x[1])\n",
    "    return unlabeled_idxs[[idx for (idx, entropy) in sorted_entropy_list[:n]]]"
   ]
  },
  {
   "cell_type": "code",
   "execution_count": 30,
   "metadata": {},
   "outputs": [],
   "source": [
    "def margin_sampling_dropout_query(n_pool, labeled_idxs, train_dataset, train_features, examples, device, n, rd):\n",
    "    unlabeled_idxs, unlabeled_data = get_unlabel_data(n_pool, labeled_idxs, train_dataset)\n",
    "    unlabeled_features = train_features.select(unlabeled_idxs)\n",
    "    unlabeled_dataloader = DataLoader(\n",
    "\t\tunlabeled_data,\n",
    "\t\tshuffle=False,\n",
    "\t\tcollate_fn=default_data_collator,\n",
    "\t\tbatch_size=8,\n",
    "\t)\n",
    "    # TODO: print for recording\n",
    "    print('Margin dropout querying starts!')\n",
    "    prob_dict = get_prob_dropout(unlabeled_dataloader, device, unlabeled_features, examples)\n",
    "    # TODO: print for recording\n",
    "    print('Got probability!')\n",
    "    uncertainties_dict = {}\n",
    "    for idx, probs in prob_dict.items():\n",
    "        if len(probs) > 1: # if prob_dict['probs'] is not 0\n",
    "            sort_probs = np.sort(probs)[::-1] # This method returns a copy of the array, leaving the original array unchanged.\n",
    "            uncertainties_dict[idx] = sort_probs[0] - sort_probs[1]\n",
    "        elif idx:\n",
    "            uncertainties_dict[idx] = np.array([0])\n",
    "\n",
    "    sorted_uncertainties_list = sorted(uncertainties_dict.items(), key=lambda x: x[1], reverse=True)\n",
    "    return unlabeled_idxs[[idx for (idx, uncertainties) in sorted_uncertainties_list[:n]]]"
   ]
  },
  {
   "cell_type": "code",
   "execution_count": 31,
   "metadata": {},
   "outputs": [],
   "source": [
    "def mean_std_query(n_pool, labeled_idxs, train_dataset, train_features, examples, device, n, rd):\n",
    "    # deepAL+: unlabeled_idxs, unlabeled_data = self.dataset.get_unlabeled_data()\n",
    "    unlabeled_idxs, unlabeled_data = get_unlabel_data(n_pool, labeled_idxs, train_dataset)\n",
    "    unlabeled_features = train_features.select(unlabeled_idxs)\n",
    "    unlabeled_dataloader = DataLoader(\n",
    "  \t\tunlabeled_data,\n",
    "      shuffle=False,\n",
    "      collate_fn=default_data_collator,\n",
    "      batch_size=8,\n",
    "    )\n",
    "    # TODO: print for recording\n",
    "    print('Mean STD querying starts!')\n",
    "    # deepAL+: probs = self.predict_prob_dropout_split(unlabeled_data, n_drop=self.n_drop).numpy()\n",
    "    probs = get_prob_dropout_split(unlabeled_dataloader, device, unlabeled_features, examples).numpy()\n",
    "    # TODO: print for recording\n",
    "    print('Got probability!')\n",
    "    # deepAL+: sigma_c = np.std(probs, axis=0)\n",
    "    sigma_c = np.std(probs, axis=0)\n",
    "    # deepAL+: uncertainties = torch.from_numpy(np.mean(sigma_c, axis=-1))\n",
    "    uncertainties = torch.from_numpy(np.mean(sigma_c, axis=-1)) # use tensor.sort() will sort the data and produce sorted indexes\n",
    "    # deepAL+: return unlabeled_idxs[uncertainties.sort(descending=True)[1][:n]] # [1]: to get sorted data's indexes\n",
    "    return unlabeled_idxs[uncertainties.sort(descending=True)[1][:n]]"
   ]
  },
  {
   "cell_type": "code",
   "execution_count": 32,
   "metadata": {},
   "outputs": [],
   "source": [
    "def bayesian_query(n_pool, labeled_idxs, train_dataset, train_features, examples, device, n, rd):\n",
    "    # deepAL+: unlabeled_idxs, unlabeled_data = self.dataset.get_unlabeled_data()\n",
    "    unlabeled_idxs, unlabeled_data = get_unlabel_data(n_pool, labeled_idxs, train_dataset)\n",
    "    unlabeled_features = train_features.select(unlabeled_idxs)\n",
    "    unlabeled_dataloader = DataLoader(\n",
    "      unlabeled_data,\n",
    "      shuffle=False,\n",
    "      collate_fn=default_data_collator,\n",
    "      batch_size=8,\n",
    "    )\n",
    "    # deepAL+: probs = self.predict_prob_dropout_split(unlabeled_data, n_drop=self.n_drop)\n",
    "    probs = get_prob_dropout_split(unlabeled_dataloader, device, unlabeled_features, examples)\n",
    "    # deepAL+: pb = probs.mean(0)\n",
    "    probs_mean = probs.mean(0)\n",
    "    # deepAL+: entropy1 = (-pb*torch.log(pb)).sum(1)\n",
    "    entropy1 = (-probs_mean*torch.log(probs_mean)).sum(1)\n",
    "    # deepAL+: entropy2 = (-probs*torch.log(probs)).sum(2).mean(0)\n",
    "    entropy2 = (-probs*torch.log(probs)).sum(2).mean(0)\n",
    "    # deepAL+: uncertainties = entropy2 - entropy1\n",
    "    uncertainties = entropy2 - entropy1\n",
    "    # later on, we can use batch\n",
    "    # deepAL+: return unlabeled_idxs[uncertainties.sort()[1][:n]]\n",
    "    return unlabeled_idxs[uncertainties.sort()[1][:n]]"
   ]
  },
  {
   "cell_type": "code",
   "execution_count": 33,
   "metadata": {},
   "outputs": [],
   "source": [
    "def bayesian_query(n_pool, labeled_idxs, train_dataset, train_features, examples, device, n, rd):\n",
    "    unlabeled_idxs, unlabeled_data = get_unlabel_data(n_pool, labeled_idxs, train_dataset)\n",
    "    unlabeled_features = train_features.select(unlabeled_idxs)\n",
    "    unlabeled_dataloader = DataLoader(\n",
    "      unlabeled_data,\n",
    "      shuffle=False,\n",
    "      collate_fn=default_data_collator,\n",
    "      batch_size=8,\n",
    "    )\n",
    "    # TODO: print for recording\n",
    "    print('BALD querying starts!')\n",
    "    probs = get_prob_dropout_split(unlabeled_dataloader, device, unlabeled_features, examples)\n",
    "    # TODO: print for recording\n",
    "    print('Got probability!')\n",
    "    probs_mean = probs.mean(0)\n",
    "    entropy1 = (-probs_mean*torch.log(probs_mean)).sum(1)\n",
    "    entropy2 = (-probs*torch.log(probs)).sum(2).mean(0)\n",
    "    uncertainties = entropy2 - entropy1\n",
    "    # later on, we can use batch\n",
    "    return unlabeled_idxs[uncertainties.sort()[1][:n]]"
   ]
  },
  {
   "cell_type": "code",
   "execution_count": 34,
   "metadata": {},
   "outputs": [],
   "source": [
    "def mean_std_query(n_pool, labeled_idxs, train_dataset, train_features, examples, device, n, rd):\n",
    "    unlabeled_idxs, unlabeled_data = get_unlabel_data(n_pool, labeled_idxs, train_dataset)\n",
    "    unlabeled_features = train_features.select(unlabeled_idxs)\n",
    "    unlabeled_dataloader = DataLoader(\n",
    "  \t\tunlabeled_data,\n",
    "      shuffle=False,\n",
    "      collate_fn=default_data_collator,\n",
    "      batch_size=8,\n",
    "    )\n",
    "    # TODO: print for recording\n",
    "    print('Mean STD querying starts!')\n",
    "    probs = get_prob_dropout_split(unlabeled_dataloader, device, unlabeled_features, examples).numpy()\n",
    "    # TODO: print for recording\n",
    "    print('Got probability!')\n",
    "    sigma_c = np.std(probs, axis=0)\n",
    "    uncertainties = torch.from_numpy(np.mean(sigma_c, axis=-1)) # use tensor.sort() will sort the data and produce sorted indexes\n",
    "    return unlabeled_idxs[uncertainties.sort(descending=True)[1][:n]]"
   ]
  },
  {
   "cell_type": "code",
   "execution_count": 35,
   "metadata": {},
   "outputs": [],
   "source": [
    "def kmeans_query(n_pool, labeled_idxs, train_dataset, train_features, examples, device, n, rd):\n",
    "    # deepAL+: unlabeled_idxs, unlabeled_data = self.dataset.get_unlabeled_data()\n",
    "    unlabeled_idxs, unlabeled_data = get_unlabel_data(n_pool, labeled_idxs, train_dataset)\n",
    "    unlabeled_features = train_features.select(unlabeled_idxs)\n",
    "    unlabeled_dataloader = DataLoader(\n",
    "      unlabeled_data,\n",
    "      shuffle=False,\n",
    "      collate_fn=default_data_collator,\n",
    "      batch_size=8,\n",
    "    )\n",
    "    # deepAL+: embeddings = get_embeddings(unlabeled_data)\n",
    "    embeddings = get_embeddings(unlabeled_dataloader, device, unlabeled_features, examples, rd)\n",
    "    # deepAL+: embeddings = embeddings.numpy()\n",
    "    embeddings = embeddings.numpy()\n",
    "    # print(embeddings.shape)\n",
    "    # deepAL+: cluster_learner = KMeans(n_clusters=n)\n",
    "    cluster_learner = KMeans(n_clusters=n)\n",
    "    # deepAL+: cluster_learner.fit(embeddings)\n",
    "    cluster_learner.fit(embeddings)\n",
    "    # deepAL+: cluster_idxs = cluster_learner.predict(embeddings)\n",
    "    cluster_idxs = cluster_learner.predict(embeddings)\n",
    "    # deepAL+: centers = cluster_learner.cluster_centers_[cluster_idxs]\n",
    "    centers = cluster_learner.cluster_centers_[cluster_idxs]\n",
    "    # deepAL+: dis = (embeddings - centers)**2\n",
    "    dis = (embeddings - centers)**2\n",
    "    # deepAL+: dis = dis.sum(axis=1)\n",
    "    dis = dis.sum(axis=1)\n",
    "    # deepAL+: q_idxs = np.array([np.arange(embeddings.shape[0])[cluster_idxs==i][dis[cluster_idxs==i].argmin()] for i in range(n)])\n",
    "    q_idxs = np.array([np.arange(embeddings.shape[0])[cluster_idxs==i][dis[cluster_idxs==i].argmin()] for i in range(n)])\n",
    "\n",
    "    # deepAL+: return unlabeled_idxs[q_idxs]\n",
    "    return unlabeled_idxs[q_idxs]\n",
    "    \n",
    "    "
   ]
  },
  {
   "cell_type": "code",
   "execution_count": 36,
   "metadata": {},
   "outputs": [],
   "source": [
    "def kcenter_greedy_query(n_pool, labeled_idxs, train_dataset, train_features, examples, device, n, rd):\n",
    "    # deepAL+: labeled_idxs, train_data = self.dataset.get_train_data()\n",
    "    labeled_idxs_in_query = labeled_idxs.copy()\n",
    "    # train_data = train_dataset\n",
    "    train_dataloader = DataLoader(\n",
    "      train_dataset,\n",
    "      shuffle=False,\n",
    "      collate_fn=default_data_collator,\n",
    "      batch_size=8,\n",
    "    )\n",
    "    # deepAL+: embeddings = self.get_embeddings(train_data)\n",
    "    embeddings = get_embeddings(train_dataloader, device, train_features, examples, rd)\n",
    "    # deepAL+: embeddings = embeddings.numpy()\n",
    "    embeddings = embeddings.numpy()\n",
    "    # deepAL+: dist_mat = np.matmul(embeddings, embeddings.transpose())\n",
    "    dist_mat = np.matmul(embeddings, embeddings.transpose())\n",
    "    # deepAL+: sq = np.array(dist_mat.diagonal()).reshape(len(labeled_idxs), 1)\n",
    "    sq = np.array(dist_mat.diagonal()).reshape(len(labeled_idxs_in_query), 1)\n",
    "    # deepAL+: dist_mat *= -2\n",
    "    dist_mat *= -2\n",
    "    # deepAL+: dist_mat += sq\n",
    "    dist_mat += sq\n",
    "    # deepAL+: dist_mat += sq.transpose()\n",
    "    dist_mat += sq.transpose()\n",
    "    # deepAL+: dist_mat = np.sqrt(dist_mat)\n",
    "    dist_mat = np.sqrt(dist_mat)\n",
    "\n",
    "    # deepAL+: mat = dist_mat[~labeled_idxs, :][:, labeled_idxs]\n",
    "    mat = dist_mat[~labeled_idxs_in_query, :][:, labeled_idxs_in_query]\n",
    "\n",
    "    # deepAL+: for i in tqdm(range(n), ncols=100):\n",
    "    for i in tqdm(range(n), ncols=100):\n",
    "    # deepAL+:     mat_min = mat.min(axis=1)\n",
    "        mat_min = mat.min(axis=1)\n",
    "    # deepAL+:     q_idx_ = mat_min.argmax()\n",
    "        q_idx_ = mat_min.argmax()\n",
    "    # deepAL+:     q_idx = np.arange(self.dataset.n_pool)[~labeled_idxs][q_idx_]\n",
    "        q_idx = np.arange(n_pool)[~labeled_idxs_in_query][q_idx_]\n",
    "    # deepAL+:     labeled_idxs[q_idx] = True\n",
    "        labeled_idxs_in_query[q_idx] = True\n",
    "    # deepAL+:     mat = np.delete(mat, q_idx_, 0)\n",
    "        mat = np.delete(mat, q_idx_, 0)\n",
    "    # deepAL+:     mat = np.append(mat, dist_mat[~labeled_idxs, q_idx][:, None], axis=1)\n",
    "        mat = np.append(mat, dist_mat[~labeled_idxs_in_query, q_idx][:, None], axis=1)\n",
    "        \n",
    "    # deepAL+: return np.arange(self.dataset.n_pool)[(self.dataset.labeled_idxs ^ labeled_idxs)]\n",
    "    return np.arange(n_pool)[(labeled_idxs ^ labeled_idxs_in_query)]"
   ]
  },
  {
   "cell_type": "code",
   "execution_count": 37,
   "metadata": {},
   "outputs": [],
   "source": [
    "def kcenter_greedy_PCA_query(n_pool, labeled_idxs, train_dataset, train_features, examples, device, n, rd):\n",
    "    # deepAL+: labeled_idxs, train_data = self.dataset.get_train_data()\n",
    "    labeled_idxs_in_query = labeled_idxs.copy()\n",
    "    # train_data = train_dataset\n",
    "    train_dataloader = DataLoader(\n",
    "      train_dataset,\n",
    "      shuffle=False,\n",
    "      collate_fn=default_data_collator,\n",
    "      batch_size=8,\n",
    "    )\n",
    "    # deepAL+: embeddings = self.get_embeddings(train_data)\n",
    "    embeddings = get_embeddings(train_dataloader, device, train_features, examples, rd)\n",
    "    # deepAL+: embeddings = embeddings.numpy()\n",
    "    embeddings = embeddings.numpy()\n",
    "    # deepAL+: dist_mat = np.matmul(embeddings, embeddings.transpose())\n",
    "    dist_mat = np.matmul(embeddings, embeddings.transpose())\n",
    "\n",
    "    # deepAL+: downsampling embeddings if feature dim > 50\n",
    "    # deepAL+: \n",
    "    if len(embeddings[0]) > 50:\n",
    "        pca = PCA(n_components=50)\n",
    "        embeddings = pca.fit_transform(embeddings)\n",
    "    embeddings = embeddings.astype(np.float16)\n",
    "\n",
    "    # deepAL+: sq = np.array(dist_mat.diagonal()).reshape(len(labeled_idxs), 1)\n",
    "    sq = np.array(dist_mat.diagonal()).reshape(len(labeled_idxs_in_query), 1)\n",
    "    # deepAL+: dist_mat *= -2\n",
    "    dist_mat *= -2\n",
    "    # deepAL+: dist_mat += sq\n",
    "    dist_mat += sq\n",
    "    # deepAL+: dist_mat += sq.transpose()\n",
    "    dist_mat += sq.transpose()\n",
    "    # deepAL+: dist_mat = np.sqrt(dist_mat)\n",
    "    dist_mat = np.sqrt(dist_mat)\n",
    "\n",
    "    # deepAL+: mat = dist_mat[~labeled_idxs, :][:, labeled_idxs]\n",
    "    mat = dist_mat[~labeled_idxs_in_query, :][:, labeled_idxs_in_query]\n",
    "\n",
    "    # deepAL+: for i in tqdm(range(n), ncols=100):\n",
    "    for i in tqdm(range(n), ncols=100):\n",
    "    # deepAL+:     mat_min = mat.min(axis=1)\n",
    "        mat_min = mat.min(axis=1)\n",
    "    # deepAL+:     q_idx_ = mat_min.argmax()\n",
    "        q_idx_ = mat_min.argmax()\n",
    "    # deepAL+:     q_idx = np.arange(self.dataset.n_pool)[~labeled_idxs][q_idx_]\n",
    "        q_idx = np.arange(n_pool)[~labeled_idxs_in_query][q_idx_]\n",
    "    # deepAL+:     labeled_idxs[q_idx] = True\n",
    "        labeled_idxs_in_query[q_idx] = True\n",
    "    # deepAL+:     mat = np.delete(mat, q_idx_, 0)\n",
    "        mat = np.delete(mat, q_idx_, 0)\n",
    "    # deepAL+:     mat = np.append(mat, dist_mat[~labeled_idxs, q_idx][:, None], axis=1)\n",
    "        mat = np.append(mat, dist_mat[~labeled_idxs_in_query, q_idx][:, None], axis=1)\n",
    "        \n",
    "    # deepAL+: return np.arange(self.dataset.n_pool)[(self.dataset.labeled_idxs ^ labeled_idxs)]\n",
    "    return np.arange(n_pool)[(labeled_idxs ^ labeled_idxs_in_query)]"
   ]
  },
  {
   "cell_type": "code",
   "execution_count": 39,
   "metadata": {},
   "outputs": [],
   "source": [
    "def badge_query(n_pool, labeled_idxs, train_dataset, train_features, examples, device, n, rd):\n",
    "    # deepAL+: unlabeled_idxs, unlabeled_data = self.dataset.get_unlabeled_data()\n",
    "    unlabeled_idxs, unlabeled_data = get_unlabel_data(n_pool, labeled_idxs, train_dataset)\n",
    "    unlabeled_features = train_features.select(unlabeled_idxs)\n",
    "    unlabeled_dataloader = DataLoader(unlabeled_data,\n",
    "                                      shuffle=False,\n",
    "                                      collate_fn=default_data_collator,\n",
    "                                      batch_size=8,\n",
    "                                    )\n",
    "    # deepAL+: gradEmbedding = self.get_grad_embeddings(unlabeled_data)\n",
    "    gradEmbedding = get_grad_embeddings(unlabeled_dataloader, device, unlabeled_features, examples, rd)\n",
    "    # deepAL+: chosen = init_centers(gradEmbedding, n)\n",
    "    chosen = init_centers(gradEmbedding, n)\n",
    "    # deepAL+: return unlabeled_idxs[chosen]\n",
    "    return unlabeled_idxs[chosen]"
   ]
  },
  {
   "attachments": {},
   "cell_type": "markdown",
   "metadata": {},
   "source": [
    "# main.py"
   ]
  },
  {
   "attachments": {},
   "cell_type": "markdown",
   "metadata": {},
   "source": [
    "### seed and device"
   ]
  },
  {
   "cell_type": "code",
   "execution_count": 40,
   "metadata": {},
   "outputs": [],
   "source": [
    "SEED = 4666\n",
    "# os.environ['TORCH_HOME']='./basicmodel'\n",
    "os.environ[\"CUDA_VISIBLE_DEVICES\"] = str(5)\n",
    "\n",
    "# fix random seed\n",
    "np.random.seed(SEED)\n",
    "torch.manual_seed(SEED)\n",
    "# torch.backends.cudnn.enabled  = True\n",
    "# torch.backends.cudnn.benchmark= True\n",
    "\n",
    "device = torch.device(\"cuda\" if torch.cuda.is_available() else \"cpu\")"
   ]
  },
  {
   "attachments": {},
   "cell_type": "markdown",
   "metadata": {},
   "source": [
    "### start experiment"
   ]
  },
  {
   "cell_type": "code",
   "execution_count": 41,
   "metadata": {},
   "outputs": [],
   "source": [
    "iteration = args_input_iteration\n",
    "model_batch = args_input_model_batch\n",
    "num_train_epochs = 3\n",
    "\n",
    "all_acc = []\n",
    "acq_time = []\n",
    "\n",
    "# Change \"fp16_training\" to True to support automatic mixed precision training (fp16)\t\n",
    "fp16_training = False\n",
    "\n",
    "if fp16_training:\n",
    "    !pip install accelerate==0.2.0\n",
    "    from accelerate import Accelerator\n",
    "    accelerator = Accelerator(fp16=True)\n",
    "    device = accelerator.device"
   ]
  },
  {
   "cell_type": "code",
   "execution_count": 42,
   "metadata": {},
   "outputs": [
    {
     "name": "stdout",
     "output_type": "stream",
     "text": [
      "SQuAD\n",
      "KMeansSampling\n",
      "Round 0\n",
      "testing accuracy 13.8252\n",
      "\n",
      "\n"
     ]
    }
   ],
   "source": [
    "## generate initial labeled pool\n",
    "n_pool = len(train_dataset)\n",
    "labeled_idxs = np.zeros(n_pool, dtype=bool)\n",
    "\n",
    "tmp_idxs = np.arange(n_pool)\n",
    "np.random.shuffle(tmp_idxs)\n",
    "labeled_idxs[tmp_idxs[:NUM_INIT_LB]] = True\n",
    "\n",
    "run_0_labeled_idxs = np.arange(n_pool)[labeled_idxs]\n",
    "\n",
    "## record acc performance \n",
    "acc = np.zeros(NUM_ROUND + 1) # quota/batch runs + run_0\n",
    "\n",
    "## data\n",
    "# eval_dataloader = DataLoader(\n",
    "# \tval_dataset, \n",
    "# \tcollate_fn=default_data_collator, \n",
    "# \tbatch_size=8\n",
    "# )\n",
    "\n",
    "## print info\n",
    "print(DATA_NAME)\n",
    "print(STRATEGY_NAME)\n",
    "\n",
    "## round 0 accuracy\n",
    "# acc[0] = get_pred(eval_dataloader, device, val_features, squad['validation'], rd_0=True)['f1']\n",
    "# acc[0] = 77.96450701 # init=4000\n",
    "acc[0] = 13.8252 # init=100\n",
    "\n",
    "print('Round 0\\ntesting accuracy {}'.format(acc[0]))\n",
    "print('\\n')"
   ]
  },
  {
   "attachments": {},
   "cell_type": "markdown",
   "metadata": {},
   "source": [
    "# query workspace"
   ]
  },
  {
   "attachments": {},
   "cell_type": "markdown",
   "metadata": {},
   "source": [
    "### test: query 5 data from 20 unlabeled_data"
   ]
  },
  {
   "cell_type": "code",
   "execution_count": 43,
   "metadata": {},
   "outputs": [
    {
     "data": {
      "text/plain": [
       "20"
      ]
     },
     "execution_count": 43,
     "metadata": {},
     "output_type": "execute_result"
    }
   ],
   "source": [
    "# get unlable data\n",
    "unlabeled_idxs = np.arange(n_pool)[~labeled_idxs]\n",
    "# smaller data\n",
    "unlabeled_idxs_20 = unlabeled_idxs[20:40]\n",
    "unlabeled_data_20 = train_dataset.select(unlabeled_idxs_20)\n",
    "len(unlabeled_data_20)"
   ]
  },
  {
   "cell_type": "code",
   "execution_count": 44,
   "metadata": {},
   "outputs": [],
   "source": [
    "unlabeled_features_20 = train_features.select(unlabeled_idxs_20)\n",
    "unlabeled_dataloader_20 = DataLoader(\n",
    "\t\tunlabeled_data_20,\n",
    "\t\tshuffle=False,\n",
    "\t\tcollate_fn=default_data_collator,\n",
    "\t\tbatch_size=8,\n",
    "\t)"
   ]
  },
  {
   "cell_type": "code",
   "execution_count": 46,
   "metadata": {},
   "outputs": [],
   "source": [
    "dataloader = unlabeled_dataloader_20\n",
    "features = unlabeled_features_20\n",
    "examples = squad['train']\n",
    "rd = 1"
   ]
  },
  {
   "cell_type": "code",
   "execution_count": 102,
   "metadata": {},
   "outputs": [
    {
     "data": {
      "application/vnd.jupyter.widget-view+json": {
       "model_id": "c88ce7558ff24998b53d7ba8c48e3a97",
       "version_major": 2,
       "version_minor": 0
      },
      "text/plain": [
       "Evaluating_prob:   0%|          | 0/3 [00:00<?, ?it/s]"
      ]
     },
     "metadata": {},
     "output_type": "display_data"
    },
    {
     "data": {
      "application/vnd.jupyter.widget-view+json": {
       "model_id": "37c1a63dced14a7f9914c37475fc3ea7",
       "version_major": 2,
       "version_minor": 0
      },
      "text/plain": [
       "  0%|          | 0/4000 [00:00<?, ?it/s]"
      ]
     },
     "metadata": {},
     "output_type": "display_data"
    }
   ],
   "source": [
    "get_prob_dict = get_prob(unlabeled_dataloader_20, device, unlabeled_features_20, squad['train'], rd)"
   ]
  },
  {
   "cell_type": "code",
   "execution_count": 103,
   "metadata": {},
   "outputs": [
    {
     "data": {
      "application/vnd.jupyter.widget-view+json": {
       "model_id": "62dd3c03eef74385865d1fbd805df12e",
       "version_major": 2,
       "version_minor": 0
      },
      "text/plain": [
       "Evaluating_prob:   0%|          | 0/3 [00:00<?, ?it/s]"
      ]
     },
     "metadata": {},
     "output_type": "display_data"
    },
    {
     "data": {
      "application/vnd.jupyter.widget-view+json": {
       "model_id": "78880edb1cbf41a382f6e3e9e06aa4a6",
       "version_major": 2,
       "version_minor": 0
      },
      "text/plain": [
       "Computing metrics:   0%|          | 0/4000 [00:00<?, ?it/s]"
      ]
     },
     "metadata": {},
     "output_type": "display_data"
    },
    {
     "data": {
      "application/vnd.jupyter.widget-view+json": {
       "model_id": "e7136a8b220e40c78c55a88ab3b17133",
       "version_major": 2,
       "version_minor": 0
      },
      "text/plain": [
       "Computing metrics:   0%|          | 0/4000 [00:00<?, ?it/s]"
      ]
     },
     "metadata": {},
     "output_type": "display_data"
    },
    {
     "data": {
      "application/vnd.jupyter.widget-view+json": {
       "model_id": "1cce83ee826d4454b15f575b2f26ae3a",
       "version_major": 2,
       "version_minor": 0
      },
      "text/plain": [
       "Computing metrics:   0%|          | 0/4000 [00:00<?, ?it/s]"
      ]
     },
     "metadata": {},
     "output_type": "display_data"
    }
   ],
   "source": [
    "get_prob_2_dict = get_prob_2(dataloader, device, features, examples, rd)"
   ]
  },
  {
   "cell_type": "code",
   "execution_count": 107,
   "metadata": {},
   "outputs": [
    {
     "name": "stdout",
     "output_type": "stream",
     "text": [
      "True\n",
      "True\n",
      "True\n",
      "True\n",
      "True\n",
      "True\n",
      "True\n",
      "True\n",
      "True\n",
      "True\n",
      "True\n",
      "True\n",
      "True\n",
      "True\n",
      "True\n",
      "True\n",
      "True\n",
      "True\n",
      "True\n",
      "True\n"
     ]
    }
   ],
   "source": [
    "for k in get_prob_dict.keys():\n",
    "    print(np.array_equal(get_prob_dict[k], get_prob_2_dict[k]))"
   ]
  },
  {
   "cell_type": "code",
   "execution_count": 104,
   "metadata": {},
   "outputs": [
    {
     "data": {
      "text/plain": [
       "array([0.0932, 0.0314, 0.0264, 0.0238, 0.0128, 0.0081, 0.0064, 0.0706,\n",
       "       0.0238, 0.02  , 0.0097, 0.0062, 0.0051, 0.0048, 0.0585, 0.0304,\n",
       "       0.0149, 0.008 , 0.0064, 0.0049, 0.1007, 0.0215, 0.0082, 0.0072,\n",
       "       0.0052, 0.0582, 0.0124, 0.0047, 0.003 , 0.054 , 0.0115, 0.0044,\n",
       "       0.0039, 0.0028, 0.0037, 0.0288, 0.0087, 0.0061, 0.0023, 0.0021,\n",
       "       0.0018, 0.0015, 0.0014, 0.0273, 0.0058, 0.0022, 0.002 , 0.0014,\n",
       "       0.0134, 0.0045, 0.0038, 0.0034, 0.0018, 0.0012, 0.0009, 0.0045,\n",
       "       0.0017, 0.0086, 0.0029, 0.0024, 0.0022, 0.0012, 0.0008, 0.0148,\n",
       "       0.0044, 0.0031, 0.0012, 0.0011, 0.0008, 0.0007, 0.0082, 0.0028,\n",
       "       0.0023, 0.0021, 0.0011, 0.0009, 0.0017, 0.0008, 0.0006, 0.0005,\n",
       "       0.0005, 0.0027, 0.001 , 0.007 , 0.0024, 0.002 , 0.0016, 0.0006,\n",
       "       0.0006, 0.0005, 0.0005, 0.0056, 0.0019, 0.0016, 0.0014, 0.0008,\n",
       "       0.0005, 0.005 , 0.0017, 0.0014, 0.0007, 0.0004, 0.0004, 0.0003],\n",
       "      dtype=float32)"
      ]
     },
     "execution_count": 104,
     "metadata": {},
     "output_type": "execute_result"
    }
   ],
   "source": [
    "get_prob_dict[16]"
   ]
  },
  {
   "cell_type": "code",
   "execution_count": 105,
   "metadata": {},
   "outputs": [
    {
     "data": {
      "text/plain": [
       "array([0.0932, 0.0314, 0.0264, 0.0238, 0.0128, 0.0081, 0.0064, 0.0706,\n",
       "       0.0238, 0.02  , 0.0097, 0.0062, 0.0051, 0.0048, 0.0585, 0.0304,\n",
       "       0.0149, 0.008 , 0.0064, 0.0049, 0.1007, 0.0215, 0.0082, 0.0072,\n",
       "       0.0052, 0.0582, 0.0124, 0.0047, 0.003 , 0.054 , 0.0115, 0.0044,\n",
       "       0.0039, 0.0028, 0.0037, 0.0288, 0.0087, 0.0061, 0.0023, 0.0021,\n",
       "       0.0018, 0.0015, 0.0014, 0.0273, 0.0058, 0.0022, 0.002 , 0.0014,\n",
       "       0.0134, 0.0045, 0.0038, 0.0034, 0.0018, 0.0012, 0.0009, 0.0045,\n",
       "       0.0017, 0.0086, 0.0029, 0.0024, 0.0022, 0.0012, 0.0008, 0.0148,\n",
       "       0.0044, 0.0031, 0.0012, 0.0011, 0.0008, 0.0007, 0.0082, 0.0028,\n",
       "       0.0023, 0.0021, 0.0011, 0.0009, 0.0017, 0.0008, 0.0006, 0.0005,\n",
       "       0.0005, 0.0027, 0.001 , 0.007 , 0.0024, 0.002 , 0.0016, 0.0006,\n",
       "       0.0006, 0.0005, 0.0005, 0.0056, 0.0019, 0.0016, 0.0014, 0.0008,\n",
       "       0.0005, 0.005 , 0.0017, 0.0014, 0.0007, 0.0004, 0.0004, 0.0003],\n",
       "      dtype=float32)"
      ]
     },
     "execution_count": 105,
     "metadata": {},
     "output_type": "execute_result"
    }
   ],
   "source": [
    "get_prob_2_dict[16]"
   ]
  },
  {
   "cell_type": "code",
   "execution_count": 194,
   "metadata": {},
   "outputs": [
    {
     "data": {
      "application/vnd.jupyter.widget-view+json": {
       "model_id": "d856710da7e844a7937a205d4421d8df",
       "version_major": 2,
       "version_minor": 0
      },
      "text/plain": [
       "Evaluating_prob:   0%|          | 0/3 [00:00<?, ?it/s]"
      ]
     },
     "metadata": {},
     "output_type": "display_data"
    },
    {
     "data": {
      "application/vnd.jupyter.widget-view+json": {
       "model_id": "e97868adad1f44839998a4369a3c4c9a",
       "version_major": 2,
       "version_minor": 0
      },
      "text/plain": [
       "Computing metrics:   0%|          | 0/4000 [00:00<?, ?it/s]"
      ]
     },
     "metadata": {},
     "output_type": "display_data"
    },
    {
     "data": {
      "application/vnd.jupyter.widget-view+json": {
       "model_id": "d5eae9b019454df2aba7bc537f1d68d4",
       "version_major": 2,
       "version_minor": 0
      },
      "text/plain": [
       "Computing metrics:   0%|          | 0/4000 [00:00<?, ?it/s]"
      ]
     },
     "metadata": {},
     "output_type": "display_data"
    },
    {
     "data": {
      "application/vnd.jupyter.widget-view+json": {
       "model_id": "32db03e6edaf4103ae508750c66e3449",
       "version_major": 2,
       "version_minor": 0
      },
      "text/plain": [
       "Computing metrics:   0%|          | 0/4000 [00:00<?, ?it/s]"
      ]
     },
     "metadata": {},
     "output_type": "display_data"
    }
   ],
   "source": [
    "from torch.autograd import Variable\n",
    "import torch.nn.functional as F\n",
    "from copy import deepcopy\n",
    "# prob_dict = get_prob(unlabeled_dataloader_20, device, unlabeled_features_20, squad['train'], rd)\n",
    "dataloader = unlabeled_dataloader_20\n",
    "features = unlabeled_features_20\n",
    "examples = squad['train']\n",
    "rd = 1\n",
    "\n",
    "if rd == 1:\n",
    "    config = BertConfig.from_pretrained(pretrain_model_dir, output_hidden_states=True)\n",
    "else: \n",
    "    config = BertConfig.from_pretrained(model_dir, output_hidden_states=True)\n",
    "model = AutoModelForQuestionAnswering.from_config(config).to(device)\n",
    "model.eval()\n",
    "\n",
    "# deepAL+: nLab = self.params['num_class']\n",
    "nLab = 200\n",
    "embDim = model.config.to_dict()['hidden_size']\n",
    "embeddings = np.zeros([len(dataloader.dataset), embDim * nLab])\n",
    "\n",
    "prob_dict = []\n",
    "data_len_start = 0\n",
    "\n",
    "with torch.no_grad():\n",
    "    for batch in tqdm(dataloader, desc=\"Evaluating_prob\"):\n",
    "        batch = {key: Variable(value.to(device)) for key, value in batch.items()}\n",
    "            \n",
    "        # deepAL+: out, e1 = self.clf(x)\n",
    "        outputs = model(**batch)\n",
    "        # deepAL+: e1 = e1.data.cpu().numpy()\n",
    "        hidden_states = outputs.hidden_states\n",
    "        embedding_of_last_layer = hidden_states[-2][:, 0, :]\n",
    "        embedding_of_last_layer = embedding_of_last_layer.data.cpu().numpy()\n",
    "\n",
    "        # idxs_end = idxs_start + len(hidden_states[0])\n",
    "        # # deepAL+: embeddings[idxs] = e1.cpu()\n",
    "        # embeddings[idxs_start:idxs_end] = embedding_of_last_layer.cpu()\n",
    "        # idxs_start = idxs_end\n",
    "\n",
    "        # matually create features batch\n",
    "        data_len_batch = len(outputs.start_logits)\n",
    "        data_len_end = data_len_start + data_len_batch\n",
    "        batch_idx = list(range(data_len_start, data_len_end))\n",
    "        batch_feat = unlabeled_features_20.select(batch_idx)\n",
    "        data_len_start = data_len_end\n",
    "\n",
    "        # deepAL+: batchProbs = F.softmax(out, dim=1).data.cpu().numpy()\n",
    "        # deepAL+: maxInds = np.argmax(batchProbs, 1)\n",
    "        out = logits_to_prob(outputs.start_logits.cpu().numpy(), outputs.end_logits.cpu().numpy(), batch_feat, batch_idx, examples, num_classes=True)\n",
    "        batchProbs = F.softmax(out, dim=1).data.cpu().numpy()\n",
    "        maxInds = np.argmax(batchProbs, 1)\n",
    "\n",
    "        for j in range(data_len_batch):\n",
    "            for c in range(nLab):\n",
    "                if c == maxInds[j]:\n",
    "                    embeddings[batch_idx[j]][embDim * c : embDim * (c+1)] = deepcopy(embedding_of_last_layer[j]) * (1 - batchProbs[j][c]) * -1.0\n",
    "                else:\n",
    "                    embeddings[batch_idx[j]][embDim * c : embDim * (c+1)] = deepcopy(embedding_of_last_layer[j]) * (-1 * batchProbs[j][c]) * -1.0\n",
    "        # prob_dict.append(maxInds)\n"
   ]
  },
  {
   "cell_type": "code",
   "execution_count": 196,
   "metadata": {},
   "outputs": [
    {
     "data": {
      "text/plain": [
       "(20, 153600)"
      ]
     },
     "execution_count": 196,
     "metadata": {},
     "output_type": "execute_result"
    }
   ],
   "source": [
    "embeddings.shape"
   ]
  },
  {
   "cell_type": "code",
   "execution_count": 198,
   "metadata": {},
   "outputs": [
    {
     "name": "stdout",
     "output_type": "stream",
     "text": [
      "#Samps\tTotal Distance\n",
      "1\t719.9505246232893\n",
      "2\t575.2702332799374\n",
      "3\t502.7837294584695\n",
      "4\t480.8306760112471\n"
     ]
    },
    {
     "data": {
      "text/plain": [
       "array([ 4, 12, 11,  1,  3])"
      ]
     },
     "execution_count": 198,
     "metadata": {},
     "output_type": "execute_result"
    }
   ],
   "source": [
    "# chosen = init_centers(gradEmbedding, n)\n",
    "chosen = init_centers(embeddings, 5)\n",
    "unlabeled_idxs[chosen]"
   ]
  },
  {
   "cell_type": "code",
   "execution_count": 111,
   "metadata": {},
   "outputs": [
    {
     "data": {
      "text/plain": [
       "3"
      ]
     },
     "execution_count": 111,
     "metadata": {},
     "output_type": "execute_result"
    }
   ],
   "source": [
    "int(100 / 30)"
   ]
  }
 ],
 "metadata": {
  "kernelspec": {
   "display_name": "alqa",
   "language": "python",
   "name": "alqa"
  },
  "language_info": {
   "codemirror_mode": {
    "name": "ipython",
    "version": 3
   },
   "file_extension": ".py",
   "mimetype": "text/x-python",
   "name": "python",
   "nbconvert_exporter": "python",
   "pygments_lexer": "ipython3",
   "version": "3.10.8"
  },
  "orig_nbformat": 4,
  "vscode": {
   "interpreter": {
    "hash": "6317ac8a4c65d05b4cf6bac76f72bfaae40b2e9380067c26c20c9afff1d8528e"
   }
  }
 },
 "nbformat": 4,
 "nbformat_minor": 2
}
