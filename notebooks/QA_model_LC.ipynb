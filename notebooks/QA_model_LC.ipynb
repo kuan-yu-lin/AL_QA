{
 "cells": [
  {
   "attachments": {},
   "cell_type": "markdown",
   "metadata": {},
   "source": [
    "# Question Answering Model \n",
    "\n",
    "- dataset\n",
    "- torch\n",
    "- transformers\n",
    "- transformers[torch]\n",
    "- evaluate"
   ]
  },
  {
   "attachments": {},
   "cell_type": "markdown",
   "metadata": {},
   "source": [
    "import packages"
   ]
  },
  {
   "cell_type": "code",
   "execution_count": 1,
   "metadata": {},
   "outputs": [
    {
     "name": "stderr",
     "output_type": "stream",
     "text": [
      "/mount/studenten-temp1/users/linku/AL_QA/.venv/lib64/python3.10/site-packages/tqdm/auto.py:21: TqdmWarning: IProgress not found. Please update jupyter and ipywidgets. See https://ipywidgets.readthedocs.io/en/stable/user_install.html\n",
      "  from .autonotebook import tqdm as notebook_tqdm\n"
     ]
    }
   ],
   "source": [
    "from datasets import load_dataset\n",
    "from transformers import (\n",
    "    AutoTokenizer,\n",
    "    DefaultDataCollator,\n",
    "    AutoModelForQuestionAnswering,\n",
    "    TrainingArguments,\n",
    "    Trainer\n",
    ")\n",
    "import torch\n",
    "\n",
    "import evaluate\n",
    "import collections\n",
    "from tqdm.auto import tqdm\n",
    "import numpy as np\n",
    "\n",
    "import os\n",
    "import re\n",
    "import datetime"
   ]
  },
  {
   "attachments": {},
   "cell_type": "markdown",
   "metadata": {},
   "source": [
    "Set cache directory."
   ]
  },
  {
   "cell_type": "code",
   "execution_count": 2,
   "metadata": {},
   "outputs": [
    {
     "name": "stdout",
     "output_type": "stream",
     "text": [
      "env: TRANSFORMERS_CACHE=/mount/studenten-temp1/users/linku/AL_QA/cache\n",
      "env: HF_MODULES_CACHE=/mount/studenten-temp1/users/linku/AL_QA/cache\n",
      "env: HF_DATASETS_CACHE=/mount/studenten-temp1/users/linku/AL_QA/cache\n"
     ]
    }
   ],
   "source": [
    "CACHE_DIR=os.path.abspath(os.path.expanduser('cache'))\n",
    "%set_env TRANSFORMERS_CACHE $CACHE_DIR\n",
    "%set_env HF_MODULES_CACHE $CACHE_DIR\n",
    "%set_env HF_DATASETS_CACHE $CACHE_DIR"
   ]
  },
  {
   "attachments": {},
   "cell_type": "markdown",
   "metadata": {},
   "source": [
    "### arguments.py\n",
    "\n",
    "args_input."
   ]
  },
  {
   "cell_type": "code",
   "execution_count": 3,
   "metadata": {},
   "outputs": [],
   "source": [
    "args_input_ALstrategy = 'MarginSampling'\n",
    "args_input_initseed = 100 # 1000\n",
    "args_input_quota = 100 # 1000\n",
    "args_input_batch = 35 # 128\n",
    "args_input_dataset_name = 'SQuAD'\n",
    "args_input_iteration = 1\n",
    "args_input_model_batch = 8 # already add in arguments.py"
   ]
  },
  {
   "attachments": {},
   "cell_type": "markdown",
   "metadata": {},
   "source": [
    "### load dataset"
   ]
  },
  {
   "cell_type": "code",
   "execution_count": 4,
   "metadata": {},
   "outputs": [
    {
     "name": "stderr",
     "output_type": "stream",
     "text": [
      "Found cached dataset squad (/home/users1/linku/.cache/huggingface/datasets/squad/plain_text/1.0.0/d6ec3ceb99ca480ce37cdd35555d6cb2511d223b9150cce08a837ef62ffea453)\n",
      "100%|██████████| 2/2 [00:00<00:00,  2.20it/s]\n"
     ]
    }
   ],
   "source": [
    "squad = load_dataset(args_input_dataset_name.lower())\n",
    "# squad[\"train\"] = squad[\"train\"].shuffle(42).select(range(2000))\n",
    "squad[\"train\"] = squad[\"train\"].select(range(3000))\n",
    "squad[\"validation\"] = squad[\"validation\"].select(range(1000))"
   ]
  },
  {
   "attachments": {},
   "cell_type": "markdown",
   "metadata": {},
   "source": [
    "Next we will preprocess the dataset (training and evaluation data)."
   ]
  },
  {
   "cell_type": "code",
   "execution_count": 5,
   "metadata": {},
   "outputs": [],
   "source": [
    "def preprocess_training_examples(examples):\n",
    "    questions = [q.strip() for q in examples[\"question\"]]\n",
    "    inputs = tokenizer(\n",
    "        questions,\n",
    "        examples[\"context\"],\n",
    "        max_length=max_length,\n",
    "        truncation=\"only_second\",\n",
    "        stride=stride,\n",
    "        return_overflowing_tokens=True,\n",
    "        return_offsets_mapping=True,\n",
    "        padding=\"max_length\",\n",
    "    )\n",
    "\n",
    "    offset_mapping = inputs[\"offset_mapping\"]\n",
    "    sample_map = inputs.pop(\"overflow_to_sample_mapping\")\n",
    "    answers = examples[\"answers\"]\n",
    "    start_positions = []\n",
    "    end_positions = []\n",
    "    example_ids = []\n",
    "\n",
    "    for i, offset in enumerate(offset_mapping):\n",
    "        sample_idx = sample_map[i]\n",
    "        answer = answers[sample_idx]\n",
    "        start_char = answer[\"answer_start\"][0]\n",
    "        end_char = answer[\"answer_start\"][0] + len(answer[\"text\"][0])\n",
    "        sequence_ids = inputs.sequence_ids(i)\n",
    "        \n",
    "        example_ids.append(examples[\"id\"][sample_idx]) # newly added for used in unlabel data predict\n",
    "\n",
    "        # Find the start and end of the context\n",
    "        idx = 0\n",
    "        while sequence_ids[idx] != 1:\n",
    "            idx += 1\n",
    "        context_start = idx\n",
    "        while sequence_ids[idx] == 1:\n",
    "            idx += 1\n",
    "        context_end = idx - 1\n",
    "\n",
    "        # If the answer is not fully inside the context, label is (0, 0)\n",
    "        if offset[context_start][0] > start_char or offset[context_end][1] < end_char:\n",
    "            start_positions.append(0)\n",
    "            end_positions.append(0)\n",
    "        else:\n",
    "            # Otherwise it's the start and end token positions\n",
    "            idx = context_start\n",
    "            while idx <= context_end and offset[idx][0] <= start_char:\n",
    "                idx += 1\n",
    "            start_positions.append(idx - 1)\n",
    "\n",
    "            idx = context_end\n",
    "            while idx >= context_start and offset[idx][1] >= end_char:\n",
    "                idx -= 1\n",
    "            end_positions.append(idx + 1)\n",
    "\n",
    "    inputs[\"example_id\"] = example_ids\n",
    "    inputs[\"start_positions\"] = start_positions\n",
    "    inputs[\"end_positions\"] = end_positions\n",
    "    return inputs"
   ]
  },
  {
   "cell_type": "code",
   "execution_count": 6,
   "metadata": {},
   "outputs": [],
   "source": [
    "def preprocess_validation_examples(examples):\n",
    "    questions = [q.strip() for q in examples[\"question\"]]\n",
    "    inputs = tokenizer(\n",
    "        questions,\n",
    "        examples[\"context\"],\n",
    "        max_length=max_length,\n",
    "        truncation=\"only_second\",\n",
    "        stride=stride,\n",
    "        return_overflowing_tokens=True,\n",
    "        return_offsets_mapping=True,\n",
    "        padding=\"max_length\",\n",
    "    )\n",
    "\n",
    "    sample_map = inputs.pop(\"overflow_to_sample_mapping\")\n",
    "    example_ids = []\n",
    "\n",
    "    for i in range(len(inputs[\"input_ids\"])):\n",
    "        sample_idx = sample_map[i]\n",
    "        example_ids.append(examples[\"id\"][sample_idx])\n",
    "\n",
    "        sequence_ids = inputs.sequence_ids(i)\n",
    "        offset = inputs[\"offset_mapping\"][i]\n",
    "        inputs[\"offset_mapping\"][i] = [\n",
    "            o if sequence_ids[k] == 1 else None for k, o in enumerate(offset)\n",
    "        ]\n",
    "\n",
    "    inputs[\"example_id\"] = example_ids\n",
    "    return inputs"
   ]
  },
  {
   "cell_type": "code",
   "execution_count": 7,
   "metadata": {},
   "outputs": [
    {
     "name": "stderr",
     "output_type": "stream",
     "text": [
      "Loading cached processed dataset at /home/users1/linku/.cache/huggingface/datasets/squad/plain_text/1.0.0/d6ec3ceb99ca480ce37cdd35555d6cb2511d223b9150cce08a837ef62ffea453/cache-2a9d31b0890526df.arrow\n",
      "Loading cached processed dataset at /home/users1/linku/.cache/huggingface/datasets/squad/plain_text/1.0.0/d6ec3ceb99ca480ce37cdd35555d6cb2511d223b9150cce08a837ef62ffea453/cache-0f087a92e258c27b.arrow\n"
     ]
    }
   ],
   "source": [
    "max_length = 384\n",
    "stride = 128\n",
    "\n",
    "# load tokenizer for dataset preprocessing\n",
    "tokenizer = AutoTokenizer.from_pretrained(\"bert-base-uncased\")\n",
    "# preprocess data\n",
    "train_dataset = squad[\"train\"].map(\n",
    "    preprocess_training_examples,\n",
    "    batched=True,\n",
    "    remove_columns=squad[\"train\"].column_names,\n",
    ")\n",
    "val_dataset = squad[\"validation\"].map(\n",
    "    preprocess_validation_examples,\n",
    "    batched=True,\n",
    "    remove_columns=squad[\"validation\"].column_names,\n",
    ")"
   ]
  },
  {
   "cell_type": "code",
   "execution_count": 8,
   "metadata": {},
   "outputs": [
    {
     "data": {
      "text/plain": [
       "3074"
      ]
     },
     "execution_count": 8,
     "metadata": {},
     "output_type": "execute_result"
    }
   ],
   "source": [
    "len(train_dataset['example_id']) # 10138 more than before tokenizing"
   ]
  },
  {
   "cell_type": "code",
   "execution_count": 9,
   "metadata": {},
   "outputs": [
    {
     "data": {
      "text/plain": [
       "3000"
      ]
     },
     "execution_count": 9,
     "metadata": {},
     "output_type": "execute_result"
    }
   ],
   "source": [
    "len(set(train_dataset['example_id'])) # 10000 same as before tokenizing"
   ]
  },
  {
   "attachments": {},
   "cell_type": "markdown",
   "metadata": {},
   "source": [
    "## Evaluation"
   ]
  },
  {
   "cell_type": "code",
   "execution_count": 10,
   "metadata": {},
   "outputs": [],
   "source": [
    "metric = evaluate.load(\"squad\")"
   ]
  },
  {
   "cell_type": "code",
   "execution_count": 11,
   "metadata": {},
   "outputs": [],
   "source": [
    "def compute_metrics(start_logits, end_logits, val_dataset, examples):\n",
    "    \n",
    "    example_to_features = collections.defaultdict(list)\n",
    "    max_answer_length = 30\n",
    "    n_best = 20\n",
    "    for idx, feature in enumerate(val_dataset):\n",
    "        example_to_features[feature[\"example_id\"]].append(idx)\n",
    "\n",
    "    predicted_answers = []\n",
    "    for example in tqdm(examples):\n",
    "        example_id = example[\"id\"]\n",
    "        context = example[\"context\"]\n",
    "        answers = []\n",
    "\n",
    "        # Loop through all features associated with that example\n",
    "        for feature_index in example_to_features[example_id]:\n",
    "            start_logit = start_logits[feature_index]\n",
    "            end_logit = end_logits[feature_index]\n",
    "            offsets = val_dataset[feature_index][\"offset_mapping\"]\n",
    "\n",
    "            start_indexes = np.argsort(start_logit)[-1 : -n_best - 1 : -1].tolist()\n",
    "            end_indexes = np.argsort(end_logit)[-1 : -n_best - 1 : -1].tolist()\n",
    "            for start_index in start_indexes:\n",
    "                for end_index in end_indexes:\n",
    "                    # Skip answers that are not fully in the context\n",
    "                    if offsets[start_index] is None or offsets[end_index] is None:\n",
    "                        continue\n",
    "                    # Skip answers with a length that is either < 0 or > max_answer_length\n",
    "                    if (\n",
    "                        end_index < start_index\n",
    "                        or end_index - start_index + 1 > max_answer_length\n",
    "                    ):\n",
    "                        continue\n",
    "\n",
    "                    answer = {\n",
    "                        \"text\": context[offsets[start_index][0] : offsets[end_index][1]],\n",
    "                        \"logit_score\": start_logit[start_index] + end_logit[end_index],\n",
    "                    }\n",
    "                    answers.append(answer)\n",
    "\n",
    "        # Select the answer with the best score\n",
    "        if len(answers) > 0:\n",
    "            best_answer = max(answers, key=lambda x: x[\"logit_score\"])\n",
    "            predicted_answers.append(\n",
    "                {\"id\": example_id, \"prediction_text\": best_answer[\"text\"]}\n",
    "            )\n",
    "        else:\n",
    "            predicted_answers.append({\"id\": example_id, \"prediction_text\": \"\"})\n",
    "\n",
    "    theoretical_answers = [{\"id\": ex[\"id\"], \"answers\": ex[\"answers\"]} for ex in examples]\n",
    "    return metric.compute(predictions=predicted_answers, references=theoretical_answers)"
   ]
  },
  {
   "cell_type": "code",
   "execution_count": 64,
   "metadata": {},
   "outputs": [],
   "source": [
    "def get_prob(start_logits, end_logits, features, examples):\n",
    "    # thinking the posibility of get rid of 'examples'\n",
    "    prob_list_dict = []\n",
    "    example_to_features = collections.defaultdict(list)\n",
    "    max_answer_length = 30\n",
    "    n_best = 20 # TODO: if set n_best as 5, will it effect the time??\n",
    "    \n",
    "    for idx, feature in enumerate(features):\n",
    "        example_to_features[feature[\"example_id\"]].append(idx)\n",
    "\n",
    "    for example in tqdm(examples):\n",
    "        example_id = example[\"id\"]\n",
    "        # context = example[\"context\"]\n",
    "        answers = []\n",
    "\n",
    "        # Loop through all features associated with that example\n",
    "        for feature_index in example_to_features[example_id]:\n",
    "            start_logit = start_logits[feature_index]\n",
    "            end_logit = end_logits[feature_index]\n",
    "            offsets = features[feature_index][\"offset_mapping\"]\n",
    "\n",
    "            start_indexes = np.argsort(start_logit)[-1 : -n_best - 1 : -1].tolist()\n",
    "            end_indexes = np.argsort(end_logit)[-1 : -n_best - 1 : -1].tolist()\n",
    "            for start_index in start_indexes:\n",
    "                for end_index in end_indexes:\n",
    "                    # Skip answers that are not fully in the context\n",
    "                    if offsets[start_index] is None or offsets[end_index] is None:\n",
    "                        continue\n",
    "                    # Skip answers with a length that is either < 0 or > max_answer_length\n",
    "                    if (\n",
    "                        end_index < start_index\n",
    "                        or end_index - start_index + 1 > max_answer_length\n",
    "                    ):\n",
    "                        continue\n",
    "\n",
    "                    answers.append(start_logit[start_index] + end_logit[end_index])\n",
    "        \n",
    "        if len(answers) > 1:\n",
    "            answers.sort(reverse=True)\n",
    "            n_best_sorted_answers = answers[:n_best]\n",
    "\n",
    "            n_best_sorted_prob = softmax(n_best_sorted_answers)\n",
    "            prob_list_dict.append(\n",
    "                {'idx': example_to_features[example_id], \n",
    "                 'probs': n_best_sorted_prob}\n",
    "            )\n",
    "\n",
    "        elif example_to_features[example_id]:\n",
    "            prob_list_dict.append(\n",
    "                {'idx': example_to_features[example_id], \n",
    "                 'probs': np.array([0])}\n",
    "            )\n",
    "    \n",
    "    return prob_list_dict\n",
    "# move to evaluation.py"
   ]
  },
  {
   "attachments": {},
   "cell_type": "markdown",
   "metadata": {},
   "source": [
    "## utils.py"
   ]
  },
  {
   "cell_type": "code",
   "execution_count": 94,
   "metadata": {},
   "outputs": [],
   "source": [
    "def get_preds(trainer_qs, unlabeled_data):\n",
    "\tpreds, _, _ = trainer_qs.predict(unlabeled_data)\n",
    "\tstart_logits, end_logits = preds\n",
    "\treturn start_logits, end_logits\n",
    "\n",
    "# move to utils.py"
   ]
  },
  {
   "cell_type": "code",
   "execution_count": 95,
   "metadata": {},
   "outputs": [],
   "source": [
    "def get_unlabel_data(n_pool, labeled_idxs, train_dataset):\n",
    "    unlabeled_idxs = np.arange(n_pool)[~labeled_idxs]\n",
    "    unlabeled_data = train_dataset.select(indices=unlabeled_idxs)\n",
    "    return unlabeled_data\n",
    "\n",
    "# move to utils.py"
   ]
  },
  {
   "cell_type": "code",
   "execution_count": 96,
   "metadata": {},
   "outputs": [],
   "source": [
    "def softmax(x): \n",
    "    \"\"\"Compute softmax values for each sets of scores in x.\"\"\"\n",
    "    return np.exp(x) / np.sum(np.exp(x), axis=0)\n",
    "# move to utils.py"
   ]
  },
  {
   "attachments": {},
   "cell_type": "markdown",
   "metadata": {},
   "source": [
    "## Query"
   ]
  },
  {
   "cell_type": "code",
   "execution_count": 12,
   "metadata": {},
   "outputs": [],
   "source": [
    "def random_sampling_query(labeled_idxs):\n",
    "    return np.random.choice(np.where(labeled_idxs==0)[0], NUM_QUERY, replace=False)"
   ]
  },
  {
   "cell_type": "code",
   "execution_count": 13,
   "metadata": {},
   "outputs": [],
   "source": [
    "def margin_sampling_query(n_pool, labeled_idxs, train_dataset, trainer_qs, example):\n",
    "    \n",
    "    unlabeled_data = get_unlabel_data(n_pool, labeled_idxs, train_dataset)\n",
    "    start_logits, end_logits, = get_preds(trainer_qs, unlabeled_data)\n",
    "    prob_list_dict = get_prob(start_logits, end_logits, unlabeled_data, example)\n",
    "\n",
    "    uncertainties_list_dict = []\n",
    "    for d in prob_list_dict:\n",
    "        if len(d['probs']) > 1: # if prob_dict['probs'] is not 0\n",
    "            uncertainties = d['probs'][0] - d['probs'][1]\n",
    "            uncertainties_list_dict.append(\n",
    "                {'idx': d['idx'], \n",
    "                 'uncertainties': uncertainties}\n",
    "                 )\n",
    "        elif d['idx']:\n",
    "            uncertainties_list_dict.append(\n",
    "                {'idx': d['idx'], \n",
    "                 'uncertainties': np.array([0])}\n",
    "                 )\n",
    "    \n",
    "    sorted_uncertainties_dict = sorted(uncertainties_list_dict, key=lambda d: d['uncertainties']) # TODO: check smallest or largest, now is smallest    \n",
    "    return [uncertainties_dict['idx'][0] for uncertainties_dict in sorted_uncertainties_dict[:NUM_QUERY]]"
   ]
  },
  {
   "cell_type": "code",
   "execution_count": 97,
   "metadata": {},
   "outputs": [],
   "source": [
    "def least_confidence_query(n_pool, labeled_idxs, train_dataset, trainer_qs, example):\n",
    "\n",
    "    unlabeled_data = get_unlabel_data(n_pool, labeled_idxs, train_dataset)\n",
    "    start_logits, end_logits, = get_preds(trainer_qs, unlabeled_data)\n",
    "    probs_list_dict = get_prob(start_logits, end_logits, unlabeled_data, example)\n",
    "\n",
    "    confidence_list_dict = []\n",
    "    for d in probs_list_dict:\n",
    "        if len(d['probs']) > 1: # if prob_dict['probs'] is not 0\n",
    "            # uncertainties_d = d['probs']\n",
    "            confidence = max(d['probs'])\n",
    "            confidence_list_dict.append(\n",
    "                {'idx': d['idx'], \n",
    "                    'confidence': confidence}\n",
    "                    )\n",
    "        elif d['idx']:\n",
    "            confidence_list_dict.append(\n",
    "                {'idx': d['idx'], \n",
    "                    'confidence': np.array([0])}\n",
    "                    )\n",
    "\n",
    "    sorted_confidence_dict = sorted(confidence_list_dict, key=lambda d: d['confidence'])\n",
    "    return [confidence_dict['idx'][0] for confidence_dict in sorted_confidence_dict[:NUM_QUERY]]"
   ]
  },
  {
   "cell_type": "code",
   "execution_count": 98,
   "metadata": {},
   "outputs": [],
   "source": [
    "def var_ratio_query(n_pool, labeled_idxs, train_dataset, trainer_qs, example):\n",
    "\n",
    "    unlabeled_data = get_unlabel_data(n_pool, labeled_idxs, train_dataset)\n",
    "    start_logits, end_logits, = get_preds(trainer_qs, unlabeled_data)\n",
    "    probs_list_dict = get_prob(start_logits, end_logits, unlabeled_data, example)\n",
    "\n",
    "    confidence_list_dict = []\n",
    "    for d in probs_list_dict:\n",
    "        if len(d['probs']) > 1: # if prob_dict['probs'] is not 0\n",
    "            # uncertainties_d = d['probs']\n",
    "            confidence = max(d['probs'])\n",
    "            confidence_list_dict.append(\n",
    "                {'idx': d['idx'], \n",
    "                    'confidence': confidence}\n",
    "                    )\n",
    "        elif d['idx']:\n",
    "            confidence_list_dict.append(\n",
    "                {'idx': d['idx'], \n",
    "                    'confidence': np.array([0])}\n",
    "                    )\n",
    "\n",
    "    sorted_confidence_dict = sorted(confidence_list_dict, key=lambda d: d['confidence'])\n",
    "    return [confidence_dict['idx'][0] for confidence_dict in sorted_confidence_dict[:NUM_QUERY]]"
   ]
  },
  {
   "attachments": {},
   "cell_type": "markdown",
   "metadata": {},
   "source": [
    "# main.py"
   ]
  },
  {
   "attachments": {},
   "cell_type": "markdown",
   "metadata": {},
   "source": [
    "### parameters"
   ]
  },
  {
   "cell_type": "code",
   "execution_count": 14,
   "metadata": {},
   "outputs": [],
   "source": [
    "NUM_QUERY = args_input_batch\n",
    "NUM_INIT_LB = args_input_initseed\n",
    "NUM_ROUND = int(args_input_quota / args_input_batch)\n",
    "DATA_NAME = args_input_dataset_name\n",
    "STRATEGY_NAME = args_input_ALstrategy"
   ]
  },
  {
   "attachments": {},
   "cell_type": "markdown",
   "metadata": {},
   "source": [
    "### seed and device"
   ]
  },
  {
   "cell_type": "code",
   "execution_count": 15,
   "metadata": {},
   "outputs": [],
   "source": [
    "SEED = 4666\n",
    "# os.environ['TORCH_HOME']='./basicmodel'\n",
    "os.environ[\"CUDA_VISIBLE_DEVICES\"] = str(3)\n",
    "\n",
    "# fix random seed\n",
    "np.random.seed(SEED)\n",
    "torch.manual_seed(SEED)\n",
    "# torch.backends.cudnn.enabled  = True\n",
    "# torch.backends.cudnn.benchmark= True\n",
    "\n",
    "device = torch.device(\"cuda\" if torch.cuda.is_available() else \"cpu\")"
   ]
  },
  {
   "attachments": {},
   "cell_type": "markdown",
   "metadata": {},
   "source": [
    "### start experiment"
   ]
  },
  {
   "cell_type": "code",
   "execution_count": 16,
   "metadata": {},
   "outputs": [],
   "source": [
    "iteration = args_input_iteration\n",
    "model_batch = args_input_model_batch\n",
    "\n",
    "all_acc = []\n",
    "acq_time = []"
   ]
  },
  {
   "cell_type": "code",
   "execution_count": null,
   "metadata": {},
   "outputs": [],
   "source": [
    "# repeate # iteration trials\n",
    "while (iteration > 0): \n",
    "\titeration = iteration - 1\n",
    "\n",
    "\t## data, network, strategy\n",
    "\tnet = AutoModelForQuestionAnswering.from_pretrained(\"bert-base-uncased\").to(device)\n",
    "\n",
    "\t## set up training\n",
    "\ttraining_args = TrainingArguments(\n",
    "\t\toutput_dir=\"./models\",\n",
    "\t\tevaluation_strategy=\"no\",\n",
    "\t\teval_steps=100,\n",
    "\t\tlogging_steps=100,\n",
    "\t\tlearning_rate=1e-4,\n",
    "\t\tper_device_train_batch_size=model_batch,\n",
    "\t\tper_device_eval_batch_size=model_batch, \n",
    "\t\tgradient_accumulation_steps=1,\n",
    "\t\tnum_train_epochs=3,  # max_steps will override this value\n",
    "\t\t# max_steps=1000,  # comment out if this is not wanted\n",
    "\t\tweight_decay=0.01,\n",
    "\t\treport_to=\"none\",\n",
    "\t)\n",
    "\n",
    "\t## data collator for batching\n",
    "\tdata_collator = DefaultDataCollator()\n",
    "\n",
    "\tstart = datetime.datetime.now()\n",
    "\n",
    "\t## generate initial labeled pool\n",
    "\tn_pool = len(train_dataset)\n",
    "\tlabeled_idxs = np.zeros(n_pool, dtype=bool)\n",
    "\n",
    "\ttmp_idxs = np.arange(n_pool)\n",
    "\tnp.random.shuffle(tmp_idxs)\n",
    "\tlabeled_idxs[tmp_idxs[:args_input_initseed]] = True\n",
    "\n",
    "\trun_0_labeled_idxs = np.arange(n_pool)[labeled_idxs] \n",
    "\t\n",
    "\t## record acc performance \n",
    "\tacc = np.zeros(NUM_ROUND + 1) # build 3 runs + run_0 # origin 10 runs + run_0\n",
    "\n",
    "\t## the actual trainer which performs training and evaluation\n",
    "\ttrainer_0 = Trainer(\n",
    "\t\t\t\t\t\tmodel=net,\n",
    "\t\t\t\t\t\targs=training_args,\n",
    "\t\t\t\t\t\ttrain_dataset=train_dataset.select(indices=run_0_labeled_idxs),\n",
    "\t\t\t\t\t\teval_dataset=val_dataset,\n",
    "\t\t\t\t\t\ttokenizer=tokenizer,\n",
    "\t\t\t\t\t\tdata_collator=data_collator\n",
    "\t\t\t\t\t\t)\t\n",
    "\t\t\n",
    "\t## print info\n",
    "\tprint(DATA_NAME)\n",
    "\t# print('RANDOM SEED {}'.format(SEED))\n",
    "\tprint(STRATEGY_NAME) # print(type(strategy).__name__)\n",
    "\t\n",
    "\t## round 0 accuracy \n",
    "\ttrainer_0.train() # already update to main.py\n",
    "\tmodel_saved_dir = 'models/train_bert_squad_0'\n",
    "\ttrainer_0.save_model(model_saved_dir)\n",
    "\n",
    "\tpreds, _, _ = trainer_0.predict(val_dataset)\n",
    "\tstart_logits, end_logits = preds\n",
    "\tacc[0] = compute_metrics(start_logits, end_logits, val_dataset, squad[\"validation\"])['exact_match']\n",
    "\n",
    "\ttrainer_qs = trainer_0\n",
    "\n",
    "\t# print('Round 0\\ntesting accuracy {}'.format(acc[0]))\n",
    "\t# print('\\n')\n",
    "\t\n",
    "\t# ## round 1 to rd\n",
    "\t# for rd in range(1, NUM_ROUND+1):\n",
    "\t# \tprint('Round {}'.format(rd))\n",
    "\t\t\n",
    "\t# \t## query\n",
    "\t# \tif STRATEGY_NAME == 'RandomSampling':\n",
    "\t# \t\tq_idxs = random_sampling_query(labeled_idxs)\n",
    "\t# \telif STRATEGY_NAME == 'MarginSampling':\n",
    "\t# \t\tq_idxs = margin_sampling_query(n_pool, labeled_idxs, train_dataset, trainer_qs, squad['train'])\n",
    "\t# \telif STRATEGY_NAME == 'LeastConfidence':\n",
    "\t# \t\tq_idxs = least_confidence_query(n_pool, labeled_idxs, train_dataset, trainer_qs, squad['train'])\n",
    "\t# \telif STRATEGY_NAME == 'EntropySampling':\n",
    "\t# \t\tq_idxs = entropy_query()\n",
    "\t# \telif STRATEGY_NAME == 'MarginSamplingDropout':\n",
    "\t# \t\tq_idxs = margin_sampling_dropout_query()\n",
    "\t# \telif STRATEGY_NAME == 'LeastConfidenceDropout':\n",
    "\t# \t\tq_idxs = least_confidence_dropout_query()\n",
    "\t# \telif STRATEGY_NAME == 'EntropySamplingDropout':\n",
    "\t# \t\tq_idxs = entropy_dropout_query()\n",
    "\t# \telif STRATEGY_NAME == 'VarRatio':\n",
    "\t# \t\tq_idxs = var_ratio_query(n_pool, labeled_idxs, train_dataset, trainer_qs, squad['train'])\n",
    "\t# \telif STRATEGY_NAME == 'KMeansSampling':\n",
    "\t# \t\tq_idxs = kmeans_query()\n",
    "\t# \telif STRATEGY_NAME == 'KCenterGreedy':\n",
    "\t# \t\tq_idxs = kcenter_query()\n",
    "\t# \t# elif STRATEGY_NAME == 'KCenterGreedyPCA': # not sure\n",
    "\t# \t# \tq_idxs = \n",
    "\t# \telif STRATEGY_NAME == 'BALDDropout':\n",
    "\t# \t\tq_idxs = bayesian_query()\n",
    "\t# \telif STRATEGY_NAME == 'MeanSTD':\n",
    "\t# \t\tq_idxs = mean_std_query()\n",
    "\t# \telif STRATEGY_NAME == 'BadgeSampling':\n",
    "\t# \t\tq_idxs = badge_query()\n",
    "\t# \telif STRATEGY_NAME == 'LossPredictionLoss':\n",
    "\t# \t\t# different net!\n",
    "\t# \t\tq_idxs = loss_prediction_query()\n",
    "\t# \telif STRATEGY_NAME == 'CEALSampling':\n",
    "\t# \t\t# why use 'CEALSampling' in STRATEGY_NAME\n",
    "\t# \t\tq_idxs = ceal_query()\n",
    "\t# \telse:\n",
    "\t# \t\traise NotImplementedError\n",
    "\t\n",
    "\t# \t## update\n",
    "\t# \tlabeled_idxs[q_idxs] = True\n",
    "\t# \trun_rd_labeled_idxs = np.arange(n_pool)[labeled_idxs]\n",
    "\t# \tprint('run_rd_labeled_idxs', len(run_rd_labeled_idxs))\n",
    "\n",
    "\t# \ttrainer_rd = Trainer(\n",
    "\t# \t\t\t\t\tmodel=AutoModelForQuestionAnswering.from_pretrained(model_saved_dir).to(device),\n",
    "\t# \t\t\t\t\targs=training_args,\n",
    "\t# \t\t\t\t\ttrain_dataset=train_dataset.select(indices=run_rd_labeled_idxs),\n",
    "\t# \t\t\t\t\teval_dataset=val_dataset,\n",
    "\t# \t\t\t\t\ttokenizer=tokenizer,\n",
    "\t# \t\t\t\t\tdata_collator=data_collator\n",
    "\t# \t\t\t\t\t)\n",
    "\n",
    "\t# \t## train # already update to main.py\n",
    "\t# \ttrainer_rd.train()\n",
    "\t# \tmodel_saved_dir = 'train_bert_squad_' + rd\n",
    "\t# \ttrainer_rd.save_model(model_saved_dir)\n",
    "\n",
    "\t# \ttrainer_qs = trainer_rd\n",
    "\t\n",
    "\t# \t## round rd accuracy\n",
    "\t# \tpreds, _, _ = trainer_rd.predict(val_dataset)\n",
    "\t# \tstart_logits, end_logits = preds\n",
    "\t# \tacc[rd] = compute_metrics(start_logits, end_logits, val_dataset, squad[\"validation\"])['exact_match']\n",
    "\t# \tprint('testing accuracy {}'.format(acc[rd]))\n",
    "\t# \tprint('\\n')\n",
    "\n",
    "\t# \ttorch.cuda.empty_cache()\n",
    "\t\n",
    "\t# ## print results\n",
    "\t# print('SEED {}'.format(SEED))\n",
    "\t# print(STRATEGY_NAME)\n",
    "\t# print(acc)\n",
    "\t# all_acc.append(acc)\n",
    "\t\n",
    "\t# ## save model\n",
    "\t# timestamp = re.sub('\\.[0-9]*','_',str(datetime.datetime.now())).replace(\" \", \"_\").replace(\"-\", \"\").replace(\":\",\"\")\n",
    "\t# model_path = './modelpara/' + timestamp + DATA_NAME+ '_'  + STRATEGY_NAME + '_' + str(NUM_QUERY) + '_' + str(NUM_INIT_LB) +  '_' + str(args_input_quota)  +'.params'\n",
    "\t# end = datetime.datetime.now()\n",
    "\t# acq_time.append(round(float((end - start).seconds), 3))\n"
   ]
  },
  {
   "attachments": {},
   "cell_type": "markdown",
   "metadata": {},
   "source": [
    "## query workspace"
   ]
  },
  {
   "cell_type": "code",
   "execution_count": 18,
   "metadata": {},
   "outputs": [],
   "source": [
    "trainer_qs = trainer_0"
   ]
  },
  {
   "cell_type": "code",
   "execution_count": 20,
   "metadata": {},
   "outputs": [],
   "source": [
    "# get unlable data\n",
    "unlabeled_idxs = np.arange(n_pool)[~labeled_idxs]\n",
    "unlabeled_data = train_dataset.select(indices=unlabeled_idxs)\n",
    "len(unlabeled_idxs)"
   ]
  },
  {
   "cell_type": "code",
   "execution_count": 22,
   "metadata": {},
   "outputs": [
    {
     "data": {
      "text/plain": [
       "20"
      ]
     },
     "execution_count": 22,
     "metadata": {},
     "output_type": "execute_result"
    }
   ],
   "source": [
    "# smaller data\n",
    "unlabeled_idxs_20 = unlabeled_idxs[:20]\n",
    "unlabeled_data_20 = train_dataset.select(unlabeled_idxs_20)\n",
    "len(unlabeled_data_20)"
   ]
  },
  {
   "cell_type": "code",
   "execution_count": 66,
   "metadata": {},
   "outputs": [
    {
     "data": {
      "text/html": [],
      "text/plain": [
       "<IPython.core.display.HTML object>"
      ]
     },
     "metadata": {},
     "output_type": "display_data"
    },
    {
     "name": "stderr",
     "output_type": "stream",
     "text": [
      "100%|██████████| 3000/3000 [00:00<00:00, 5616.51it/s]\n"
     ]
    },
    {
     "data": {
      "text/plain": [
       "[{'idx': [0],\n",
       "  'probs': array([0.11115894, 0.09532093, 0.0930382 , 0.0610937 , 0.05865714,\n",
       "         0.05302327, 0.04550183, 0.04496831, 0.04450177, 0.04440406,\n",
       "         0.0430655 , 0.04062211, 0.03973364, 0.03954602, 0.03903756,\n",
       "         0.03536009, 0.02944322, 0.02852237, 0.02751693, 0.02548442],\n",
       "        dtype=float32)},\n",
       " {'idx': [1],\n",
       "  'probs': array([0.12108769, 0.07055194, 0.06747304, 0.0624703 , 0.058971  ,\n",
       "         0.05589368, 0.05567102, 0.05070628, 0.04621866, 0.0458475 ,\n",
       "         0.04385964, 0.04292731, 0.04140681, 0.0389948 , 0.03859771,\n",
       "         0.03560026, 0.03373416, 0.03249145, 0.03064777, 0.02684893],\n",
       "        dtype=float32)},\n",
       " {'idx': [2],\n",
       "  'probs': array([0.09742153, 0.08271339, 0.07118762, 0.06648113, 0.06342224,\n",
       "         0.06291201, 0.05753821, 0.0547342 , 0.05338069, 0.05239553,\n",
       "         0.04952316, 0.03969455, 0.03712869, 0.03346546, 0.03322176,\n",
       "         0.03211612, 0.02906213, 0.02878195, 0.02755215, 0.02726741],\n",
       "        dtype=float32)},\n",
       " {'idx': [3],\n",
       "  'probs': array([0.12267146, 0.08887685, 0.06521696, 0.05702109, 0.054638  ,\n",
       "         0.05454223, 0.05205652, 0.04810632, 0.04553136, 0.04500258,\n",
       "         0.04276033, 0.04208861, 0.04125801, 0.04020541, 0.03816386,\n",
       "         0.03453936, 0.03432225, 0.03401615, 0.02993969, 0.02904299],\n",
       "        dtype=float32)},\n",
       " {'idx': [4],\n",
       "  'probs': array([0.12091707, 0.06977568, 0.06541748, 0.06126514, 0.06050416,\n",
       "         0.05675068, 0.05425787, 0.05383358, 0.05219638, 0.04659262,\n",
       "         0.04638137, 0.04139998, 0.0394798 , 0.03664433, 0.03635665,\n",
       "         0.03487538, 0.03401459, 0.03310123, 0.02971296, 0.026523  ],\n",
       "        dtype=float32)},\n",
       " {'idx': [5],\n",
       "  'probs': array([0.19605546, 0.11170093, 0.11124709, 0.05957022, 0.0517957 ,\n",
       "         0.04718398, 0.04174856, 0.03767101, 0.03761921, 0.03641107,\n",
       "         0.03621856, 0.03136419, 0.02891639, 0.02831542, 0.02530116,\n",
       "         0.02508013, 0.02432575, 0.02378588, 0.02308262, 0.02260663],\n",
       "        dtype=float32)},\n",
       " {'idx': [6],\n",
       "  'probs': array([0.17992258, 0.11617661, 0.07987061, 0.0525289 , 0.0518322 ,\n",
       "         0.04546466, 0.0411377 , 0.04037262, 0.03981476, 0.03785403,\n",
       "         0.03703894, 0.03560537, 0.03389676, 0.03346823, 0.03315113,\n",
       "         0.03290289, 0.03276331, 0.02619989, 0.02517713, 0.02482164],\n",
       "        dtype=float32)},\n",
       " {'idx': [7],\n",
       "  'probs': array([0.17138667, 0.10931183, 0.09849928, 0.05311555, 0.05100121,\n",
       "         0.0488732 , 0.04491872, 0.03969731, 0.03882453, 0.03817562,\n",
       "         0.03603137, 0.03471679, 0.03252901, 0.03188036, 0.03184304,\n",
       "         0.03114294, 0.02866188, 0.02750232, 0.0270487 , 0.02483964],\n",
       "        dtype=float32)},\n",
       " {'idx': [8],\n",
       "  'probs': array([0.15874058, 0.11885618, 0.09004497, 0.04905201, 0.0454044 ,\n",
       "         0.04480147, 0.04318886, 0.04282725, 0.04201797, 0.04116897,\n",
       "         0.04112522, 0.03837696, 0.03756157, 0.03738795, 0.03233743,\n",
       "         0.02868069, 0.0285252 , 0.02827328, 0.02698365, 0.02464542],\n",
       "        dtype=float32)},\n",
       " {'idx': [9],\n",
       "  'probs': array([0.15354988, 0.11685688, 0.09528512, 0.05309035, 0.04503013,\n",
       "         0.04481797, 0.04411476, 0.04355016, 0.04334493, 0.03998819,\n",
       "         0.03987946, 0.03856876, 0.03742632, 0.03357287, 0.03221026,\n",
       "         0.02955953, 0.02879439, 0.02784801, 0.02649054, 0.02602152],\n",
       "        dtype=float32)},\n",
       " {'idx': [10],\n",
       "  'probs': array([0.17499603, 0.10750945, 0.07062338, 0.06250631, 0.05350279,\n",
       "         0.04995371, 0.04750532, 0.04286924, 0.04167511, 0.04066219,\n",
       "         0.03632466, 0.0337934 , 0.03359625, 0.03277971, 0.03140318,\n",
       "         0.03082347, 0.03076856, 0.02737686, 0.02616264, 0.02516775],\n",
       "        dtype=float32)},\n",
       " {'idx': [11],\n",
       "  'probs': array([0.1953194 , 0.11127022, 0.06096355, 0.05278729, 0.0478575 ,\n",
       "         0.04750863, 0.0459204 , 0.0448055 , 0.04191666, 0.04125987,\n",
       "         0.03707269, 0.03501473, 0.03416098, 0.03261165, 0.03196186,\n",
       "         0.03086412, 0.0294502 , 0.0278548 , 0.02633004, 0.02506994],\n",
       "        dtype=float32)},\n",
       " {'idx': [12],\n",
       "  'probs': array([0.12670386, 0.12056661, 0.08853926, 0.0754648 , 0.05792796,\n",
       "         0.0574373 , 0.05450473, 0.04906886, 0.04550279, 0.03878347,\n",
       "         0.03022144, 0.02978406, 0.02975317, 0.02972903, 0.02956572,\n",
       "         0.02858261, 0.02838186, 0.02761951, 0.0270071 , 0.02485581],\n",
       "        dtype=float32)},\n",
       " {'idx': [13],\n",
       "  'probs': array([0.12976697, 0.10944197, 0.09207065, 0.06510166, 0.06433547,\n",
       "         0.05481129, 0.05347788, 0.05008818, 0.04655482, 0.0423938 ,\n",
       "         0.03549122, 0.03507155, 0.0315403 , 0.02997864, 0.02988127,\n",
       "         0.02728313, 0.02674058, 0.02578502, 0.02554206, 0.02464361],\n",
       "        dtype=float32)},\n",
       " {'idx': [14],\n",
       "  'probs': array([0.1430864 , 0.12290503, 0.06961899, 0.0657697 , 0.06510707,\n",
       "         0.06086219, 0.05518766, 0.04467589, 0.03968331, 0.03437551,\n",
       "         0.03325356, 0.03251162, 0.03146948, 0.0312777 , 0.0300517 ,\n",
       "         0.02969249, 0.02905839, 0.02798661, 0.02703094, 0.02639578],\n",
       "        dtype=float32)},\n",
       " {'idx': [15],\n",
       "  'probs': array([0.3484557 , 0.08245807, 0.07425615, 0.06653718, 0.05452976,\n",
       "         0.04650161, 0.03917623, 0.03050144, 0.02957476, 0.02813782,\n",
       "         0.0276382 , 0.02347161, 0.02293447, 0.02135843, 0.02128978,\n",
       "         0.020351  , 0.0180357 , 0.01609202, 0.014521  , 0.01417912],\n",
       "        dtype=float32)},\n",
       " {'idx': [16],\n",
       "  'probs': array([0.32480472, 0.09111315, 0.0732554 , 0.07064152, 0.04782785,\n",
       "         0.04166905, 0.04003265, 0.03017617, 0.02821539, 0.02780435,\n",
       "         0.02541796, 0.02513395, 0.02497983, 0.02471475, 0.024607  ,\n",
       "         0.02054938, 0.0204257 , 0.01975105, 0.01971837, 0.01916175],\n",
       "        dtype=float32)},\n",
       " {'idx': [17],\n",
       "  'probs': array([0.35100874, 0.0850308 , 0.08004044, 0.06763719, 0.05182769,\n",
       "         0.04937197, 0.04180963, 0.03159714, 0.0303806 , 0.02455682,\n",
       "         0.02451954, 0.0224809 , 0.02241477, 0.0188683 , 0.01850883,\n",
       "         0.01809372, 0.01720912, 0.0163849 , 0.01553632, 0.01272262],\n",
       "        dtype=float32)},\n",
       " {'idx': [18],\n",
       "  'probs': array([0.25699925, 0.07520087, 0.06955796, 0.06300537, 0.06091247,\n",
       "         0.04890101, 0.04547104, 0.0419016 , 0.03558031, 0.03433852,\n",
       "         0.03276971, 0.03102309, 0.03005897, 0.02981019, 0.02859899,\n",
       "         0.02629871, 0.02434526, 0.02203378, 0.0219373 , 0.02125553],\n",
       "        dtype=float32)},\n",
       " {'idx': [19],\n",
       "  'probs': array([0.3506986 , 0.07807574, 0.07769618, 0.06664703, 0.05252982,\n",
       "         0.04591364, 0.04183428, 0.03575667, 0.03123567, 0.02636246,\n",
       "         0.0231347 , 0.02238828, 0.0213972 , 0.01992571, 0.01978934,\n",
       "         0.01915901, 0.01902804, 0.01734091, 0.01729744, 0.0137893 ],\n",
       "        dtype=float32)}]"
      ]
     },
     "execution_count": 66,
     "metadata": {},
     "output_type": "execute_result"
    }
   ],
   "source": [
    "preds_20, _, _ = trainer_qs.predict(unlabeled_data_20)\n",
    "start_logits_20, end_logits_20 = preds_20\n",
    "# query_index_20 = query(start_logits_20, end_logits_20, unlabeled_data_20, squad['train'])\n",
    "# query_index_20\n",
    "# start = datetime.datetime.now()\n",
    "probs_list_dict_20 = get_prob(start_logits_20, end_logits_20, unlabeled_data_20, squad['train'])\n",
    "# end = datetime.datetime.now()\n",
    "# print(end - start)\n",
    "probs_list_dict_20"
   ]
  },
  {
   "cell_type": "code",
   "execution_count": 70,
   "metadata": {},
   "outputs": [
    {
     "data": {
      "text/plain": [
       "[12, 2, 0, 14, 13]"
      ]
     },
     "execution_count": 70,
     "metadata": {},
     "output_type": "execute_result"
    }
   ],
   "source": [
    "q_idxs = get_margin(probs_list_dict_20, 5)\n",
    "q_idxs"
   ]
  },
  {
   "cell_type": "code",
   "execution_count": 87,
   "metadata": {},
   "outputs": [],
   "source": [
    "def get_least_conf(probs_list_dict, n):\n",
    "    confidence_list_dict = []\n",
    "    for d in probs_list_dict:\n",
    "        if len(d['probs']) > 1: # if prob_dict['probs'] is not 0\n",
    "            # uncertainties_d = d['probs']\n",
    "            confidence = max(d['probs'])\n",
    "            confidence_list_dict.append(\n",
    "                {'idx': d['idx'], \n",
    "                    'confidence': confidence}\n",
    "                    )\n",
    "        elif d['idx']:\n",
    "            confidence_list_dict.append(\n",
    "                {'idx': d['idx'], \n",
    "                    'confidence': np.array([0])}\n",
    "                    )\n",
    "\n",
    "    sorted_confidence_dict = sorted(confidence_list_dict, key=lambda d: d['confidence'])\n",
    "    return [confidence_dict['idx'][0] for confidence_dict in sorted_confidence_dict[:n]]"
   ]
  },
  {
   "cell_type": "code",
   "execution_count": 88,
   "metadata": {},
   "outputs": [
    {
     "data": {
      "text/plain": [
       "[2, 0, 4, 1, 3]"
      ]
     },
     "execution_count": 88,
     "metadata": {},
     "output_type": "execute_result"
    }
   ],
   "source": [
    "q_idxs = get_least_conf(probs_list_dict_20, 5)\n",
    "q_idxs"
   ]
  },
  {
   "cell_type": "code",
   "execution_count": 89,
   "metadata": {},
   "outputs": [
    {
     "data": {
      "text/html": [],
      "text/plain": [
       "<IPython.core.display.HTML object>"
      ]
     },
     "metadata": {},
     "output_type": "display_data"
    }
   ],
   "source": [
    "# predict with unlable data\n",
    "preds, _, _ = trainer_qs.predict(unlabeled_data)"
   ]
  },
  {
   "cell_type": "code",
   "execution_count": 91,
   "metadata": {},
   "outputs": [
    {
     "name": "stderr",
     "output_type": "stream",
     "text": [
      "100%|██████████| 3000/3000 [00:16<00:00, 185.87it/s]\n"
     ]
    }
   ],
   "source": [
    "start_logits, end_logits = preds\n",
    "probs_list_dict = get_prob(start_logits, end_logits, unlabeled_data, squad['train'])"
   ]
  },
  {
   "cell_type": "code",
   "execution_count": null,
   "metadata": {},
   "outputs": [],
   "source": [
    "q_idxs = get_margin(probs_list_dict, NUM_QUERY)\n",
    "q_idxs"
   ]
  },
  {
   "cell_type": "code",
   "execution_count": null,
   "metadata": {},
   "outputs": [],
   "source": [
    "q_idxs = get_least_conf(probs_list_dict, NUM_QUERY)\n",
    "q_idxs"
   ]
  }
 ],
 "metadata": {
  "kernelspec": {
   "display_name": "Python 3.10.6 ('.venv')",
   "language": "python",
   "name": "python3"
  },
  "language_info": {
   "codemirror_mode": {
    "name": "ipython",
    "version": 3
   },
   "file_extension": ".py",
   "mimetype": "text/x-python",
   "name": "python",
   "nbconvert_exporter": "python",
   "pygments_lexer": "ipython3",
   "version": "3.10.8"
  },
  "orig_nbformat": 4,
  "vscode": {
   "interpreter": {
    "hash": "6317ac8a4c65d05b4cf6bac76f72bfaae40b2e9380067c26c20c9afff1d8528e"
   }
  }
 },
 "nbformat": 4,
 "nbformat_minor": 2
}
