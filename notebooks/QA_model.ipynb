{
 "cells": [
  {
   "attachments": {},
   "cell_type": "markdown",
   "metadata": {},
   "source": [
    "# Question Answering Model \n",
    "## no trainer\n",
    "\n",
    "- dataset\n",
    "- torch\n",
    "- transformers\n",
    "- transformers[torch]\n",
    "- evaluate"
   ]
  },
  {
   "attachments": {},
   "cell_type": "markdown",
   "metadata": {},
   "source": [
    "import packages"
   ]
  },
  {
   "cell_type": "code",
   "execution_count": 1,
   "metadata": {},
   "outputs": [
    {
     "name": "stderr",
     "output_type": "stream",
     "text": [
      "/mount/arbeitsdaten31/studenten1/linku/.venv/lib64/python3.10/site-packages/tqdm/auto.py:21: TqdmWarning: IProgress not found. Please update jupyter and ipywidgets. See https://ipywidgets.readthedocs.io/en/stable/user_install.html\n",
      "  from .autonotebook import tqdm as notebook_tqdm\n"
     ]
    }
   ],
   "source": [
    "from datasets import load_dataset\n",
    "from transformers import (\n",
    "    AutoTokenizer,\n",
    "    default_data_collator,\n",
    "    get_scheduler,\n",
    "    AutoModelForQuestionAnswering,\n",
    ")\n",
    "from torch.utils.data import DataLoader\n",
    "from torch.optim import AdamW\n",
    "import torch\n",
    "\n",
    "import evaluate\n",
    "import collections\n",
    "from tqdm.auto import tqdm\n",
    "import numpy as np\n",
    "\n",
    "import os\n",
    "import re\n",
    "import datetime"
   ]
  },
  {
   "attachments": {},
   "cell_type": "markdown",
   "metadata": {},
   "source": [
    "Set cache directory."
   ]
  },
  {
   "cell_type": "code",
   "execution_count": 2,
   "metadata": {},
   "outputs": [
    {
     "name": "stdout",
     "output_type": "stream",
     "text": [
      "env: TRANSFORMERS_CACHE=/mount/arbeitsdaten31/studenten1/linku/cache\n",
      "env: HF_MODULES_CACHE=/mount/arbeitsdaten31/studenten1/linku/cache\n",
      "env: HF_DATASETS_CACHE=/mount/arbeitsdaten31/studenten1/linku/cache\n"
     ]
    }
   ],
   "source": [
    "model_dir = '/mount/arbeitsdaten31/studenten1/linku/models'\n",
    "CACHE_DIR='/mount/arbeitsdaten31/studenten1/linku/cache'\n",
    "%set_env TRANSFORMERS_CACHE $CACHE_DIR\n",
    "%set_env HF_MODULES_CACHE $CACHE_DIR\n",
    "%set_env HF_DATASETS_CACHE $CACHE_DIR"
   ]
  },
  {
   "attachments": {},
   "cell_type": "markdown",
   "metadata": {},
   "source": [
    "### arguments.py\n",
    "\n",
    "args_input."
   ]
  },
  {
   "cell_type": "code",
   "execution_count": 3,
   "metadata": {},
   "outputs": [],
   "source": [
    "args_input_ALstrategy = 'MarginSampling'\n",
    "args_input_initseed = 100 # 1000\n",
    "args_input_quota = 100 # 1000\n",
    "args_input_batch = 35 # 128\n",
    "args_input_dataset_name = 'SQuAD'\n",
    "args_input_iteration = 1\n",
    "args_input_model_batch = 8 # already add in arguments.py"
   ]
  },
  {
   "attachments": {},
   "cell_type": "markdown",
   "metadata": {},
   "source": [
    "### load dataset"
   ]
  },
  {
   "cell_type": "code",
   "execution_count": 4,
   "metadata": {},
   "outputs": [
    {
     "name": "stderr",
     "output_type": "stream",
     "text": [
      "Found cached dataset squad (/home/users1/linku/.cache/huggingface/datasets/squad/plain_text/1.0.0/d6ec3ceb99ca480ce37cdd35555d6cb2511d223b9150cce08a837ef62ffea453)\n",
      "100%|██████████| 2/2 [00:00<00:00, 116.28it/s]\n"
     ]
    }
   ],
   "source": [
    "squad = load_dataset(args_input_dataset_name.lower())\n",
    "# squad[\"train\"] = squad[\"train\"].shuffle(42).select(range(2000))\n",
    "squad[\"train\"] = squad[\"train\"].select(range(3000))\n",
    "squad[\"validation\"] = squad[\"validation\"].select(range(1000))"
   ]
  },
  {
   "attachments": {},
   "cell_type": "markdown",
   "metadata": {},
   "source": [
    "Next we will preprocess the dataset (training and evaluation data)."
   ]
  },
  {
   "cell_type": "code",
   "execution_count": 5,
   "metadata": {},
   "outputs": [],
   "source": [
    "def preprocess_training_features(examples):\n",
    "    # keep [\"offset_mapping\"], for compute_metrics()\n",
    "    questions = [q.strip() for q in examples[\"question\"]]\n",
    "    inputs = tokenizer(\n",
    "        questions,\n",
    "        examples[\"context\"],\n",
    "        max_length=max_length,\n",
    "        truncation=\"only_second\",\n",
    "        stride=stride,\n",
    "        return_overflowing_tokens=True,\n",
    "        return_offsets_mapping=True,\n",
    "        padding=\"max_length\",\n",
    "    )\n",
    "\n",
    "    offset_mapping = inputs[\"offset_mapping\"]\n",
    "    sample_map = inputs.pop(\"overflow_to_sample_mapping\")\n",
    "    answers = examples[\"answers\"]\n",
    "    start_positions = []\n",
    "    end_positions = []\n",
    "    example_ids = []\n",
    "\n",
    "    for i, offset in enumerate(offset_mapping):\n",
    "        sample_idx = sample_map[i]\n",
    "        answer = answers[sample_idx]\n",
    "        start_char = answer[\"answer_start\"][0]\n",
    "        end_char = answer[\"answer_start\"][0] + len(answer[\"text\"][0])\n",
    "        sequence_ids = inputs.sequence_ids(i)\n",
    "        \n",
    "        example_ids.append(examples[\"id\"][sample_idx]) # newly added for used in unlabel data predict\n",
    "\n",
    "        # Find the start and end of the context\n",
    "        idx = 0\n",
    "        while sequence_ids[idx] != 1:\n",
    "            idx += 1\n",
    "        context_start = idx\n",
    "        while sequence_ids[idx] == 1:\n",
    "            idx += 1\n",
    "        context_end = idx - 1\n",
    "\n",
    "        # If the answer is not fully inside the context, label is (0, 0)\n",
    "        if offset[context_start][0] > start_char or offset[context_end][1] < end_char:\n",
    "            start_positions.append(0)\n",
    "            end_positions.append(0)\n",
    "        else:\n",
    "            # Otherwise it's the start and end token positions\n",
    "            idx = context_start\n",
    "            while idx <= context_end and offset[idx][0] <= start_char:\n",
    "                idx += 1\n",
    "            start_positions.append(idx - 1)\n",
    "\n",
    "            idx = context_end\n",
    "            while idx >= context_start and offset[idx][1] >= end_char:\n",
    "                idx -= 1\n",
    "            end_positions.append(idx + 1)\n",
    "\n",
    "    inputs[\"example_id\"] = example_ids\n",
    "    inputs[\"start_positions\"] = start_positions\n",
    "    inputs[\"end_positions\"] = end_positions\n",
    "    return inputs"
   ]
  },
  {
   "cell_type": "code",
   "execution_count": 6,
   "metadata": {},
   "outputs": [],
   "source": [
    "def preprocess_training_examples(examples):\n",
    "    # no ['offset_mapping'], for .train() and .eval()\n",
    "    questions = [q.strip() for q in examples[\"question\"]]\n",
    "    inputs = tokenizer(\n",
    "        questions,\n",
    "        examples[\"context\"],\n",
    "        max_length=max_length,\n",
    "        truncation=\"only_second\",\n",
    "        stride=stride,\n",
    "        return_overflowing_tokens=True,\n",
    "        return_offsets_mapping=True,\n",
    "        padding=\"max_length\",\n",
    "    )\n",
    "\n",
    "    offset_mapping = inputs.pop(\"offset_mapping\")\n",
    "    sample_map = inputs.pop(\"overflow_to_sample_mapping\")\n",
    "    answers = examples[\"answers\"]\n",
    "    start_positions = []\n",
    "    end_positions = []\n",
    "    example_ids = []\n",
    "\n",
    "    for i, offset in enumerate(offset_mapping):\n",
    "        sample_idx = sample_map[i]\n",
    "        answer = answers[sample_idx]\n",
    "        start_char = answer[\"answer_start\"][0]\n",
    "        end_char = answer[\"answer_start\"][0] + len(answer[\"text\"][0])\n",
    "        sequence_ids = inputs.sequence_ids(i)\n",
    "        \n",
    "        example_ids.append(examples[\"id\"][sample_idx]) # newly added for used in unlabel data predict\n",
    "\n",
    "        # Find the start and end of the context\n",
    "        idx = 0\n",
    "        while sequence_ids[idx] != 1:\n",
    "            idx += 1\n",
    "        context_start = idx\n",
    "        while sequence_ids[idx] == 1:\n",
    "            idx += 1\n",
    "        context_end = idx - 1\n",
    "\n",
    "        # If the answer is not fully inside the context, label is (0, 0)\n",
    "        if offset[context_start][0] > start_char or offset[context_end][1] < end_char:\n",
    "            start_positions.append(0)\n",
    "            end_positions.append(0)\n",
    "        else:\n",
    "            # Otherwise it's the start and end token positions\n",
    "            idx = context_start\n",
    "            while idx <= context_end and offset[idx][0] <= start_char:\n",
    "                idx += 1\n",
    "            start_positions.append(idx - 1)\n",
    "\n",
    "            idx = context_end\n",
    "            while idx >= context_start and offset[idx][1] >= end_char:\n",
    "                idx -= 1\n",
    "            end_positions.append(idx + 1)\n",
    "\n",
    "    inputs[\"start_positions\"] = start_positions\n",
    "    inputs[\"end_positions\"] = end_positions\n",
    "    return inputs"
   ]
  },
  {
   "cell_type": "code",
   "execution_count": 7,
   "metadata": {},
   "outputs": [],
   "source": [
    "def preprocess_validation_examples(examples):\n",
    "    questions = [q.strip() for q in examples[\"question\"]]\n",
    "    inputs = tokenizer(\n",
    "        questions,\n",
    "        examples[\"context\"],\n",
    "        max_length=max_length,\n",
    "        truncation=\"only_second\",\n",
    "        stride=stride,\n",
    "        return_overflowing_tokens=True,\n",
    "        return_offsets_mapping=True,\n",
    "        padding=\"max_length\",\n",
    "    )\n",
    "\n",
    "    sample_map = inputs.pop(\"overflow_to_sample_mapping\")\n",
    "    example_ids = []\n",
    "\n",
    "    for i in range(len(inputs[\"input_ids\"])):\n",
    "        sample_idx = sample_map[i]\n",
    "        example_ids.append(examples[\"id\"][sample_idx])\n",
    "\n",
    "        sequence_ids = inputs.sequence_ids(i)\n",
    "        offset = inputs[\"offset_mapping\"][i]\n",
    "        inputs[\"offset_mapping\"][i] = [\n",
    "            o if sequence_ids[k] == 1 else None for k, o in enumerate(offset)\n",
    "        ]\n",
    "\n",
    "    inputs[\"example_id\"] = example_ids\n",
    "    return inputs"
   ]
  },
  {
   "cell_type": "code",
   "execution_count": 8,
   "metadata": {},
   "outputs": [
    {
     "name": "stderr",
     "output_type": "stream",
     "text": [
      "Loading cached processed dataset at /home/users1/linku/.cache/huggingface/datasets/squad/plain_text/1.0.0/d6ec3ceb99ca480ce37cdd35555d6cb2511d223b9150cce08a837ef62ffea453/cache-d10ddabde563b597.arrow\n",
      "Loading cached processed dataset at /home/users1/linku/.cache/huggingface/datasets/squad/plain_text/1.0.0/d6ec3ceb99ca480ce37cdd35555d6cb2511d223b9150cce08a837ef62ffea453/cache-773e51dc4558cf67.arrow\n",
      "Loading cached processed dataset at /home/users1/linku/.cache/huggingface/datasets/squad/plain_text/1.0.0/d6ec3ceb99ca480ce37cdd35555d6cb2511d223b9150cce08a837ef62ffea453/cache-0f087a92e258c27b.arrow\n",
      "Loading cached processed dataset at /home/users1/linku/.cache/huggingface/datasets/squad/plain_text/1.0.0/d6ec3ceb99ca480ce37cdd35555d6cb2511d223b9150cce08a837ef62ffea453/cache-0f087a92e258c27b.arrow\n"
     ]
    }
   ],
   "source": [
    "max_length = 384\n",
    "stride = 128\n",
    "\n",
    "# load tokenizer for dataset preprocessing\n",
    "tokenizer = AutoTokenizer.from_pretrained(\"bert-base-uncased\")\n",
    "# preprocess data\n",
    "train_dataset = squad[\"train\"].map(\n",
    "    preprocess_training_examples,\n",
    "    batched=True,\n",
    "    remove_columns=squad[\"train\"].column_names,\n",
    ")\n",
    "train_features = squad[\"train\"].map(\n",
    "    preprocess_training_features,\n",
    "    batched=True,\n",
    "    remove_columns=squad[\"train\"].column_names,\n",
    ")\n",
    "val_dataset = squad[\"validation\"].map(\n",
    "    preprocess_validation_examples,\n",
    "    batched=True,\n",
    "    remove_columns=squad[\"validation\"].column_names,\n",
    ")\n",
    "val_features = squad[\"validation\"].map(\n",
    "    preprocess_validation_examples,\n",
    "    batched=True,\n",
    "    remove_columns=squad[\"validation\"].column_names,\n",
    ")"
   ]
  },
  {
   "cell_type": "code",
   "execution_count": 9,
   "metadata": {},
   "outputs": [],
   "source": [
    "train_dataset.set_format(\"torch\")\n",
    "train_features.set_format(\"torch\")\n",
    "val_dataset = val_dataset.remove_columns([\"offset_mapping\"])\n",
    "val_dataset.set_format(\"torch\")\n",
    "val_features.set_format(\"torch\")"
   ]
  },
  {
   "attachments": {},
   "cell_type": "markdown",
   "metadata": {},
   "source": [
    "## model.py"
   ]
  },
  {
   "cell_type": "code",
   "execution_count": null,
   "metadata": {},
   "outputs": [],
   "source": [
    "def to_train(num_train_epochs, train_dataloader, device, model, optimizer, lr_scheduler):\n",
    "\tprint('num of train dataset', len(train_dataloader.dataset))\n",
    "\tfor epoch in range(num_train_epochs):\n",
    "\t\tmodel.train()\n",
    "\t\tfor step, batch in enumerate(tqdm(train_dataloader, desc=\"Training\")):\n",
    "\t\t\tbatch = {key: value.to(device) for key, value in batch.items()}\n",
    "\t\t\toutputs = model(**batch)\n",
    "\t\t\tloss = outputs.loss\n",
    "\t\t\tloss.backward()\n",
    "\n",
    "\t\t\toptimizer.step()\n",
    "\t\t\tlr_scheduler.step()\n",
    "\t\t\toptimizer.zero_grad()\n",
    "    \n",
    "\t\tmodel_to_save = model.module if hasattr(model, 'module') else model\n",
    "\t\tmodel_to_save.save_pretrained(model_dir)\n",
    "\tprint('TRAIN done!')"
   ]
  },
  {
   "cell_type": "code",
   "execution_count": 10,
   "metadata": {},
   "outputs": [],
   "source": [
    "metric = evaluate.load(\"squad\")"
   ]
  },
  {
   "cell_type": "code",
   "execution_count": 11,
   "metadata": {},
   "outputs": [],
   "source": [
    "def compute_metrics(start_logits, end_logits, features, examples):\n",
    "    \n",
    "    example_to_features = collections.defaultdict(list)\n",
    "    max_answer_length = 30\n",
    "    n_best = 20\n",
    "    for idx, feature in enumerate(features):\n",
    "        example_to_features[feature[\"example_id\"]].append(idx)\n",
    "\n",
    "    predicted_answers = []\n",
    "    for example in tqdm(examples):\n",
    "        example_id = example[\"id\"]\n",
    "        context = example[\"context\"]\n",
    "        answers = []\n",
    "\n",
    "        # Loop through all features associated with that example\n",
    "        for feature_index in example_to_features[example_id]:\n",
    "            start_logit = start_logits[feature_index]\n",
    "            end_logit = end_logits[feature_index]\n",
    "            offsets = features[feature_index][\"offset_mapping\"]\n",
    "\n",
    "            start_indexes = np.argsort(start_logit)[-1 : -n_best - 1 : -1].tolist()\n",
    "            end_indexes = np.argsort(end_logit)[-1 : -n_best - 1 : -1].tolist()\n",
    "            for start_index in start_indexes:\n",
    "                for end_index in end_indexes:\n",
    "                    # Skip answers that are not fully in the context\n",
    "                    if offsets[start_index] is None or offsets[end_index] is None:\n",
    "                        continue\n",
    "                    # Skip answers with a length that is either < 0 or > max_answer_length\n",
    "                    if (\n",
    "                        end_index < start_index\n",
    "                        or end_index - start_index + 1 > max_answer_length\n",
    "                    ):\n",
    "                        continue\n",
    "\n",
    "                    answer = {\n",
    "                        \"text\": context[offsets[start_index][0] : offsets[end_index][1]],\n",
    "                        \"logit_score\": start_logit[start_index] + end_logit[end_index],\n",
    "                    }\n",
    "                    answers.append(answer)\n",
    "\n",
    "        # Select the answer with the best score\n",
    "        if len(answers) > 0:\n",
    "            best_answer = max(answers, key=lambda x: x[\"logit_score\"])\n",
    "            predicted_answers.append(\n",
    "                {\"id\": example_id, \"prediction_text\": best_answer[\"text\"]}\n",
    "            )\n",
    "        else:\n",
    "            predicted_answers.append({\"id\": example_id, \"prediction_text\": \"\"})\n",
    "\n",
    "    theoretical_answers = [{\"id\": ex[\"id\"], \"answers\": ex[\"answers\"]} for ex in examples]\n",
    "    return metric.compute(predictions=predicted_answers, references=theoretical_answers)"
   ]
  },
  {
   "cell_type": "code",
   "execution_count": 12,
   "metadata": {},
   "outputs": [],
   "source": [
    "def get_pred(eval_dataloader, device, features, examples):\n",
    "    model = AutoModelForQuestionAnswering.from_pretrained(model_dir).to(device)\n",
    "    \n",
    "    model.eval()\n",
    "    start_logits = []\n",
    "    end_logits = []\n",
    "    for batch in tqdm(eval_dataloader, desc=\"Evaluating_pred\"):\n",
    "        batch = {key: value.to(device) for key, value in batch.items()}\n",
    "        with torch.no_grad():\n",
    "            outputs = model(**batch)\n",
    "\n",
    "        start_logits.append(outputs.start_logits.cpu().numpy())\n",
    "        end_logits.append(outputs.end_logits.cpu().numpy())\n",
    "\n",
    "    start_logits = np.concatenate(start_logits)\n",
    "    end_logits = np.concatenate(end_logits)\n",
    "    start_logits = start_logits[: len(features)]\n",
    "    end_logits = end_logits[: len(features)]\n",
    "\n",
    "    return compute_metrics(start_logits, end_logits, features, examples)"
   ]
  },
  {
   "cell_type": "code",
   "execution_count": 13,
   "metadata": {},
   "outputs": [],
   "source": [
    "def get_prob(eval_dataloader, device, features, examples):\n",
    "    model = AutoModelForQuestionAnswering.from_pretrained(model_dir).to(device)\n",
    "\n",
    "    model.eval()\n",
    "    start_logits = []\n",
    "    end_logits = []\n",
    "\n",
    "    for batch in tqdm(eval_dataloader, desc=\"Evaluating_prob\"):\n",
    "        batch = {key: value.to(device) for key, value in batch.items()}\n",
    "        with torch.no_grad():\n",
    "            outputs = model(**batch)\n",
    "\n",
    "        start_logits.append(outputs.start_logits.cpu().numpy())\n",
    "        end_logits.append(outputs.end_logits.cpu().numpy())\n",
    "\n",
    "    start_logits = np.concatenate(start_logits)\n",
    "    end_logits = np.concatenate(end_logits)\n",
    "    start_logits = start_logits[: len(features)]\n",
    "    end_logits = end_logits[: len(features)]\n",
    "\n",
    "    prob_dict = {}\n",
    "    example_to_features = collections.defaultdict(list)\n",
    "    max_answer_length = 30\n",
    "    n_best = 20 # TODO: if set n_best as 5, will it effect the time??\n",
    "    \n",
    "    for idx, feature in enumerate(features):\n",
    "        example_to_features[feature[\"example_id\"]].append(idx)\n",
    "\n",
    "    for example in tqdm(examples):\n",
    "        example_id = example[\"id\"]\n",
    "        # context = example[\"context\"]\n",
    "        answers = []\n",
    "\n",
    "        # Loop through all features associated with that example\n",
    "        for feature_index in example_to_features[example_id]:\n",
    "            start_logit = start_logits[feature_index]\n",
    "            end_logit = end_logits[feature_index]\n",
    "            offsets = features[feature_index][\"offset_mapping\"]\n",
    "\n",
    "            start_indexes = np.argsort(start_logit)[-1 : -n_best - 1 : -1].tolist()\n",
    "            end_indexes = np.argsort(end_logit)[-1 : -n_best - 1 : -1].tolist()\n",
    "            for start_index in start_indexes:\n",
    "                for end_index in end_indexes:\n",
    "                    # Skip answers that are not fully in the context\n",
    "                    if offsets[start_index] is None or offsets[end_index] is None:\n",
    "                        continue\n",
    "                    # Skip answers with a length that is either < 0 or > max_answer_length\n",
    "                    if (\n",
    "                        end_index < start_index\n",
    "                        or end_index - start_index + 1 > max_answer_length\n",
    "                    ):\n",
    "                        continue\n",
    "\n",
    "                    answers.append(start_logit[start_index] + end_logit[end_index])\n",
    "        \n",
    "        if len(answers) > 1:\n",
    "            if example_to_features[example_id][0] not in prob_dict:\n",
    "                prob_dict[example_to_features[example_id][0]] = softmax(answers)\n",
    "            else:\n",
    "                prob_dict[example_to_features[example_id][0]] += softmax(answers)\n",
    "        elif example_to_features[example_id] != []:\n",
    "            if example_to_features[example_id][0] not in prob_dict:\n",
    "                prob_dict[example_to_features[example_id][0]] = np.array([0])\n",
    "    \n",
    "    return prob_dict"
   ]
  },
  {
   "cell_type": "code",
   "execution_count": 14,
   "metadata": {},
   "outputs": [],
   "source": [
    "def get_prob_dropout(model, eval_dataloader, device, features, examples, n_drop=10):\n",
    "    model = AutoModelForQuestionAnswering.from_pretrained(model_dir).to(device)\n",
    "    \n",
    "    model.train()\n",
    "    prob_dict = {}\n",
    "    for_check = []\n",
    "    \n",
    "    for i in range(n_drop):\n",
    "        start_logits = []\n",
    "        end_logits = []\n",
    "        for batch in tqdm(eval_dataloader, desc=\"Evaluating_prob_dropout\"):\n",
    "            batch = {key: value.to(device) for key, value in batch.items()}\n",
    "            with torch.no_grad():\n",
    "                outputs = model(**batch)\n",
    "\n",
    "            start_logits.append(outputs.start_logits.cpu().numpy())\n",
    "            end_logits.append(outputs.end_logits.cpu().numpy())\n",
    "\n",
    "        start_logits = np.concatenate(start_logits)\n",
    "        end_logits = np.concatenate(end_logits)\n",
    "        start_logits = start_logits[: len(features)]\n",
    "        end_logits = end_logits[: len(features)]\n",
    "\n",
    "        example_to_features = collections.defaultdict(list)\n",
    "        max_answer_length = 30\n",
    "        n_best = 20\n",
    "            \n",
    "        for idx, feature in enumerate(features):\n",
    "            example_to_features[feature[\"example_id\"]].append(idx)\n",
    "\n",
    "        n = 0\n",
    "        for example in tqdm(examples):\n",
    "            example_id = example[\"id\"]\n",
    "            # context = example[\"context\"]\n",
    "            answers = []\n",
    "\n",
    "            # Loop through all features associated with that example\n",
    "            for feature_index in example_to_features[example_id]:\n",
    "                start_logit = start_logits[feature_index]\n",
    "                end_logit = end_logits[feature_index]\n",
    "                offsets = features[feature_index][\"offset_mapping\"]\n",
    "\n",
    "                start_indexes = np.argsort(start_logit)[-1 : -n_best - 1 : -1].tolist()\n",
    "                end_indexes = np.argsort(end_logit)[-1 : -n_best - 1 : -1].tolist()\n",
    "                for start_index in start_indexes:\n",
    "                    for end_index in end_indexes:\n",
    "                        # Skip answers that are not fully in the context\n",
    "                        if offsets[start_index] is None or offsets[end_index] is None:\n",
    "                            continue\n",
    "                        # Skip answers with a length that is either < 0 or > max_answer_length\n",
    "                        if (\n",
    "                            end_index < start_index\n",
    "                            or end_index - start_index + 1 > max_answer_length\n",
    "                        ):\n",
    "                            continue\n",
    "\n",
    "                        answers.append(start_logit[start_index] + end_logit[end_index])\n",
    "\n",
    "            \n",
    "            if 1 < len(answers) < 150:\n",
    "                zero_list = [0] * (150 - len(answers))\n",
    "                answers.extend(zero_list)\n",
    "            else:\n",
    "                answers[:150]\n",
    "\n",
    "            if len(answers) > 1:\n",
    "                if example_to_features[example_id][0] not in prob_dict:\n",
    "                    prob_dict[example_to_features[example_id][0]] = softmax(answers)\n",
    "                else:\n",
    "                    prob_dict[example_to_features[example_id][0]] += softmax(answers)\n",
    "            elif example_to_features[example_id] != []:\n",
    "                if example_to_features[example_id][0] not in prob_dict:\n",
    "                    prob_dict[example_to_features[example_id][0]] = np.array([0])\n",
    "            # if n == 0 and len(softmax(answers)) > 1:\n",
    "            #     for_check.append(answers[:5])\n",
    "            #     n += 1      \n",
    "\n",
    "    for key in prob_dict.keys():\n",
    "        prob_dict[key] /= n_drop\n",
    "    # return prob_dict, for_check\n",
    "    return prob_dict\n",
    "# move to evaluation.py"
   ]
  },
  {
   "attachments": {},
   "cell_type": "markdown",
   "metadata": {},
   "source": [
    "## utils.py"
   ]
  },
  {
   "cell_type": "code",
   "execution_count": 15,
   "metadata": {},
   "outputs": [],
   "source": [
    "def get_unlabel_data(n_pool, labeled_idxs, train_dataset):\n",
    "    unlabeled_idxs = np.arange(n_pool)[~labeled_idxs]\n",
    "    unlabeled_data = train_dataset.select(indices=unlabeled_idxs)\n",
    "    return unlabeled_idxs, unlabeled_data"
   ]
  },
  {
   "cell_type": "code",
   "execution_count": 16,
   "metadata": {},
   "outputs": [],
   "source": [
    "def softmax(x): \n",
    "    \"\"\"Compute softmax values for each sets of scores in x.\"\"\"\n",
    "    return np.exp(x) / np.sum(np.exp(x), axis=0)"
   ]
  },
  {
   "attachments": {},
   "cell_type": "markdown",
   "metadata": {},
   "source": [
    "## Query"
   ]
  },
  {
   "cell_type": "code",
   "execution_count": 17,
   "metadata": {},
   "outputs": [],
   "source": [
    "def random_sampling_query(labeled_idxs, n):\n",
    "    return np.random.choice(np.where(labeled_idxs==0)[0], n, replace=False)"
   ]
  },
  {
   "cell_type": "code",
   "execution_count": 18,
   "metadata": {},
   "outputs": [],
   "source": [
    "# import DataLoader\n",
    "# import default_data_collator\n",
    "import itertools\n",
    "def margin_sampling_query(n_pool, labeled_idxs, train_dataset, train_features, examples, model, device, n):\n",
    "    # deepAL+: unlabeled_idxs, unlabeled_data = self.dataset.get_unlabeled_data()\n",
    "    unlabeled_idxs, unlabeled_data = get_unlabel_data(n_pool, labeled_idxs, train_dataset)\n",
    "    unlabeled_features = train_features.select(unlabeled_idxs)\n",
    "    \n",
    "    unlabeled_dataloader = DataLoader(\n",
    "\t\tunlabeled_data,\n",
    "\t\tshuffle=True,\n",
    "\t\tcollate_fn=default_data_collator,\n",
    "\t\tbatch_size=8,\n",
    "\t)\n",
    "    print('GET PROB!!')\n",
    "    print('num_dataset:', len(unlabeled_dataloader.dataset))\n",
    "    # deepAL+: probs = self.predict_prob(unlabeled_data)\n",
    "    prob_dict = get_prob(model, unlabeled_dataloader, device, unlabeled_features, examples)\n",
    "    \n",
    "    # deepAL+: probs_sorted, _ = probs.sort(descending=True)\n",
    "    # deepAL+: uncertainties = probs_sorted[:, 0] - probs_sorted[:,1]\n",
    "    uncertainties_dict = {}\n",
    "    for idx, probs in prob_dict.items():\n",
    "        if len(probs) > 1: # if prob_dict['probs'] is not 0\n",
    "            sort_probs = np.sort(probs)[::-1] # This method returns a copy of the array, leaving the original array unchanged.\n",
    "            uncertainties = sort_probs[0] - sort_probs[1]\n",
    "            uncertainties_dict[idx] = uncertainties\n",
    "        elif idx:\n",
    "            uncertainties_dict[idx] = np.array([0])\n",
    "\n",
    "    # deepAL+: return unlabeled_idxs[uncertainties.sort()[1][:n]] \n",
    "    sorted_uncertainties_list = sorted(uncertainties_dict.items(), key=lambda x: x[1], reverse=True)\n",
    "    \n",
    "    return unlabeled_idxs[[idx for (idx, uncertainties) in sorted_uncertainties_list[:n]]]"
   ]
  },
  {
   "cell_type": "code",
   "execution_count": 19,
   "metadata": {},
   "outputs": [],
   "source": [
    "def least_confidence_query(n_pool, labeled_idxs, train_dataset, trainer_qs, example, n):\n",
    "    # deepAL+: unlabeled_idxs, unlabeled_data = self.dataset.get_unlabeled_data()\n",
    "    unlabeled_idxs, unlabeled_data = get_unlabel_data(n_pool, labeled_idxs, train_dataset)\n",
    "    \n",
    "    # deepAL+: probs = self.predict_prob(unlabeled_data)\n",
    "    prob_list_dict = get_prob(trainer_qs, unlabeled_data, example)\n",
    "    \n",
    "    # deepAL+: uncertainties = probs.max(1)[0]\n",
    "    confidence_list_dict = []\n",
    "    for d in prob_list_dict:\n",
    "        if len(d['probs']) > 1: # if prob_dict['probs'] is not 0\n",
    "            confidence = max(d['probs'])\n",
    "            confidence_list_dict.append(\n",
    "                {'idx': d['idx'], \n",
    "                    'confidence': confidence}\n",
    "                    )\n",
    "        elif d['idx']:\n",
    "            confidence_list_dict.append(\n",
    "                {'idx': d['idx'], \n",
    "                    'confidence': np.array([0])}\n",
    "                    )\n",
    "    # deepAL+: return unlabeled_idxs[uncertainties.sort()[1][:n]]\n",
    "    sorted_confidence_dict = sorted(confidence_list_dict, key=lambda d: d['confidence'])   \n",
    "    return unlabeled_idxs[[confidence_dict['idx'][0] for confidence_dict in sorted_confidence_dict[:n]]]"
   ]
  },
  {
   "cell_type": "code",
   "execution_count": 20,
   "metadata": {},
   "outputs": [],
   "source": [
    "def var_ratio_query(n_pool, labeled_idxs, train_dataset, trainer_qs, example, n):\n",
    "    # deepAL+: unlabeled_idxs, unlabeled_data = self.dataset.get_unlabeled_data()\n",
    "    unlabeled_idxs, unlabeled_data = get_unlabel_data(n_pool, labeled_idxs, train_dataset)\n",
    "    \n",
    "    # deepAL+: probs = self.predict_prob(unlabeled_data)\n",
    "    prob_list_dict = get_prob(trainer_qs, unlabeled_data, example)\n",
    "    \n",
    "    # deepAL+: preds = torch.max(probs, 1)[0]\n",
    "    # deepAL+: uncertainties = 1.0 - preds\n",
    "    confidence_list_dict = []\n",
    "    for d in prob_list_dict:\n",
    "        if len(d['probs']) > 1: # if prob_dict['probs'] is not 0\n",
    "            confidence = max(d['probs'])\n",
    "            confidence_list_dict.append(\n",
    "                {'idx': d['idx'], \n",
    "                    'confidence': 1 - confidence}\n",
    "                    )\n",
    "        elif d['idx']:\n",
    "            confidence_list_dict.append(\n",
    "                {'idx': d['idx'], \n",
    "                    'confidence': np.array([0])}\n",
    "                    )\n",
    "\n",
    "    # deepAL+: return unlabeled_idxs[uncertainties.sort(descending=True)[1][:n]]\n",
    "    sorted_confidence_dict = sorted(confidence_list_dict, key=lambda d: d['confidence'], reverse=True)\n",
    "    return unlabeled_idxs[[confidence_dict['idx'][0] for confidence_dict in sorted_confidence_dict[:n]]]\n",
    "# comment for the same query as LC"
   ]
  },
  {
   "cell_type": "code",
   "execution_count": 21,
   "metadata": {},
   "outputs": [],
   "source": [
    "def entropy_query(n_pool, labeled_idxs, train_dataset, trainer_qs, example, n):\n",
    "    # deepAL+: unlabeled_idxs, unlabeled_data = self.dataset.get_unlabeled_data()\n",
    "    unlabeled_idxs, unlabeled_data = get_unlabel_data(n_pool, labeled_idxs, train_dataset)\n",
    "    \n",
    "    # deepAL+: probs = self.predict_prob(unlabeled_data)\n",
    "    prob_list_dict = get_prob(trainer_qs, unlabeled_data, example)\n",
    "    \n",
    "    # deepAL+: log_probs = torch.log(probs)\n",
    "    # deepAL+: uncertainties = (probs*log_probs).sum(1)\n",
    "    entropy_list_dict = []\n",
    "    for d in prob_list_dict:\n",
    "        if len(d['probs']) > 1: # if prob_dict['probs'] is not 0\n",
    "            log_probs = np.log(d['probs'])\n",
    "            entropy_list_dict.append(\n",
    "                {'idx': d['idx'], \n",
    "                'entropy': (d['probs']*log_probs).sum()}\n",
    "                )\n",
    "        elif d['idx']:\n",
    "            entropy_list_dict.append(\n",
    "                {'idx': d['idx'], \n",
    "                'entropy': np.array([0])}\n",
    "                )\n",
    "    # deepAL+: return unlabeled_idxs[uncertainties.sort()[1][:n]] # use smallest Entropy\n",
    "    sorted_entropy_dict = sorted(entropy_list_dict, key=lambda d: d['entropy'], reverse=True) # use largest Entropy, different from deepAL+\n",
    "    return unlabeled_idxs[[entropy_dict['idx'][0] for entropy_dict in sorted_entropy_dict[:n]]]"
   ]
  },
  {
   "attachments": {},
   "cell_type": "markdown",
   "metadata": {},
   "source": [
    "# main.py"
   ]
  },
  {
   "attachments": {},
   "cell_type": "markdown",
   "metadata": {},
   "source": [
    "### parameters"
   ]
  },
  {
   "cell_type": "code",
   "execution_count": 22,
   "metadata": {},
   "outputs": [],
   "source": [
    "NUM_QUERY = args_input_batch\n",
    "NUM_INIT_LB = args_input_initseed\n",
    "NUM_ROUND = int(args_input_quota / args_input_batch)\n",
    "DATA_NAME = args_input_dataset_name\n",
    "STRATEGY_NAME = args_input_ALstrategy"
   ]
  },
  {
   "attachments": {},
   "cell_type": "markdown",
   "metadata": {},
   "source": [
    "### seed and device"
   ]
  },
  {
   "cell_type": "code",
   "execution_count": 23,
   "metadata": {},
   "outputs": [],
   "source": [
    "SEED = 4666\n",
    "# os.environ['TORCH_HOME']='./basicmodel'\n",
    "os.environ[\"CUDA_VISIBLE_DEVICES\"] = str(3)\n",
    "\n",
    "# fix random seed\n",
    "np.random.seed(SEED)\n",
    "torch.manual_seed(SEED)\n",
    "# torch.backends.cudnn.enabled  = True\n",
    "# torch.backends.cudnn.benchmark= True\n",
    "\n",
    "device = torch.device(\"cuda\" if torch.cuda.is_available() else \"cpu\")"
   ]
  },
  {
   "attachments": {},
   "cell_type": "markdown",
   "metadata": {},
   "source": [
    "### start experiment"
   ]
  },
  {
   "cell_type": "code",
   "execution_count": 24,
   "metadata": {},
   "outputs": [],
   "source": [
    "iteration = args_input_iteration\n",
    "model_batch = args_input_model_batch\n",
    "num_train_epochs = 3\n",
    "\n",
    "all_acc = []\n",
    "acq_time = []\n",
    "\n",
    "# Change \"fp16_training\" to True to support automatic mixed precision training (fp16)\t\n",
    "fp16_training = False\n",
    "\n",
    "if fp16_training:\n",
    "    !pip install accelerate==0.2.0\n",
    "    from accelerate import Accelerator\n",
    "    accelerator = Accelerator(fp16=True)\n",
    "    device = accelerator.device"
   ]
  },
  {
   "cell_type": "code",
   "execution_count": 26,
   "metadata": {},
   "outputs": [
    {
     "name": "stderr",
     "output_type": "stream",
     "text": [
      "Some weights of the model checkpoint at bert-base-uncased were not used when initializing BertForQuestionAnswering: ['cls.predictions.transform.LayerNorm.bias', 'cls.predictions.transform.LayerNorm.weight', 'cls.predictions.bias', 'cls.seq_relationship.bias', 'cls.seq_relationship.weight', 'cls.predictions.transform.dense.bias', 'cls.predictions.transform.dense.weight']\n",
      "- This IS expected if you are initializing BertForQuestionAnswering from the checkpoint of a model trained on another task or with another architecture (e.g. initializing a BertForSequenceClassification model from a BertForPreTraining model).\n",
      "- This IS NOT expected if you are initializing BertForQuestionAnswering from the checkpoint of a model that you expect to be exactly identical (initializing a BertForSequenceClassification model from a BertForSequenceClassification model).\n",
      "Some weights of BertForQuestionAnswering were not initialized from the model checkpoint at bert-base-uncased and are newly initialized: ['qa_outputs.weight', 'qa_outputs.bias']\n",
      "You should probably TRAIN this model on a down-stream task to be able to use it for predictions and inference.\n"
     ]
    },
    {
     "name": "stdout",
     "output_type": "stream",
     "text": [
      "SQuAD\n",
      "MarginSampling\n",
      "TRAIN!!\n",
      "num_dataset: 100\n"
     ]
    },
    {
     "name": "stderr",
     "output_type": "stream",
     "text": [
      "100%|██████████| 39/39 [00:19<00:00,  2.02it/s]\n",
      "100%|██████████| 128/128 [00:24<00:00,  5.33it/s]\n",
      "100%|██████████| 1000/1000 [00:09<00:00, 104.17it/s]\n"
     ]
    }
   ],
   "source": [
    "# model_0 = AutoModelForQuestionAnswering.from_pretrained(\"bert-base-uncased\").to(device)\n",
    "# optimizer_0 = AdamW(model_0.parameters(), lr=1e-4)\n",
    "model = AutoModelForQuestionAnswering.from_pretrained(\"bert-base-uncased\").to(device)\n",
    "optimizer = AdamW(model.parameters(), lr=1e-4)\n",
    "\n",
    "start = datetime.datetime.now()\n",
    "\n",
    "## generate initial labeled pool\n",
    "n_pool = len(train_dataset)\n",
    "labeled_idxs = np.zeros(n_pool, dtype=bool)\n",
    "\n",
    "tmp_idxs = np.arange(n_pool)\n",
    "np.random.shuffle(tmp_idxs)\n",
    "labeled_idxs[tmp_idxs[:args_input_initseed]] = True\n",
    "\n",
    "run_0_labeled_idxs = np.arange(n_pool)[labeled_idxs] \n",
    "\n",
    "## record acc performance \n",
    "acc = np.zeros(NUM_ROUND + 1) # build 3 runs + run_0 # origin 10 runs + run_0\n",
    "\n",
    "## load the selected train data to DataLoader\n",
    "train_dataloader_0 = DataLoader(\n",
    "    train_dataset.select(indices=run_0_labeled_idxs),\n",
    "    shuffle=True,\n",
    "    collate_fn=default_data_collator,\n",
    "    batch_size=8,\n",
    ")\n",
    "\n",
    "eval_dataloader = DataLoader(\n",
    "    val_dataset, \n",
    "    collate_fn=default_data_collator, \n",
    "    batch_size=8\n",
    ")\n",
    "\n",
    "num_update_steps_per_epoch = len(train_dataloader_0)\n",
    "num_training_steps = num_train_epochs * num_update_steps_per_epoch\n",
    "\n",
    "lr_scheduler = get_scheduler(\n",
    "    \"linear\",\n",
    "    optimizer=optimizer,\n",
    "    num_warmup_steps=0,\n",
    "    num_training_steps=num_training_steps,\n",
    ")\n",
    "\n",
    "# lr_scheduler_0 = get_scheduler(\n",
    "#     \"linear\",\n",
    "#     optimizer=optimizer_0,\n",
    "#     num_warmup_steps=0,\n",
    "#     num_training_steps=num_training_steps,\n",
    "# )\n",
    "\n",
    "\n",
    "## print info\n",
    "print(DATA_NAME)\n",
    "# print('RANDOM SEED {}'.format(SEED))\n",
    "print(STRATEGY_NAME) # print(type(strategy).__name__)\n",
    "\n",
    "## round 0 accuracy \n",
    "# model_train(num_training_steps, num_train_epochs, train_dataloader_0, device, model_0, optimizer_0, lr_scheduler_0)\n",
    "model_train(num_training_steps, num_train_epochs, train_dataloader_0, device, model, optimizer, lr_scheduler)\n",
    "\n",
    "acc[0] = get_pred(model, eval_dataloader, device, val_features, squad['validation'])\n",
    "# acc[0] = get_pred(model_0, eval_dataloader, device, val_features, squad['validation'])['f1']"
   ]
  },
  {
   "cell_type": "code",
   "execution_count": 27,
   "metadata": {},
   "outputs": [
    {
     "name": "stdout",
     "output_type": "stream",
     "text": [
      "GET PROB!!\n",
      "num_dataset: 2974\n"
     ]
    },
    {
     "name": "stderr",
     "output_type": "stream",
     "text": [
      "100%|██████████| 372/372 [01:12<00:00,  5.15it/s]\n",
      "100%|██████████| 3000/3000 [00:59<00:00, 50.54it/s]\n"
     ]
    },
    {
     "name": "stdout",
     "output_type": "stream",
     "text": [
      "train_dataloader_rd len: 135\n",
      "TRAIN!!\n",
      "num_dataset: 135\n"
     ]
    },
    {
     "name": "stderr",
     "output_type": "stream",
     "text": [
      "100%|██████████| 51/51 [00:25<00:00,  2.02it/s]\n",
      "100%|██████████| 128/128 [00:24<00:00,  5.28it/s]\n",
      "100%|██████████| 1000/1000 [00:09<00:00, 101.86it/s]\n"
     ]
    },
    {
     "name": "stdout",
     "output_type": "stream",
     "text": [
      "testing accuracy 16.34348007927272\n",
      "\n",
      "\n"
     ]
    }
   ],
   "source": [
    "rd = 1\n",
    "# model_rd = AutoModelForQuestionAnswering.from_pretrained(model_saved_dir_rd).to(device)\n",
    "# optimizer_rd = AdamW(model_rd.parameters(), lr=1e-4)\n",
    "\n",
    "# lr_scheduler_rd = get_scheduler(\n",
    "#     \"linear\",\n",
    "#     optimizer=optimizer_rd,\n",
    "#     num_warmup_steps=0,\n",
    "#     num_training_steps=num_training_steps,\n",
    "# )\n",
    "\n",
    "## query\n",
    "# q_idxs = margin_sampling_query(n_pool, labeled_idxs, train_dataset, train_features, squad['train'], model_rd, device, NUM_QUERY)\n",
    "q_idxs = margin_sampling_query(n_pool, labeled_idxs, train_dataset, train_features, squad['train'], model, device, NUM_QUERY)\n",
    "\n",
    "labeled_idxs[q_idxs] = True\n",
    "run_rd_labeled_idxs = np.arange(n_pool)[labeled_idxs]\n",
    "\n",
    "## load the selected train data to DataLoader\n",
    "train_dataloader_rd = DataLoader(\n",
    "    train_dataset.select(indices=run_rd_labeled_idxs),\n",
    "    shuffle=True,\n",
    "    collate_fn=default_data_collator,\n",
    "    batch_size=8,\n",
    ")\n",
    "\n",
    "num_update_steps_per_epoch = len(train_dataloader_rd)\n",
    "num_training_steps = num_train_epochs * num_update_steps_per_epoch\n",
    "\n",
    "print('train_dataloader_rd len:', len(train_dataloader_rd.dataset))\n",
    "## train\n",
    "# model_train(num_training_steps, num_train_epochs, train_dataloader_rd, device, model_rd, optimizer_rd, lr_scheduler_rd)\n",
    "model_train(num_training_steps, num_train_epochs, train_dataloader_rd, device, model, optimizer, lr_scheduler)\n",
    "\n",
    "## round rd accuracy\n",
    "# acc[rd] = get_pred(model_rd, eval_dataloader, device, val_features, squad['validation'])['f1']\n",
    "acc[rd] = get_pred(model, eval_dataloader, device, val_features, squad['validation'])\n",
    "print('testing accuracy {}'.format(acc[rd]))\n",
    "print('\\n')\n",
    "\n",
    "torch.cuda.empty_cache()"
   ]
  },
  {
   "cell_type": "code",
   "execution_count": 28,
   "metadata": {},
   "outputs": [
    {
     "data": {
      "text/plain": [
       "array([16.34348008, 16.34348008,  0.        ])"
      ]
     },
     "execution_count": 28,
     "metadata": {},
     "output_type": "execute_result"
    }
   ],
   "source": [
    "acc"
   ]
  },
  {
   "cell_type": "code",
   "execution_count": null,
   "metadata": {},
   "outputs": [],
   "source": [
    "rd = 2\n",
    "# model_rd = AutoModelForQuestionAnswering.from_pretrained(model_saved_dir_rd).to(device)\n",
    "# optimizer_rd = AdamW(model_rd.parameters(), lr=1e-4)\n",
    "\n",
    "# lr_scheduler_rd = get_scheduler(\n",
    "#     \"linear\",\n",
    "#     optimizer=optimizer_rd,\n",
    "#     num_warmup_steps=0,\n",
    "#     num_training_steps=num_training_steps,\n",
    "# )\n",
    "\n",
    "## query\n",
    "# q_idxs = margin_sampling_query(n_pool, labeled_idxs, train_dataset, train_features, squad['train'], model_rd, device, NUM_QUERY)\n",
    "q_idxs = margin_sampling_query(n_pool, labeled_idxs, train_dataset, train_features, squad['train'], model, device, NUM_QUERY)\n",
    "\n",
    "labeled_idxs[q_idxs] = True\n",
    "run_rd_labeled_idxs = np.arange(n_pool)[labeled_idxs]\n",
    "\n",
    "## load the selected train data to DataLoader\n",
    "train_dataloader_rd = DataLoader(\n",
    "    train_dataset.select(indices=run_rd_labeled_idxs),\n",
    "    shuffle=True,\n",
    "    collate_fn=default_data_collator,\n",
    "    batch_size=8,\n",
    ")\n",
    "\n",
    "num_update_steps_per_epoch = len(train_dataloader_rd)\n",
    "num_training_steps = num_train_epochs * num_update_steps_per_epoch\n",
    "\n",
    "print('train_dataloader_rd len:', len(train_dataloader_rd.dataset))\n",
    "## train\n",
    "# model_train(num_training_steps, num_train_epochs, train_dataloader_rd, device, model_rd, optimizer_rd, lr_scheduler_rd)\n",
    "model_train(num_training_steps, num_train_epochs, train_dataloader_rd, device, model, optimizer, lr_scheduler)\n",
    "\n",
    "## round rd accuracy\n",
    "# acc[rd] = get_pred(model_rd, eval_dataloader, device, val_features, squad['validation'])['f1']\n",
    "acc[rd] = get_pred(model, eval_dataloader, device, val_features, squad['validation'])['f1']\n",
    "print('testing accuracy {}'.format(acc[rd]))\n",
    "print('\\n')\n",
    "\n",
    "torch.cuda.empty_cache()"
   ]
  },
  {
   "cell_type": "code",
   "execution_count": null,
   "metadata": {},
   "outputs": [],
   "source": [
    "# repeate # iteration trials\n",
    "while (iteration > 0): \n",
    "\titeration = iteration - 1\n",
    "\n",
    "\t## data, network, strategy\n",
    "\tmodel_0 = AutoModelForQuestionAnswering.from_pretrained(\"bert-base-uncased\").to(device)\n",
    "\toptimizer_0 = AdamW(model_0.parameters(), lr=1e-4)\n",
    "\t# model = AutoModelForQuestionAnswering.from_pretrained(\"bert-base-uncased\").to(device)\n",
    "\t# optimizer = AdamW(model.parameters(), lr=1e-4)\n",
    "\n",
    "\tstart = datetime.datetime.now()\n",
    "\n",
    "\t## generate initial labeled pool\n",
    "\tn_pool = len(train_dataset)\n",
    "\tlabeled_idxs = np.zeros(n_pool, dtype=bool)\n",
    "\n",
    "\ttmp_idxs = np.arange(n_pool)\n",
    "\tnp.random.shuffle(tmp_idxs)\n",
    "\tlabeled_idxs[tmp_idxs[:args_input_initseed]] = True\n",
    "\n",
    "\trun_0_labeled_idxs = np.arange(n_pool)[labeled_idxs] \n",
    "\t\n",
    "\t## record acc performance \n",
    "\tacc = np.zeros(NUM_ROUND + 1) # build 3 runs + run_0 # origin 10 runs + run_0\n",
    "\t\n",
    "\t## load the selected train data to DataLoader\n",
    "\ttrain_dataloader_0 = DataLoader(\n",
    "\t\ttrain_dataset.select(indices=run_0_labeled_idxs),\n",
    "\t\tshuffle=True,\n",
    "\t\tcollate_fn=default_data_collator,\n",
    "\t\tbatch_size=8,\n",
    "\t)\n",
    "\n",
    "\teval_dataloader = DataLoader(\n",
    "\t\tval_dataset, \n",
    "\t\tcollate_fn=default_data_collator, \n",
    "\t\tbatch_size=8\n",
    "\t)\n",
    "\n",
    "\tnum_update_steps_per_epoch = len(train_dataloader_0)\n",
    "\tnum_training_steps = num_train_epochs * num_update_steps_per_epoch\n",
    "\n",
    "\tlr_scheduler_0 = get_scheduler(\n",
    "\t\t\"linear\",\n",
    "\t\toptimizer=optimizer_0,\n",
    "\t\tnum_warmup_steps=0,\n",
    "\t\tnum_training_steps=num_training_steps,\n",
    "\t)\n",
    "\n",
    "\n",
    "\t## print info\n",
    "\tprint(DATA_NAME)\n",
    "\t# print('RANDOM SEED {}'.format(SEED))\n",
    "\tprint(STRATEGY_NAME) # print(type(strategy).__name__)\n",
    "\t\n",
    "\t## round 0 accuracy \n",
    "\tmodel_train(num_training_steps, num_train_epochs, train_dataloader_0, device, model_0, optimizer_0, lr_scheduler_0)\n",
    "\t# model_train(num_training_steps, num_train_epochs, train_dataloader, device, model, optimizer, lr_scheduler)\n",
    "\n",
    "\tacc[0] = get_pred(model_0, eval_dataloader, device, val_features, squad['validation'])['f1']\n",
    "\n",
    "\tprint('Round 0\\ntesting accuracy {}'.format(acc[0]))\n",
    "\tprint('\\n')\n",
    "\n",
    "\tmodel_saved_dir_0 = 'models/train_bert_squad_0.bin'\n",
    "\t# if not os.path.exists(model_saved_dir_0): os.mkdir(model_saved_dir_0)\n",
    "\ttorch.save(model_0.state_dict(), model_saved_dir_0)\n",
    "\n",
    "\tmodel_saved_dir_rd = model_saved_dir_0\n",
    "\t\n",
    "\t## round 1 to rd\n",
    "\tfor rd in range(1, NUM_ROUND+1):\n",
    "\t\tprint('Round {}'.format(rd))\n",
    "\n",
    "\t\tmodel_rd = AutoModelForQuestionAnswering.from_pretrained(model_saved_dir_rd).to(device)\n",
    "\t\toptimizer_rd = AdamW(model_rd.parameters(), lr=1e-4)\n",
    "\n",
    "\t\tlr_scheduler_rd = get_scheduler(\n",
    "\t\t\t\"linear\",\n",
    "\t\t\toptimizer=optimizer_rd,\n",
    "\t\t\tnum_warmup_steps=0,\n",
    "\t\t\tnum_training_steps=num_training_steps,\n",
    "\t\t)\n",
    "\n",
    "\t\t## query\n",
    "\t\tif STRATEGY_NAME == 'RandomSampling':\n",
    "\t\t\tq_idxs = random_sampling_query(labeled_idxs, NUM_QUERY)\n",
    "\t\telif STRATEGY_NAME == 'MarginSampling':\n",
    "\t\t\tq_idxs = margin_sampling_query(n_pool, labeled_idxs, train_dataset, train_features, squad['train'], model_rd, device, NUM_QUERY)\n",
    "\t\t# elif STRATEGY_NAME == 'LeastConfidence':\n",
    "\t\t# \tq_idxs = least_confidence_query(n_pool, labeled_idxs, train_dataset, trainer_qs, squad['train'], NUM_QUERY)\n",
    "\t\t# elif STRATEGY_NAME == 'EntropySampling':\n",
    "\t\t# \tq_idxs = entropy_query(n_pool, labeled_idxs, train_dataset, trainer_qs, squad['train'], NUM_QUERY)\n",
    "\t\t# elif STRATEGY_NAME == 'MarginSamplingDropout':\n",
    "\t\t# \tq_idxs = margin_sampling_dropout_query(n_pool, labeled_idxs, train_dataset, trainer_qs, squad['train'], NUM_QUERY)\n",
    "\t\t# elif STRATEGY_NAME == 'LeastConfidenceDropout':\n",
    "\t\t# \tq_idxs = least_confidence_dropout_query(n_pool, labeled_idxs, train_dataset, trainer_qs, squad['train'], NUM_QUERY)\n",
    "\t\t# elif STRATEGY_NAME == 'EntropySamplingDropout':\n",
    "\t\t# \tq_idxs = entropy_dropout_query(n_pool, labeled_idxs, train_dataset, trainer_qs, squad['train'], NUM_QUERY)\n",
    "\t\t# elif STRATEGY_NAME == 'VarRatio':\n",
    "\t\t# \tq_idxs = var_ratio_query(n_pool, labeled_idxs, train_dataset, trainer_qs, squad['train'], NUM_QUERY)\n",
    "\t\t\n",
    "\t\t## update\n",
    "\t\t\n",
    "\t\tlabeled_idxs[q_idxs] = True\n",
    "\t\trun_rd_labeled_idxs = np.arange(n_pool)[labeled_idxs]\n",
    "\t\t\n",
    "\t\t## load the selected train data to DataLoader\n",
    "\t\ttrain_dataloader_rd = DataLoader(\n",
    "\t\t\ttrain_dataset.select(indices=run_rd_labeled_idxs),\n",
    "\t\t\tshuffle=True,\n",
    "\t\t\tcollate_fn=default_data_collator,\n",
    "\t\t\tbatch_size=8,\n",
    "\t\t)\n",
    "\n",
    "\t\tnum_update_steps_per_epoch = len(train_dataloader_rd)\n",
    "\t\tnum_training_steps = num_train_epochs * num_update_steps_per_epoch\n",
    "\t\t\n",
    "\t\tprint('train_dataloader_rd len:', len(train_dataloader_rd.dataset))\n",
    "\t\t## train\n",
    "\t\tmodel_train(num_training_steps, num_train_epochs, train_dataloader_rd, device, model_rd, optimizer_rd, lr_scheduler_rd)\n",
    "\t\t# model_train(num_training_steps, num_train_epochs, train_dataloader_rd, device, model, optimizer, lr_scheduler)\n",
    "\n",
    "\t\t## round rd accuracy\n",
    "\t\tacc[rd] = get_pred(model_rd, eval_dataloader, device, val_features, squad['validation'])['f1']\n",
    "\t\tprint('testing accuracy {}'.format(acc[rd]))\n",
    "\t\tprint('\\n')\n",
    "\n",
    "\t\tmodel_saved_dir_rd = 'models/train_bert_squad_' + rd + '.bin'\n",
    "\t\t# if not os.path.exists(model_saved_dir_rd): os.mkdir(model_saved_dir_rd)\n",
    "\t\ttorch.save(model_rd.state_dict(), model_saved_dir_rd)\n",
    "\n",
    "\t\ttorch.cuda.empty_cache()\n",
    "\t\n",
    "\t## print results\n",
    "\tprint('SEED {}'.format(SEED))\n",
    "\tprint(STRATEGY_NAME)\n",
    "\tprint(acc)\n",
    "\tall_acc.append(acc)\n",
    "\t\n",
    "\t## record acq time\n",
    "\ttimestamp = re.sub('\\.[0-9]*','_',str(datetime.datetime.now())).replace(\" \", \"_\").replace(\"-\", \"\").replace(\":\",\"\")\n",
    "\tmodel_saved_dir = model_dir + '/' + timestamp + DATA_NAME + '_'  + STRATEGY_NAME + '_' + str(NUM_QUERY) + '_' + str(NUM_INIT_LB) +  '_' + str(args_input_quota) + '.bin' #str(args_input.quota)\n",
    "\t# if not os.path.exists(model_saved_dir): os.mkdir(model_saved_dir)\n",
    "\tend = datetime.datetime.now()\n",
    "\tacq_time.append(round(float((end-start).seconds), 3))\n",
    "\t# torch.save(model.state_dict(), model_saved_dir)\n"
   ]
  },
  {
   "cell_type": "code",
   "execution_count": null,
   "metadata": {},
   "outputs": [],
   "source": [
    "all_acc"
   ]
  },
  {
   "attachments": {},
   "cell_type": "markdown",
   "metadata": {},
   "source": [
    "## query workspace"
   ]
  },
  {
   "cell_type": "code",
   "execution_count": null,
   "metadata": {},
   "outputs": [],
   "source": [
    "# get unlable data\n",
    "unlabeled_idxs = np.arange(n_pool)[~labeled_idxs]\n",
    "unlabeled_data = train_dataset.select(indices=unlabeled_idxs)\n",
    "len(unlabeled_idxs)"
   ]
  },
  {
   "attachments": {},
   "cell_type": "markdown",
   "metadata": {},
   "source": [
    "### test: query 5 data from 20 unlabeled_data"
   ]
  },
  {
   "cell_type": "code",
   "execution_count": null,
   "metadata": {},
   "outputs": [],
   "source": [
    "# smaller data\n",
    "unlabeled_idxs_20 = unlabeled_idxs[20:40]\n",
    "unlabeled_data_20 = train_dataset.select(unlabeled_idxs_20)\n",
    "unlabeled_feature_20 = train_features.select(unlabeled_idxs_20)\n",
    "len(unlabeled_data_20)"
   ]
  },
  {
   "cell_type": "code",
   "execution_count": null,
   "metadata": {},
   "outputs": [],
   "source": [
    "unlabeled_idxs_20"
   ]
  },
  {
   "cell_type": "code",
   "execution_count": null,
   "metadata": {},
   "outputs": [],
   "source": [
    "unlabeled_dataloader = DataLoader(\n",
    "\t\tunlabeled_data_20,\n",
    "\t\tshuffle=True,\n",
    "\t\tcollate_fn=default_data_collator,\n",
    "\t\tbatch_size=8,\n",
    "\t)\n",
    "len(unlabeled_dataloader.dataset)"
   ]
  },
  {
   "cell_type": "code",
   "execution_count": null,
   "metadata": {},
   "outputs": [],
   "source": [
    "probs_list_dict_20 = get_prob(model, unlabeled_dataloader, device, unlabeled_feature_20, squad['train'])\n",
    "# len(probs_list_dict_20)"
   ]
  },
  {
   "cell_type": "code",
   "execution_count": null,
   "metadata": {},
   "outputs": [],
   "source": [
    "probs_list_dict_20"
   ]
  },
  {
   "cell_type": "code",
   "execution_count": null,
   "metadata": {},
   "outputs": [],
   "source": [
    "uncertainties_dict = {}\n",
    "for idx, probs in probs_list_dict_20.items():\n",
    "    if len(probs) > 1: # if prob_dict['probs'] is not 0\n",
    "        sort_probs = np.sort(probs)[::-1] # This method returns a copy of the array, leaving the original array unchanged.\n",
    "        uncertainties = sort_probs[0] - sort_probs[1]\n",
    "        uncertainties_dict[idx] = uncertainties\n",
    "    elif idx:\n",
    "        uncertainties_dict[idx] = np.array([0])\n",
    "print('sort_probs:\\n', sort_probs)\n",
    "print('uncertainties_dict:\\n', uncertainties_dict)\n",
    "# deepAL+: return unlabeled_idxs[uncertainties.sort()[1][:n]] \n",
    "sorted_uncertainties_list = sorted(uncertainties_dict.items(), key=lambda x: x[1], reverse=True)\n",
    "    \n",
    "unlabeled_idxs[[idx for (idx, uncertainties) in sorted_uncertainties_list[:5]]]"
   ]
  },
  {
   "cell_type": "code",
   "execution_count": null,
   "metadata": {},
   "outputs": [],
   "source": [
    "def get_prob_dropout(model, eval_dataloader, device, features, examples, n_drop=10):\n",
    "    model.train()\n",
    "    \n",
    "    prob_dict = {}\n",
    "    for_check = []\n",
    "    \n",
    "    for i in range(n_drop):\n",
    "        \n",
    "        start_logits = []\n",
    "        end_logits = []\n",
    "        # accelerator.print(\"Evaluation!\")\n",
    "        for batch in tqdm(eval_dataloader):\n",
    "            batch = {key: value.to(device) for key, value in batch.items()}\n",
    "            with torch.no_grad():\n",
    "                outputs = model(**batch)\n",
    "\n",
    "            start_logits.append(outputs.start_logits.cpu().numpy())\n",
    "            end_logits.append(outputs.end_logits.cpu().numpy())\n",
    "\n",
    "        start_logits = np.concatenate(start_logits)\n",
    "        end_logits = np.concatenate(end_logits)\n",
    "        start_logits = start_logits[: len(val_dataset)]\n",
    "        end_logits = end_logits[: len(val_dataset)]\n",
    "\n",
    "        example_to_features = collections.defaultdict(list)\n",
    "        max_answer_length = 30\n",
    "        n_best = 20\n",
    "            \n",
    "        for idx, feature in enumerate(features):\n",
    "            example_to_features[feature[\"example_id\"]].append(idx)\n",
    "\n",
    "        n = 0\n",
    "        for example in tqdm(examples):\n",
    "            example_id = example[\"id\"]\n",
    "            # context = example[\"context\"]\n",
    "            answers = []\n",
    "\n",
    "            # Loop through all features associated with that example\n",
    "            for feature_index in example_to_features[example_id]:\n",
    "                start_logit = start_logits[feature_index]\n",
    "                end_logit = end_logits[feature_index]\n",
    "                offsets = features[feature_index][\"offset_mapping\"]\n",
    "\n",
    "                start_indexes = np.argsort(start_logit)[-1 : -n_best - 1 : -1].tolist()\n",
    "                end_indexes = np.argsort(end_logit)[-1 : -n_best - 1 : -1].tolist()\n",
    "                for start_index in start_indexes:\n",
    "                    for end_index in end_indexes:\n",
    "                        # Skip answers that are not fully in the context\n",
    "                        if offsets[start_index] is None or offsets[end_index] is None:\n",
    "                            continue\n",
    "                        # Skip answers with a length that is either < 0 or > max_answer_length\n",
    "                        if (\n",
    "                            end_index < start_index\n",
    "                            or end_index - start_index + 1 > max_answer_length\n",
    "                        ):\n",
    "                            continue\n",
    "\n",
    "                        answers.append(start_logit[start_index] + end_logit[end_index])\n",
    "\n",
    "            \n",
    "            if 1 < len(answers) < 150:\n",
    "                zero_list = [0] * (150 - len(answers))\n",
    "                answers.extend(zero_list)\n",
    "            else:\n",
    "                answers[:150]\n",
    "\n",
    "            if len(answers) > 1:\n",
    "                if example_to_features[example_id][0] not in prob_dict:\n",
    "                    prob_dict[example_to_features[example_id][0]] = softmax(answers)\n",
    "                else:\n",
    "                    prob_dict[example_to_features[example_id][0]] += softmax(answers)\n",
    "            elif example_to_features[example_id] != []:\n",
    "                if example_to_features[example_id][0] not in prob_dict:\n",
    "                    prob_dict[example_to_features[example_id][0]] = np.array([0])\n",
    "            # if n == 0 and len(softmax(answers)) > 1:\n",
    "            #     for_check.append(answers[:5])\n",
    "            #     n += 1      \n",
    "\n",
    "    for key in prob_dict.keys():\n",
    "        prob_dict[key] /= n_drop\n",
    "    # return prob_dict, for_check\n",
    "    return prob_dict\n",
    "# move to evaluation.py"
   ]
  },
  {
   "cell_type": "code",
   "execution_count": null,
   "metadata": {},
   "outputs": [],
   "source": [
    "probs_list_dict_20_dropout = get_prob_dropout(model, unlabeled_dataloader, device, unlabeled_data_20, squad['train'])"
   ]
  },
  {
   "cell_type": "code",
   "execution_count": null,
   "metadata": {},
   "outputs": [],
   "source": [
    "for_check\n",
    "# the prediction are the same"
   ]
  },
  {
   "cell_type": "code",
   "execution_count": null,
   "metadata": {},
   "outputs": [],
   "source": [
    "probs_list_dict_20_dropout"
   ]
  },
  {
   "cell_type": "code",
   "execution_count": null,
   "metadata": {},
   "outputs": [],
   "source": [
    "probs_list_dict_20"
   ]
  },
  {
   "cell_type": "code",
   "execution_count": null,
   "metadata": {},
   "outputs": [],
   "source": [
    "confidence_list_dict = []\n",
    "for d in probs_list_dict_20:\n",
    "    if len(d['probs']) > 1: # if prob_dict['probs'] is not 0\n",
    "        confidence = max(d['probs'])\n",
    "        confidence_list_dict.append(\n",
    "            {'idx': d['idx'], \n",
    "                'confidence': confidence}\n",
    "                )\n",
    "    elif d['idx']:\n",
    "        confidence_list_dict.append(\n",
    "            {'idx': d['idx'], \n",
    "                'confidence': np.array([0])}\n",
    "                )\n",
    "# deepAL+: return unlabeled_idxs[uncertainties.sort()[1][:n]]\n",
    "sorted_confidence_dict = sorted(confidence_list_dict, key=lambda d: d['confidence'])   \n",
    "unlabeled_idxs_20[[confidence_dict['idx'][0] for confidence_dict in sorted_confidence_dict[:5]]]"
   ]
  },
  {
   "cell_type": "code",
   "execution_count": null,
   "metadata": {},
   "outputs": [],
   "source": []
  },
  {
   "cell_type": "code",
   "execution_count": null,
   "metadata": {},
   "outputs": [],
   "source": [
    "def get_entropy(prob_list_dict, NUM_QUERY):\n",
    "    entropy_list_dict = []\n",
    "    for d in prob_list_dict:\n",
    "        if len(d['probs']) > 1: # if prob_dict['probs'] is not 0\n",
    "            log_probs = np.log(d['probs'])\n",
    "            entropy_list_dict.append(\n",
    "                {'idx': d['idx'], \n",
    "                'entropy': (d['probs']*log_probs).sum()}\n",
    "                )\n",
    "        elif d['idx']:\n",
    "            entropy_list_dict.append(\n",
    "                {'idx': d['idx'], \n",
    "                'entropy': np.array([0])}\n",
    "                )\n",
    "    # deepAL+: return unlabeled_idxs[uncertainties.sort()[1][:n]] # use smallest Entropy\n",
    "    sorted_entropy_dict = sorted(entropy_list_dict, key=lambda d: d['entropy'], reverse=True) # use largest Entropy, different from deepAL+\n",
    "    return unlabeled_idxs[[entropy_dict['idx'][0] for entropy_dict in sorted_entropy_dict[:NUM_QUERY]]]"
   ]
  },
  {
   "cell_type": "code",
   "execution_count": null,
   "metadata": {},
   "outputs": [],
   "source": [
    "q_idxs_20 = get_entropy(probs_list_dict_20, 5)\n",
    "q_idxs_20"
   ]
  },
  {
   "cell_type": "code",
   "execution_count": null,
   "metadata": {},
   "outputs": [],
   "source": [
    "preds, _, _ = trainer_qs.predict(unlabeled_data_20)"
   ]
  },
  {
   "cell_type": "code",
   "execution_count": null,
   "metadata": {},
   "outputs": [],
   "source": [
    "start_logits, end_logits = preds\n",
    "start_logits"
   ]
  },
  {
   "cell_type": "code",
   "execution_count": null,
   "metadata": {},
   "outputs": [],
   "source": [
    "# predict with unlable data\n",
    "preds, _, _ = trainer_qs.predict(unlabeled_data_20)"
   ]
  },
  {
   "cell_type": "code",
   "execution_count": null,
   "metadata": {},
   "outputs": [],
   "source": [
    "start_logits, end_logits = preds\n",
    "start_logits"
   ]
  },
  {
   "cell_type": "code",
   "execution_count": null,
   "metadata": {},
   "outputs": [],
   "source": [
    "q_idxs = get_entropy(probs_list_dict, NUM_QUERY)\n",
    "q_idxs"
   ]
  }
 ],
 "metadata": {
  "kernelspec": {
   "display_name": "alqa",
   "language": "python",
   "name": "alqa"
  },
  "language_info": {
   "codemirror_mode": {
    "name": "ipython",
    "version": 3
   },
   "file_extension": ".py",
   "mimetype": "text/x-python",
   "name": "python",
   "nbconvert_exporter": "python",
   "pygments_lexer": "ipython3",
   "version": "3.10.8"
  },
  "orig_nbformat": 4,
  "vscode": {
   "interpreter": {
    "hash": "6317ac8a4c65d05b4cf6bac76f72bfaae40b2e9380067c26c20c9afff1d8528e"
   }
  }
 },
 "nbformat": 4,
 "nbformat_minor": 2
}
